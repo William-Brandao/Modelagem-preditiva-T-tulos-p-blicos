{
 "cells": [
  {
   "cell_type": "markdown",
   "id": "51f8cbf1",
   "metadata": {},
   "source": [
    "<small>\n",
    "\n",
    "## 📄 Resumo Executivo – Projeto de Análise e Modelagem Preditiva de Títulos Públicos Federais\n",
    "\n",
    "Este projeto tem como objetivo construir uma estrutura analítica robusta para o estudo e modelagem preditiva de títulos públicos federais — Tesouro IPCA+, Prefixado e Selic — considerando dados históricos de mercado e indicadores econômicos relevantes. A seguir, são descritas as principais etapas e avanços do trabalho.\n",
    "\n",
    "### 1. Configuração e Preparação Inicial\n",
    "Foram importadas bibliotecas essenciais para manipulação de dados, visualização, acesso à API do Banco Central e modelagem estatística. A estrutura do código foi organizada para garantir modularidade e reprodutibilidade.\n",
    "\n",
    "### 2. Coleta e Exploração de Dados\n",
    "Os dados brutos de preços unitários (PU) foram obtidos e segmentados por tipo de título. Foram exploradas suas séries históricas e separadas por vencimento, viabilizando análises individualizadas por instrumento.\n",
    "\n",
    "### 3. Pré-processamento Automatizado\n",
    "Foi implementada a função `preparar_titulos` para padronizar a limpeza e estruturação dos dados de cada título. Isso incluiu o cálculo de retornos acumulados, recorte temporal e padronização de nomes e formatos.\n",
    "\n",
    "### 4. Visualização Exploratória\n",
    "Utilizaram-se gráficos interativos com Plotly para comparar a performance de títulos com diferentes prazos e indexações ao longo do tempo.\n",
    "\n",
    "### 5. Integração de Indicadores Econômicos\n",
    "Foram coletadas séries macroeconômicas, microeconômicas, fiscais e internacionais diretamente da API do Bacen (SGS). As variáveis foram reamostradas trimestralmente e organizadas para uso como features em modelos preditivos.\n",
    "\n",
    "### 6. Consolidação de Títulos\n",
    "Todos os títulos foram organizados em dataframes únicos por tipo e reamostrados para frequência trimestral. Títulos inconsistentes ou com pouca informação foram descartados.\n",
    "\n",
    "### 7. Classificação Dinâmica por Prazo\n",
    "Foi desenvolvida uma lógica que classifica dinamicamente os títulos em curto, médio ou longo prazo, com base na diferença entre a data de observação e o ano de vencimento, possibilitando análises temporais refinadas.\n",
    "\n",
    "### 8. Modelagem Preditiva (em andamento)\n",
    "O projeto prevê a utilização de modelos de regressão e classificação com validação temporal (`TimeSeriesSplit`) para prever movimentos de mercado e permitir estratégias de alocação baseadas em ciclos econômicos.\n",
    "\n",
    "### 9. Avaliação e Próximos Passos\n",
    "O projeto já demonstra forte organização, integração e automação. As próximas etapas incluem:\n",
    "- Implementação da modelagem preditiva binária\n",
    "- Otimização de features\n",
    "- Criação de backtests comparativos (vs. Buy and Hold)\n",
    "- Desenvolvimento de dashboards e integração com APIs\n",
    "\n",
    "### 10. Conclusão\n",
    "A estrutura desenvolvida oferece uma base sólida para decisões quantitativas em renda fixa pública. O projeto está apto a evoluir para estratégias automatizadas de alocação com base em previsões econômicas e ciclos de mercado.\n",
    "\n",
    "</small>"
   ]
  },
  {
   "cell_type": "code",
   "execution_count": 492,
   "id": "82c754b3",
   "metadata": {},
   "outputs": [],
   "source": [
    "# ========================\n",
    "# Manipulação de Dados\n",
    "# ========================\n",
    "import pandas as pd                              # Biblioteca principal para manipulação de dados em DataFrames\n",
    "import numpy as np                               # Suporte para arrays e funções matemáticas de alto desempenho\n",
    "import requests\n",
    "\n",
    "# ========================\n",
    "# Visualização de Dados\n",
    "# ========================\n",
    "import plotly.graph_objects as go                # Visualizações interativas com Plotly (ex: gráficos financeiros)\n",
    "import matplotlib.pyplot as plt                  # Interface de plotagem do matplotlib (gráficos estáticos)\n",
    "\n",
    "# ========================\n",
    "# Acesso a Dados do Banco Central\n",
    "# ========================\n",
    "from bcb import sgs                              # Interface para acessar séries temporais do SGS (Sistema Gerenciador de Séries Temporais do Bacen)\n",
    "\n",
    "# ========================\n",
    "# Manipulação de Datas\n",
    "# ========================\n",
    "from datetime import datetime, timedelta         # Utilidades para manipulação de datas\n",
    "import time\n",
    "\n",
    "# ========================\n",
    "# Modelagem Preditiva (Machine Learning)\n",
    "# ========================\n",
    "from sklearn.pipeline import Pipeline            # Permite criar pipelines para processamentos e modelagem\n",
    "from sklearn.preprocessing import StandardScaler # Normaliza as variáveis (média = 0, desvio padrão = 1)\n",
    "from sklearn.linear_model import Ridge           # Regressão Ridge (modelo linear com regularização L2)\n",
    "from sklearn.metrics import (                    # Métricas para avaliação de modelos preditivos\n",
    "    mean_squared_error,\n",
    "    mean_absolute_error,\n",
    "    r2_score\n",
    ")"
   ]
  },
  {
   "cell_type": "markdown",
   "id": "992ba050",
   "metadata": {},
   "source": [
    "<small>\n",
    "\n",
    "### 🔗 Coleta de Dados: Preço e Taxa dos Títulos Públicos (Tesouro Direto)\n",
    "\n",
    "Este trecho de código realiza a importação dos dados brutos do Tesouro Direto diretamente do portal Tesouro Transparente. O arquivo CSV contém os preços unitários (PU) e taxas dos títulos ofertados ao longo do tempo."
   ]
  },
  {
   "cell_type": "code",
   "execution_count": 105,
   "id": "baebfe7a",
   "metadata": {},
   "outputs": [],
   "source": [
    "url = \"https://www.tesourotransparente.gov.br/ckan/dataset/df56aa42-484a-4a59-8184-7676580c81e3/resource/796d2059-14e9-44e3-80c9-2d9e30b405c1/download/PrecoTaxaTesouroDireto.csv\"\n",
    "titulos_pb = pd.read_csv(url, sep=';', encoding='latin1')"
   ]
  },
  {
   "cell_type": "code",
   "execution_count": 106,
   "id": "e724921a",
   "metadata": {},
   "outputs": [
    {
     "data": {
      "text/plain": [
       "0                                Tesouro Selic\n",
       "1                            Tesouro Prefixado\n",
       "8           Tesouro IPCA+ com Juros Semestrais\n",
       "17                               Tesouro IPCA+\n",
       "19          Tesouro IGPM+ com Juros Semestrais\n",
       "24      Tesouro Prefixado com Juros Semestrais\n",
       "1058        Tesouro Renda+ Aposentadoria Extra\n",
       "1066                            Tesouro Educa+\n",
       "Name: Tipo Titulo, dtype: object"
      ]
     },
     "execution_count": 106,
     "metadata": {},
     "output_type": "execute_result"
    }
   ],
   "source": [
    "# Exibindo a variedade de titulos disponíveis\n",
    "titulos_pb['Tipo Titulo'].drop_duplicates()"
   ]
  },
  {
   "cell_type": "code",
   "execution_count": 107,
   "id": "e9037203",
   "metadata": {},
   "outputs": [],
   "source": [
    "# Separando os principais títulos (os mais líquidos)\n",
    "\n",
    "# Tesouro Préfixado\n",
    "tesouro_prefixado = titulos_pb[titulos_pb['Tipo Titulo'] == 'Tesouro Prefixado']\n",
    "# Tesouro IPCA (indexado a inflação)\n",
    "tesouro_ipca = titulos_pb[titulos_pb['Tipo Titulo'] == 'Tesouro IPCA+']\n",
    "# Tesouro Selic (Pósfixado a taxa selic)\n",
    "tesouro_selic = titulos_pb[titulos_pb['Tipo Titulo'] == 'Tesouro Selic']"
   ]
  },
  {
   "cell_type": "markdown",
   "id": "ac2d9850",
   "metadata": {},
   "source": [
    "<small>\n",
    "\n",
    "### 📊 Função `preparar_titulos`: Preparação de Dados de Títulos Públicos\n",
    "\n",
    "Esta função tem como objetivo **automatizar o pré-processamento de dados** de títulos públicos federais (Tesouro IPCA+, Tesouro Prefixado, Tesouro Selic) para análises e modelagem preditiva.\n",
    "\n",
    "---\n",
    "\n",
    "#### 🔧 Descrição da Função\n",
    "\n",
    "```python\n",
    "def preparar_titulos(df, tipo, data_min='2011-01-01', cortes_especificos=None):"
   ]
  },
  {
   "cell_type": "code",
   "execution_count": 108,
   "id": "5cac829c",
   "metadata": {},
   "outputs": [
    {
     "name": "stdout",
     "output_type": "stream",
     "text": [
      "Dataframes IPCA+:  ['tesouro_ipca_2015', 'tesouro_ipca_2019', 'tesouro_ipca_2024', 'tesouro_ipca_2026', 'tesouro_ipca_2029', 'tesouro_ipca_2035', 'tesouro_ipca_2040', 'tesouro_ipca_2045', 'tesouro_ipca_2050']\n",
      "Dataframes Prefixado:  ['tesouro_prefixado_2011', 'tesouro_prefixado_2012', 'tesouro_prefixado_2013', 'tesouro_prefixado_2014', 'tesouro_prefixado_2015', 'tesouro_prefixado_2016', 'tesouro_prefixado_2017', 'tesouro_prefixado_2018', 'tesouro_prefixado_2019', 'tesouro_prefixado_2020', 'tesouro_prefixado_2021', 'tesouro_prefixado_2022', 'tesouro_prefixado_2023', 'tesouro_prefixado_2024', 'tesouro_prefixado_2025', 'tesouro_prefixado_2026', 'tesouro_prefixado_2027', 'tesouro_prefixado_2028', 'tesouro_prefixado_2029', 'tesouro_prefixado_2031', 'tesouro_prefixado_2032']\n",
      "Dataframes Selic:  ['tesouro_selic_2011', 'tesouro_selic_2012', 'tesouro_selic_2013', 'tesouro_selic_2014', 'tesouro_selic_2015', 'tesouro_selic_2017', 'tesouro_selic_2021', 'tesouro_selic_2023', 'tesouro_selic_2024', 'tesouro_selic_2025', 'tesouro_selic_2026', 'tesouro_selic_2027', 'tesouro_selic_2028', 'tesouro_selic_2029', 'tesouro_selic_2031']\n"
     ]
    }
   ],
   "source": [
    "def preparar_titulos(df, tipo, data_min='2011-01-01', cortes_especificos=None):\n",
    "    \"\"\"\n",
    "    Automatiza a preparação dos dados dos títulos públicos.\n",
    "    \n",
    "    Parâmetros:\n",
    "    - df: DataFrame original do título (ex: tesouro_ipca, tesouro_selic, tesouro_prefixado)\n",
    "    - tipo: string identificadora do tipo ('ipca', 'selic', 'prefixado')\n",
    "    - data_min: data mínima para filtrar (default '2011-01-01')\n",
    "    - cortes_especificos: dict opcional com anos como chave e datas de corte como valor\n",
    "    \n",
    "    Retorna:\n",
    "    - dict com dataframes preparados, nomeados como tesouro_{tipo}_{ano}\n",
    "    \"\"\"\n",
    "    # Filtra datas a partir de 2011\n",
    "    df_filtrado = df[pd.to_datetime(df['Data Base'], format='%d/%m/%Y') >= pd.Timestamp(data_min)].copy()\n",
    "    df_filtrado['Data Base'] = pd.to_datetime(df_filtrado['Data Base'], format='%d/%m/%Y')\n",
    "    df_filtrado = df_filtrado.sort_values('Data Base')\n",
    "    \n",
    "    # Converte colunas numéricas para float (corrige erro de tipo)\n",
    "    for col in ['PU Compra Manha', 'PU Venda Manha']:\n",
    "        df_filtrado[col] = (\n",
    "            df_filtrado[col]\n",
    "            .astype(str)\n",
    "            .str.replace('.', '', regex=False)\n",
    "            .str.replace(',', '.', regex=False)\n",
    "            .astype(float)\n",
    "        )\n",
    "    \n",
    "    # Extrai vencimentos únicos ordenados\n",
    "    vencimentos = df_filtrado['Data Vencimento'].drop_duplicates()\n",
    "    vencimentos = pd.to_datetime(vencimentos, format='%d/%m/%Y')\n",
    "    vencimentos = vencimentos.sort_values()\n",
    "    vencimentos = vencimentos.dt.strftime('%d/%m/%Y').tolist()\n",
    "    \n",
    "    dfs_por_venc = {}\n",
    "    for venc in vencimentos:\n",
    "        ano = venc[-4:]\n",
    "        var_name = f'tesouro_{tipo}_{ano}'\n",
    "        df_venc = df_filtrado[df_filtrado['Data Vencimento'] == venc].copy()\n",
    "        if df_venc.empty:\n",
    "            continue\n",
    "        df_venc.set_index('Data Base', inplace=True)\n",
    "        df_venc = df_venc[['PU Compra Manha', 'PU Venda Manha']].sort_index()\n",
    "        # Aplica cortes temporais específicos se fornecido\n",
    "        if cortes_especificos and ano in cortes_especificos:\n",
    "            df_venc = df_venc.loc[cortes_especificos[ano]:]\n",
    "        # Calcula percentual acumulado\n",
    "        df_venc['percentual_acumulado'] = (df_venc['PU Venda Manha'] / df_venc['PU Venda Manha'].iloc[0] - 1) * 100\n",
    "        dfs_por_venc[var_name] = df_venc\n",
    "        globals()[var_name] = df_venc  # opcional: cria variável global como no código original\n",
    "    return dfs_por_venc\n",
    "\n",
    "# Dicionários de cortes temporais específicos por tipo de título (ajuste conforme necessário)\n",
    "cortes_ipca = {'2026': '2023-02-24', '2029': '2023-02-24', '2024': '2018-02-01', '2035': '2018-02-01', '2045': '2018-02-01'}\n",
    "cortes_prefixado = {'2026': '2023-02-24', '2023': '2018-02-01'}\n",
    "cortes_selic = {}  # Adicione cortes se necessário\n",
    "\n",
    "# Executa para cada tipo de título\n",
    "dfs_ipca = preparar_titulos(tesouro_ipca, 'ipca', cortes_especificos=cortes_ipca)\n",
    "dfs_prefixado = preparar_titulos(tesouro_prefixado, 'prefixado', cortes_especificos=cortes_prefixado)\n",
    "dfs_selic = preparar_titulos(tesouro_selic, 'selic', cortes_especificos=cortes_selic)\n",
    "\n",
    "# Exemplo: nomes dos dataframes criados para cada título\n",
    "print(\"Dataframes IPCA+: \", list(dfs_ipca.keys()))\n",
    "print(\"Dataframes Prefixado: \", list(dfs_prefixado.keys()))\n",
    "print(\"Dataframes Selic: \", list(dfs_selic.keys()))"
   ]
  },
  {
   "cell_type": "markdown",
   "id": "da9d8fdf",
   "metadata": {},
   "source": [
    "<small>\n",
    "\n",
    "### 📈 Consolidação dos Títulos Públicos: IPCA+, Prefixado e Selic\n",
    "\n",
    "Este trecho de código agrupa os dados de **PU Venda Manhã** de todos os títulos públicos (`Tesouro Prefixado`, `Tesouro IPCA+` e `Tesouro Selic`) em dataframes únicos, organizados por tipo de título e reamostrados trimestralmente.\n",
    "\n",
    "---\n",
    "\n",
    "#### 🔄 Objetivo Geral\n",
    "\n",
    "- **Unificar** todos os dataframes de títulos com vencimentos diferentes (`tesouro_{tipo}_{ano}`) em um único dataframe por tipo.\n",
    "- **Padronizar** o índice temporal como `DatetimeIndex`.\n",
    "- **Ordenar** cronologicamente.\n",
    "- **Reamostrar** os dados com frequência trimestral (`'QE'`: Quarter End).\n",
    "- **Filtrar** a partir de 2012.\n",
    "\n",
    "---\n",
    "\n",
    "<small>"
   ]
  },
  {
   "cell_type": "code",
   "execution_count": 109,
   "id": "9b458955",
   "metadata": {},
   "outputs": [],
   "source": [
    "# Função para juntar todos os dataframes em um único dataframe e ordenar corretamente por datas\n",
    "\n",
    "# Tesouro Prefixado\n",
    "pre_dfs = []\n",
    "for name in list(globals().keys()):\n",
    "    if name.startswith('tesouro_prefixado_'):\n",
    "        df = globals()[name]\n",
    "        # Garante que o índice é datetime\n",
    "        if not isinstance(df.index, pd.DatetimeIndex):\n",
    "            df = df.copy()\n",
    "            df.index = pd.to_datetime(df.index)\n",
    "        pre_dfs.append(df['PU Venda Manha'].rename(name))\n",
    "\n",
    "# Concatena e ordena pelo índice (data)\n",
    "df_pre_all = pd.concat(pre_dfs, axis=1).sort_index()\n",
    "df_pre_all = df_pre_all.loc['2012-01-01':].resample('QE').mean()[:-1]\n",
    "\n",
    "\n",
    "# Tesouro IPCA+\n",
    "ipca_dfs = []\n",
    "for name in list(globals().keys()):\n",
    "    if name.startswith('tesouro_ipca_'):\n",
    "        df = globals()[name]\n",
    "        # Garante que o índice é datetime\n",
    "        if not isinstance(df.index, pd.DatetimeIndex):\n",
    "            df = df.copy()\n",
    "            df.index = pd.to_datetime(df.index)\n",
    "        ipca_dfs.append(df['PU Venda Manha'].rename(name))\n",
    "\n",
    "# Concatena e ordena pelo índice (data)\n",
    "df_ipca_all = pd.concat(ipca_dfs, axis=1).sort_index()\n",
    "df_ipca_all = df_ipca_all.loc['2012-01-01':].resample('QE').mean()[:-1]\n",
    "\n",
    "\n",
    "# Tesouro Selic\n",
    "selic_dfs = []\n",
    "for name in list(globals().keys()):\n",
    "    if name.startswith('tesouro_selic_'):\n",
    "        df = globals()[name]\n",
    "        # Garante que o índice é datetime\n",
    "        if not isinstance(df.index, pd.DatetimeIndex):\n",
    "            df = df.copy()\n",
    "            df.index = pd.to_datetime(df.index)\n",
    "        selic_dfs.append(df['PU Venda Manha'].rename(name))\n",
    "\n",
    "# Concatena e ordena pelo índice (data)\n",
    "df_selic_all = pd.concat(selic_dfs, axis=1).sort_index()\n",
    "df_selic_all = df_selic_all.loc['2012-01-01':].resample('QE').mean()[:-1]"
   ]
  },
  {
   "cell_type": "code",
   "execution_count": 110,
   "id": "655d5739",
   "metadata": {},
   "outputs": [],
   "source": [
    "# Excluindo alguns titulos vazios ou com poquíssimos dados\n",
    "\n",
    "# Tesouro Selic\n",
    "df_selic_all = df_selic_all.drop(columns=['tesouro_selic_2011', 'tesouro_selic_2012'])\n",
    "\n",
    "# Tesouro Préfixado\n",
    "df_pre_all = df_pre_all.drop(columns=['tesouro_prefixado_2011', 'tesouro_prefixado_2012', 'tesouro_prefixado_2028'])\n",
    "\n",
    "# Tesouro IPCA+\n",
    "df_ipca_all = df_ipca_all.drop(columns=['tesouro_ipca_2040', 'tesouro_ipca_2050'])"
   ]
  },
  {
   "cell_type": "markdown",
   "id": "05c037be",
   "metadata": {},
   "source": [
    "<small>\n",
    "\n",
    "#### Classificação Dinâmica de Títulos Públicos por Prazo\n",
    "\n",
    "#### 🎯 Objetivo\n",
    "\n",
    "Classificar dinamicamente títulos públicos em três categorias de prazo (**curto**, **médio**, **longo**) ao longo do tempo, com base na data de observação e no vencimento do título. A classificação muda conforme o vencimento se aproxima.\n",
    "\n",
    "#### 🗃️ Estrutura dos Dados\n",
    "\n",
    "Foram utilizados três DataFrames:\n",
    "\n",
    "- `df_ipca_all` → Títulos Tesouro IPCA+\n",
    "- `df_pre_all` → Títulos Tesouro Prefixado\n",
    "- `df_selic_all` → Títulos Tesouro Selic\n",
    "\n",
    "Cada coluna representa um título, e o **ano de vencimento** está presente nos 4 últimos caracteres do nome da coluna, por exemplo:\n",
    "\n",
    "<small>"
   ]
  },
  {
   "cell_type": "markdown",
   "id": "fa97d483",
   "metadata": {},
   "source": [
    "<small>\n",
    "\n",
    "### 🔁 Lógica Dinâmica de Classificação\n",
    "\n",
    "Para cada título e para cada data disponível em sua série temporal:\n",
    "\n",
    "1. Identifica-se a **data da observação** (ex: `2018-03-31`)\n",
    "2. Extrai-se o **ano de vencimento** da coluna\n",
    "3. Calcula-se o **prazo restante até o vencimento** em anos\n",
    "4. Classifica-se o título com base nas seguintes faixas:\n",
    "\n",
    "| Prazo Restante (anos) | Classificação |\n",
    "|------------------------|----------------|\n",
    "| 0 a 3                 | Curto          |\n",
    "| 4 a 7                 | Médio          |\n",
    "| Acima de 7            | Longo          |\n",
    "\n",
    " **Exemplo**:  \n",
    " Um título com vencimento em 2026 será classificado como:\n",
    " - **Longo prazo** em 2018 (8 anos restantes)\n",
    " - **Médio prazo** em 2022 (4 anos restantes)\n",
    " - **Curto prazo** em 2025 (1 ano restante)\n",
    "\n",
    "#### 🛠️ Passos Implementados no Script\n",
    "\n",
    "1. Iteração sobre todos os títulos de cada DataFrame.\n",
    "2. Extração do ano de vencimento a partir do nome da coluna.\n",
    "3. Para cada data da série temporal:\n",
    "   - Verifica se há dado não nulo para o título naquela data.\n",
    "   - Calcula o prazo restante: `ano_vencimento - data_observacao.year`\n",
    "   - Aplica a classificação de acordo com o prazo restante.\n",
    "4. Gera um DataFrame consolidado com as seguintes colunas:\n",
    "\n",
    "| Coluna         | Descrição                                 |\n",
    "|----------------|--------------------------------------------|\n",
    "| `classe`       | Tipo de título: IPCA+, Prefixado, Selic   |\n",
    "| `ticker`       | Nome da coluna original                   |\n",
    "| `data`         | Data da observação                        |\n",
    "| `ano_vencimento` | Ano extraído do nome do título           |\n",
    "| `prazo_anos`   | Anos restantes até o vencimento           |\n",
    "| `classificacao`| Curto, Médio ou Longo                     |\n",
    "| `trimestre`    | Identificador de trimestre (ex: 2018Q1)   |\n",
    "\n",
    "#### 🧾 Resultados Esperados\n",
    "\n",
    "O resultado é um DataFrame estruturado, onde cada linha representa a classificação dinâmica de um título em uma determinada data. Isso permite:\n",
    "\n",
    "- **Visualizar a evolução do prazo ao longo do tempo**\n",
    "- **Agrupar por trimestres**\n",
    "- **Fazer alocações com base na janela temporal (backtesting)**\n",
    "\n",
    "<small>"
   ]
  },
  {
   "cell_type": "code",
   "execution_count": 111,
   "id": "51bb70a5",
   "metadata": {},
   "outputs": [],
   "source": [
    "def classificar_titulos_dinamico(df_dict):\n",
    "    registros = []\n",
    "    for classe, df in df_dict.items():\n",
    "        for ticker in df.columns:\n",
    "            serie = df[ticker].dropna()\n",
    "            if serie.empty:\n",
    "                continue\n",
    "            ano_vencimento = int(ticker[-4:])\n",
    "            for data_atual in serie.index:\n",
    "                prazo_anos = ano_vencimento - data_atual.year\n",
    "                if prazo_anos <= 3:\n",
    "                    classificacao = \"curto\"\n",
    "                elif 4 <= prazo_anos <= 7:\n",
    "                    classificacao = \"medio\"\n",
    "                else:\n",
    "                    classificacao = \"longo\"\n",
    "                trimestre = f\"{data_atual.year}Q{((data_atual.month-1)//3)+1}\"\n",
    "                registros.append({\n",
    "                    \"classe\": classe,\n",
    "                    \"ticker\": ticker,\n",
    "                    \"data\": data_atual,\n",
    "                    \"ano_vencimento\": ano_vencimento,\n",
    "                    \"prazo_anos\": prazo_anos,\n",
    "                    \"classificacao\": classificacao,\n",
    "                    \"trimestre\": trimestre\n",
    "                })\n",
    "    df_result = pd.DataFrame(registros)\n",
    "    return df_result\n",
    "\n",
    "# Dicionário de dataframes\n",
    "df_dict = {\n",
    "    \"IPCA+\": df_ipca_all,\n",
    "    \"Prefixado\": df_pre_all,\n",
    "    \"Selic\": df_selic_all\n",
    "}\n",
    "\n",
    "df_classificacao_dinamica = classificar_titulos_dinamico(df_dict)"
   ]
  },
  {
   "cell_type": "markdown",
   "id": "a0b92b6a",
   "metadata": {},
   "source": [
    "### Coletando dados para criação das features\n",
    "#### Diretamente do Banco Central"
   ]
  },
  {
   "cell_type": "markdown",
   "id": "c68c5e29",
   "metadata": {},
   "source": [
    "<small>\n",
    "\n",
    "### 🌎 Indicadores Econômicos Utilizados no Modelo\n",
    "\n",
    "### 📊 Classificação dos Indicadores Econômicos por Categoria\n",
    "\n",
    "Organização dos indicadores utilizados na modelagem do IPCA, categorizados por aspectos econômicos relevantes.\n",
    "\n",
    "---\n",
    "\n",
    "### 🏦 Política Monetária\n",
    "\n",
    "Indicadores que refletem a condução da política monetária brasileira e internacional.\n",
    "\n",
    "- **selic (432)** – Taxa básica de juros do Brasil (instrumento direto de controle inflacionário).\n",
    "- **cdi (12)** – Certificado de Depósito Interbancário, segue de perto a SELIC.\n",
    "\n",
    "---\n",
    "\n",
    "### 📈 Nível de Atividade Econômica\n",
    "\n",
    "Indicadores relacionados ao desempenho da economia real, emprego e renda.\n",
    "\n",
    "- **PIB (7326)** – Produto Interno Bruto, representa o crescimento econômico.\n",
    "- **pme_taxa_desocupacao (24369)** – Taxa de desemprego, afeta consumo e pressão inflacionária.\n",
    "- **pme_rendimento_medio (24371)** – Rendimento médio real dos trabalhadores.\n",
    "- **ibovespa (12)** – Índice da bolsa de valores brasileira, sinaliza confiança dos investidores.\n",
    "- **producao_industrial** – Nível de atividade da indústria (precisa consultar código na API).\n",
    "\n",
    "---\n",
    "\n",
    "### 💸 Indicadores de Preço\n",
    "\n",
    "Indicadores que refletem diretamente a inflação de diferentes setores da economia.\n",
    "\n",
    "- **ipca (433)** – Índice de Preços ao Consumidor Amplo, alvo da modelagem.\n",
    "- **igp_m (189)** – Índice Geral de Preços – Mercado, inclui atacado e construção.\n",
    "- **incc (188)** – Índice Nacional da Construção Civil, usado em reajustes de financiamentos habitacionais.\n",
    "- **petroleo_wti (4493)** – Preço internacional do petróleo (reflete custos de transporte, energia e combustíveis).\n",
    "\n",
    "---\n",
    "\n",
    "### 💰 Setor Externo e Câmbio\n",
    "\n",
    "Indicadores externos e cambiais que impactam preços de importados, exportações e balança comercial.\n",
    "\n",
    "- **cambio (1)** – Dólar comercial (USD/BRL), afeta preços internos via importações.\n",
    "- **Saldo da balança comercial** – Diferença entre exportações e importações (impacta oferta de moeda estrangeira e câmbio).\n",
    "- **Fed Funds Rate (1178)** – Já listado em política monetária, mas com impacto no fluxo de capitais internacionais.\n",
    "\n",
    "---\n",
    "\n",
    "### 📉 Indicadores Fiscais e Financeiros\n",
    "\n",
    "Indicadores que afetam a percepção de risco fiscal e expectativas de inflação futura.\n",
    "\n",
    "- **Divida liquida PIB (4510)** – Nível de endividamento do setor público em relação ao PIB (proxy de sustentabilidade fiscal).\n",
    "\n",
    "---\n",
    "\n",
    "\n",
    "📌 *Esses indicadores compõem o conjunto de variáveis explicativas utilizadas na construção de modelos preditivos para especulação com títulos públicos marcados a mercado.*\n",
    "\n",
    "<small>"
   ]
  },
  {
   "cell_type": "markdown",
   "id": "787981c4",
   "metadata": {},
   "source": [
    "<small>\n",
    "\n",
    "### 📊 Coleta de Séries Temporais Econômicas - BACEN (SGS)\n",
    "\n",
    "Este módulo define e coleta séries econômicas relevantes diretamente da API do **Banco Central do Brasil (SGS)** para alimentar o modelo preditivo de títulos públicos. Os dados são organizados por categoria e baixados em janelas de até 10 anos para evitar limitações de requisição da API.\n",
    "\n",
    "---\n",
    "\n",
    "### 📌 Definição dos Códigos das Séries\n",
    "\n",
    "As séries são agrupadas em quatro categorias principais com seus respectivos códigos do SGS:\n",
    "\n",
    "<small>"
   ]
  },
  {
   "cell_type": "code",
   "execution_count": 112,
   "id": "30ce6733",
   "metadata": {},
   "outputs": [],
   "source": [
    "series_ipca = {\n",
    "    'ipca': 433,                              # Inflação (target)\n",
    "    'selic': 432,                             # Taxa básica de juros\n",
    "    'igp_m': 189,                             # Índice Geral de Preços - Mercado\n",
    "    'incc': 188,                              # Índice Nacional de Construção Civil\n",
    "    'pib': 7326,                              # Produto Interno Bruto (variação trimestral)\n",
    "    'cambio': 1,                              # Dólar (USD/BRL)\n",
    "    'pme_taxa_desocupacao': 24369,            # Taxa de desemprego\n",
    "    'pme_rendimento_medio': 24371,            # Rendimento médio\n",
    "    'divida_liquida_pib': 4510,               # Endividamento\n",
    "    'cdi': 12,                                # Certificado de Depósito Interbancário (CDI)\n",
    "    'petroleo_wti': 4493,                     # Preço do barril de petróleo (WTI)\n",
    "    'fed_funds_rate': 1178,                   # Taxa de juros dos EUA\n",
    "    'ibovespa': 12,                           # Índice Bovespa\n",
    "    'producao_industrial': 21859,             # Produção industrial\n",
    "    'saldo_balanca_comercial': 225            # Saldo da Balança Comercial (US$ milhões)\n",
    "}\n",
    "\n",
    "def get_bcb_data_quinquenal(series_dict, start_date, end_date):\n",
    "    \"\"\"\n",
    "    Coleta séries do SGS/Bacen em janelas de 5 em 5 anos, consolidando em um único DataFrame.\n",
    "    Parâmetros:\n",
    "        series_dict: dict {nome: código SGS}\n",
    "        start_date: str ou datetime, data inicial\n",
    "        end_date: str ou datetime, data final\n",
    "    Retorna:\n",
    "        DataFrame consolidado com todas as séries e datas requisitadas.\n",
    "    \"\"\"\n",
    "    start = pd.to_datetime(start_date)\n",
    "    end = pd.to_datetime(end_date)\n",
    "    dfs = []\n",
    "    current_start = start\n",
    "\n",
    "    while current_start < end:\n",
    "        next_end = min(current_start + pd.DateOffset(years=5), end)\n",
    "        try:\n",
    "            df_part = sgs.get(series_dict, start=current_start.strftime('%Y-%m-%d'), end=next_end.strftime('%Y-%m-%d'))\n",
    "            dfs.append(df_part)\n",
    "        except Exception as e:\n",
    "            print(f\"Erro ao buscar dados de {current_start.date()} até {next_end.date()}: {e}\")\n",
    "        current_start = next_end + pd.Timedelta(days=1)\n",
    "\n",
    "    if dfs:\n",
    "        df_full = pd.concat(dfs)\n",
    "        df_full = df_full[~df_full.index.duplicated(keep='first')]\n",
    "        df_full.index = pd.to_datetime(df_full.index)\n",
    "        df_full = df_full.sort_index()\n",
    "        return df_full\n",
    "    else:\n",
    "        print(\"Nenhum dado foi baixado.\")\n",
    "        return pd.DataFrame()\n",
    "\n",
    "# Exemplo de uso:\n",
    "df_quinquenal = get_bcb_data_quinquenal(series_ipca, '2011-12-31', '2025-03-31')"
   ]
  },
  {
   "cell_type": "code",
   "execution_count": 113,
   "id": "b8c0f27a",
   "metadata": {},
   "outputs": [],
   "source": [
    "df_ipca_features = df_quinquenal\n",
    "\n",
    "# Para cada coluna selecionada, calcula o percentual acumulado a partir do primeiro valor de cada trimestre\n",
    "cols = ['ipca', 'selic', 'igp_m', 'incc', 'cdi', 'ibovespa']\n",
    "for col in cols:\n",
    "    df_ipca_features[f'{col}_pct_trim'] = (\n",
    "        df_ipca_features[col] / df_ipca_features[col].groupby(df_ipca_features.index.to_period('Q')).transform('first') - 1\n",
    "    ) * 100\n",
    "\n",
    "# Resample para trimestral e preenche valores faltantes\n",
    "df_ipca_features.index = pd.to_datetime(df_ipca_features.index)\n",
    "df_ipca_features = df_ipca_features['2012-01-01':].resample('QE').mean().ffill()\n",
    "\n",
    "df_ipca_features_back_up = df_ipca_features.copy()  # Backup dos dados originais"
   ]
  },
  {
   "cell_type": "markdown",
   "id": "f6c61483",
   "metadata": {},
   "source": [
    "<small>\n",
    "\n",
    "## Modelo predititvo\n",
    "\n",
    "## 📊 Pipeline de Previsão Trimestral do IPCA com Gradient Boosting\n",
    "\n",
    "Este documento descreve o processo completo de modelagem preditiva do IPCA (Índice de Preços ao Consumidor Amplo) utilizando dados macroeconômicos trimestrais. O objetivo é construir um modelo robusto com validação temporal, capaz de prever o IPCA com alta acurácia.\n",
    "\n",
    "---\n",
    "\n",
    "### 1. 🔍 Seleção das Features e da Variável Alvo\n",
    "\n",
    "Foram utilizados dados trimestrais, com diversas variáveis econômicas como **features**, excluindo a própria variável `ipca`, que é usada como **variável alvo (target)**. A seleção visa capturar os principais determinantes da inflação no curto e médio prazo.\n",
    "\n",
    "---\n",
    "\n",
    "### 2. 🗂️ Separação Temporal dos Dados\n",
    "\n",
    "O conjunto de dados foi dividido da seguinte forma:\n",
    "\n",
    "- **Treinamento:** 6 anos consecutivos (ex: 2012 a 2017)\n",
    "- **Teste:** 1 ano fora da amostra (ex: 2018)\n",
    "\n",
    "Essa abordagem simula um cenário real de previsão futura, respeitando a ordem cronológica das observações.\n",
    "\n",
    "---\n",
    "\n",
    "### 3. ⚙️ Padronização dos Dados\n",
    "\n",
    "Os dados foram padronizados com `StandardScaler`, transformando as variáveis para terem média zero e desvio padrão um. Isso garante que o modelo não seja influenciado por escalas diferentes entre os atributos.\n",
    "\n",
    "---\n",
    "\n",
    "### 4. 🌲 Definição do Modelo: Gradient Boosting\n",
    "\n",
    "Foi adotado o modelo `GradientBoostingRegressor`, uma técnica de ensemble baseada em árvores, eficiente para capturar relações não lineares e robusta a outliers. O modelo foi configurado com hiperparâmetros ajustados para controle de complexidade e regularização.\n",
    "\n",
    "---\n",
    "\n",
    "### 5. 🔁 Validação Cruzada Temporal\n",
    "\n",
    "Para evitar overfitting, foi utilizada **validação cruzada com TimeSeriesSplit**, que respeita a estrutura sequencial dos dados. A métrica principal foi o **RMSE (Root Mean Squared Error)**, que penaliza grandes erros de previsão.\n",
    "\n",
    "---\n",
    "\n",
    "### 6. 📈 Previsão no Conjunto de Teste\n",
    "\n",
    "O modelo treinado foi aplicado para prever o IPCA do ano de teste (ex: 2018), sem nenhum ajuste adicional nos dados. A previsão foi feita com dados completamente fora da amostra.\n",
    "\n",
    "---\n",
    "\n",
    "### 7. ✅ Avaliação do Desempenho\n",
    "\n",
    "A performance do modelo foi avaliada com as seguintes métricas:\n",
    "\n",
    "- **RMSE**: erro quadrático médio\n",
    "- **MAE**: erro absoluto médio\n",
    "- **R²**: coeficiente de determinação (qualidade do ajuste)\n",
    "\n",
    "Essas métricas permitem verificar tanto a precisão quanto a robustez das previsões.\n",
    "\n",
    "---\n",
    "\n",
    "<small>"
   ]
  },
  {
   "cell_type": "code",
   "execution_count": 114,
   "id": "601662b4",
   "metadata": {},
   "outputs": [
    {
     "name": "stdout",
     "output_type": "stream",
     "text": [
      "    ano  rmse   mae    r2\n",
      "0  2018  0.06  0.05  0.91\n",
      "1  2019  0.07  0.06  0.87\n",
      "2  2020  0.18  0.16  0.82\n",
      "3  2021  0.05  0.05  0.92\n",
      "4  2022  0.29  0.21  0.73\n",
      "5  2023  0.13  0.13  0.51\n",
      "6  2024  0.05  0.04  0.66\n"
     ]
    }
   ],
   "source": [
    "from sklearn.ensemble import GradientBoostingRegressor\n",
    "\n",
    "# Seleção das features e variável alvo para previsão do IPCA\n",
    "# Remove a coluna 'ipca' das features e usa como target\n",
    "X = df_ipca_features.drop(columns=['ipca'])\n",
    "y = df_ipca_features['ipca']\n",
    "\n",
    "\n",
    "def rolling_window_ipca_forecast(X, y, start_year=2018, end_year=2025, window=6):\n",
    "    \"\"\"\n",
    "    Realiza previsões do IPCA em janela móvel, treinando sempre com os 'window' anos anteriores.\n",
    "    Retorna DataFrame com métricas de avaliação para cada ano.\n",
    "    \"\"\"\n",
    "    results = []\n",
    "    for ano in range(start_year, end_year + 1):\n",
    "        train_mask = (X.index.year >= (ano - window)) & (X.index.year < ano)\n",
    "        test_mask = (X.index.year == ano)\n",
    "        if train_mask.sum() == 0 or test_mask.sum() == 0:\n",
    "            continue\n",
    "        X_train, y_train = X[train_mask], y[train_mask]\n",
    "        X_test, y_test = X[test_mask], y[test_mask]\n",
    "\n",
    "        scaler = StandardScaler()\n",
    "        X_train_scaled = scaler.fit_transform(X_train)\n",
    "        X_test_scaled = scaler.transform(X_test)\n",
    "\n",
    "        model = GradientBoostingRegressor(\n",
    "            n_estimators=300,\n",
    "            learning_rate=0.05,\n",
    "            max_depth=3,\n",
    "            subsample=0.8,\n",
    "            random_state=42\n",
    "        )\n",
    "        model.fit(X_train_scaled, y_train)\n",
    "        y_pred = model.predict(X_test_scaled)\n",
    "\n",
    "        rmse = np.sqrt(mean_squared_error(y_test, y_pred))\n",
    "        mae = mean_absolute_error(y_test, y_pred)\n",
    "        r2 = r2_score(y_test, y_pred)\n",
    "        results.append({\n",
    "            'ano': ano,\n",
    "            'rmse': rmse,\n",
    "            'mae': mae,\n",
    "            'r2': r2,\n",
    "            'real': list(y_test.values),\n",
    "            'previsto': list(y_pred)\n",
    "        })\n",
    "    return pd.DataFrame(results)\n",
    "\n",
    "# Exemplo de uso:\n",
    "avaliacao_rolling = rolling_window_ipca_forecast(X, y, start_year=2018, end_year=2024, window=6)\n",
    "print(avaliacao_rolling[['ano', 'rmse', 'mae', 'r2']].round(2))"
   ]
  },
  {
   "cell_type": "markdown",
   "id": "78b8d1db",
   "metadata": {},
   "source": [
    "<small>\n",
    "\n",
    "### 📊 Avaliação Anual do Modelo — Tesouro IPCA+\n",
    "\n",
    "Este relatório apresenta a performance preditiva de um modelo de regressão (Gradient Boosting) aplicado à previsão da inflação (IPCA) e sua relação com títulos públicos. As métricas de avaliação foram calculadas ano a ano para o período de 2018 a 2024.\n",
    "\n",
    "| Ano  | RMSE    | MAE     | R²      |\n",
    "|------|---------|---------|---------|\n",
    "| 2018 | 0.0568  | 0.0515  | 0.9099  |\n",
    "| 2019 | 0.0718  | 0.0638  | 0.8718  |\n",
    "| 2020 | 0.1813  | 0.1571  | 0.8230  |\n",
    "| 2021 | 0.0539  | 0.0522  | 0.9189  |\n",
    "| 2022 | 0.2885  | 0.2068  | 0.7342  |\n",
    "| 2023 | 0.1339  | 0.1264  | 0.5081  |\n",
    "| 2024 | 0.0529  | 0.0426  | 0.6627  |\n",
    "\n",
    "---\n",
    "\n",
    "### 📌 Métricas Utilizadas\n",
    "\n",
    "- **RMSE (Root Mean Squared Error)**: Erro quadrático médio, penaliza mais os grandes desvios.\n",
    "- **MAE (Mean Absolute Error)**: Erro absoluto médio, mais robusto a outliers.\n",
    "- **R² (Coeficiente de Determinação)**: Mede o quanto a variação da variável alvo é explicada pelo modelo.\n",
    "\n",
    "---\n",
    "\n",
    "### 📈 Análise por Ano\n",
    "\n",
    "#### ✅ Desempenho Forte\n",
    "- **2018, 2019, 2021**:  \n",
    "  - R² acima de 0.87 e erros (RMSE e MAE) baixos.\n",
    "  - Indica excelente capacidade preditiva nestes anos.\n",
    "  - Pode refletir maior estabilidade macroeconômica e menor ruído nos dados.\n",
    "\n",
    "#### ⚠️ Desempenho Mediano\n",
    "- **2020**:  \n",
    "  - Embora o R² ainda seja alto (0.823), o RMSE e MAE aumentaram consideravelmente.\n",
    "  - Esse ano coincide com choques econômicos (ex.: pandemia COVID-19), que podem ter introduzido ruídos não modelados.\n",
    "\n",
    "#### 🚨 Desempenho Fraco\n",
    "- **2022 e 2023**:  \n",
    "  - R² caiu para 0.73 em 2022 e para apenas 0.51 em 2023.\n",
    "  - Altos erros absolutos indicam menor precisão.\n",
    "  - Pode indicar regime de inflação mais volátil, mudanças fiscais ou ruído não capturado pelas features.\n",
    "  \n",
    "#### 🔁 Recuperação em 2024\n",
    "- **2024**:\n",
    "  - R² volta a subir (0.66), e os erros reduzem significativamente.\n",
    "  - Sinal de recuperação da capacidade do modelo em capturar a dinâmica dos preços.\n",
    "\n",
    "---\n",
    "\n",
    "### 📌 Conclusões\n",
    "\n",
    "- O modelo apresenta boa capacidade preditiva geral, especialmente em anos com maior estabilidade econômica.\n",
    "- Em anos com maior incerteza (como 2020, 2022, 2023), há degradação da performance — o que pode ser melhorado com:\n",
    "  - Inclusão de variáveis relacionadas a choques externos ou incerteza (ex.: volatilidade global, commodities, eventos fiscais).\n",
    "  - Modelos híbridos ou ensemble com séries temporais.\n",
    "\n",
    "---\n",
    "\n",
    "<small>\n"
   ]
  },
  {
   "cell_type": "code",
   "execution_count": 115,
   "id": "a25dfcf1",
   "metadata": {},
   "outputs": [
    {
     "name": "stdout",
     "output_type": "stream",
     "text": [
      "Importância das features (ordem decrescente):\n"
     ]
    },
    {
     "data": {
      "text/plain": [
       "incc                       90.0\n",
       "igp_m_pct_trim              3.0\n",
       "cambio                      2.0\n",
       "ipca_pct_trim               1.0\n",
       "divida_liquida_pib          1.0\n",
       "pme_rendimento_medio        1.0\n",
       "pme_taxa_desocupacao        0.0\n",
       "saldo_balanca_comercial     0.0\n",
       "petroleo_wti                0.0\n",
       "igp_m                       0.0\n",
       "pib                         0.0\n",
       "ibovespa_pct_trim           0.0\n",
       "selic_pct_trim              0.0\n",
       "incc_pct_trim               0.0\n",
       "cdi_pct_trim                0.0\n",
       "ibovespa                    0.0\n",
       "cdi                         0.0\n",
       "selic                       0.0\n",
       "producao_industrial         0.0\n",
       "fed_funds_rate              0.0\n",
       "dtype: float64"
      ]
     },
     "metadata": {},
     "output_type": "display_data"
    }
   ],
   "source": [
    "# Antes de treinar o modelo, é necessário garantir que X não possui valores infinitos ou muito grandes.\n",
    "# Vamos substituir valores infinitos por NaN e depois remover linhas com NaN.\n",
    "\n",
    "# Substitui valores infinitos por NaN\n",
    "X_clean = X.replace([np.inf, -np.inf], np.nan)\n",
    "\n",
    "# Remove linhas com NaN (caso existam)\n",
    "X_clean = X_clean.dropna()\n",
    "y_clean = y.loc[X_clean.index]\n",
    "\n",
    "# Treinamento do modelo com os dados limpos\n",
    "model_full = GradientBoostingRegressor(\n",
    "    n_estimators=300,\n",
    "    learning_rate=0.05,\n",
    "    max_depth=3,\n",
    "    subsample=0.8,\n",
    "    random_state=42\n",
    ")\n",
    "\n",
    "scaler_full = StandardScaler()\n",
    "X_scaled_full = scaler_full.fit_transform(X_clean)\n",
    "model_full.fit(X_scaled_full, y_clean)\n",
    "\n",
    "importances = model_full.feature_importances_\n",
    "feature_importance = pd.Series(importances, index=X_clean.columns).sort_values(ascending=False)\n",
    "print(\"Importância das features (ordem decrescente):\")\n",
    "display(feature_importance.round(2)*100)"
   ]
  },
  {
   "cell_type": "code",
   "execution_count": 116,
   "id": "1bc00f27",
   "metadata": {},
   "outputs": [
    {
     "data": {
      "application/vnd.plotly.v1+json": {
       "config": {
        "plotlyServerURL": "https://plot.ly"
       },
       "data": [
        {
         "marker": {
          "color": "orange"
         },
         "name": "RMSE",
         "type": "bar",
         "x": {
          "bdata": "4gfjB+QH5QfmB+cH6Ac=",
          "dtype": "i2"
         },
         "y": {
          "bdata": "uB6F61G4rj/sUbgeheuxPwrXo3A9Csc/mpmZmZmZqT+PwvUoXI/SP6RwPQrXo8A/mpmZmZmZqT8=",
          "dtype": "f8"
         }
        },
        {
         "marker": {
          "color": "deepskyblue"
         },
         "name": "MAE",
         "type": "bar",
         "x": {
          "bdata": "4gfjB+QH5QfmB+cH6Ac=",
          "dtype": "i2"
         },
         "y": {
          "bdata": "mpmZmZmZqT+4HoXrUbiuP3sUrkfhesQ/mpmZmZmZqT/hehSuR+HKP6RwPQrXo8A/exSuR+F6pD8=",
          "dtype": "f8"
         }
        },
        {
         "marker": {
          "color": "lime"
         },
         "mode": "lines+markers",
         "name": "R²",
         "type": "scatter",
         "x": {
          "bdata": "4gfjB+QH5QfmB+cH6Ac=",
          "dtype": "i2"
         },
         "y": {
          "bdata": "H4XrUbge7T/Xo3A9CtfrPz0K16NwPeo/cT0K16Nw7T9cj8L1KFznP1K4HoXrUeA/H4XrUbge5T8=",
          "dtype": "f8"
         },
         "yaxis": "y2"
        }
       ],
       "layout": {
        "legend": {
         "x": 0.01,
         "y": 0.99
        },
        "template": {
         "data": {
          "bar": [
           {
            "error_x": {
             "color": "#f2f5fa"
            },
            "error_y": {
             "color": "#f2f5fa"
            },
            "marker": {
             "line": {
              "color": "rgb(17,17,17)",
              "width": 0.5
             },
             "pattern": {
              "fillmode": "overlay",
              "size": 10,
              "solidity": 0.2
             }
            },
            "type": "bar"
           }
          ],
          "barpolar": [
           {
            "marker": {
             "line": {
              "color": "rgb(17,17,17)",
              "width": 0.5
             },
             "pattern": {
              "fillmode": "overlay",
              "size": 10,
              "solidity": 0.2
             }
            },
            "type": "barpolar"
           }
          ],
          "carpet": [
           {
            "aaxis": {
             "endlinecolor": "#A2B1C6",
             "gridcolor": "#506784",
             "linecolor": "#506784",
             "minorgridcolor": "#506784",
             "startlinecolor": "#A2B1C6"
            },
            "baxis": {
             "endlinecolor": "#A2B1C6",
             "gridcolor": "#506784",
             "linecolor": "#506784",
             "minorgridcolor": "#506784",
             "startlinecolor": "#A2B1C6"
            },
            "type": "carpet"
           }
          ],
          "choropleth": [
           {
            "colorbar": {
             "outlinewidth": 0,
             "ticks": ""
            },
            "type": "choropleth"
           }
          ],
          "contour": [
           {
            "colorbar": {
             "outlinewidth": 0,
             "ticks": ""
            },
            "colorscale": [
             [
              0,
              "#0d0887"
             ],
             [
              0.1111111111111111,
              "#46039f"
             ],
             [
              0.2222222222222222,
              "#7201a8"
             ],
             [
              0.3333333333333333,
              "#9c179e"
             ],
             [
              0.4444444444444444,
              "#bd3786"
             ],
             [
              0.5555555555555556,
              "#d8576b"
             ],
             [
              0.6666666666666666,
              "#ed7953"
             ],
             [
              0.7777777777777778,
              "#fb9f3a"
             ],
             [
              0.8888888888888888,
              "#fdca26"
             ],
             [
              1,
              "#f0f921"
             ]
            ],
            "type": "contour"
           }
          ],
          "contourcarpet": [
           {
            "colorbar": {
             "outlinewidth": 0,
             "ticks": ""
            },
            "type": "contourcarpet"
           }
          ],
          "heatmap": [
           {
            "colorbar": {
             "outlinewidth": 0,
             "ticks": ""
            },
            "colorscale": [
             [
              0,
              "#0d0887"
             ],
             [
              0.1111111111111111,
              "#46039f"
             ],
             [
              0.2222222222222222,
              "#7201a8"
             ],
             [
              0.3333333333333333,
              "#9c179e"
             ],
             [
              0.4444444444444444,
              "#bd3786"
             ],
             [
              0.5555555555555556,
              "#d8576b"
             ],
             [
              0.6666666666666666,
              "#ed7953"
             ],
             [
              0.7777777777777778,
              "#fb9f3a"
             ],
             [
              0.8888888888888888,
              "#fdca26"
             ],
             [
              1,
              "#f0f921"
             ]
            ],
            "type": "heatmap"
           }
          ],
          "histogram": [
           {
            "marker": {
             "pattern": {
              "fillmode": "overlay",
              "size": 10,
              "solidity": 0.2
             }
            },
            "type": "histogram"
           }
          ],
          "histogram2d": [
           {
            "colorbar": {
             "outlinewidth": 0,
             "ticks": ""
            },
            "colorscale": [
             [
              0,
              "#0d0887"
             ],
             [
              0.1111111111111111,
              "#46039f"
             ],
             [
              0.2222222222222222,
              "#7201a8"
             ],
             [
              0.3333333333333333,
              "#9c179e"
             ],
             [
              0.4444444444444444,
              "#bd3786"
             ],
             [
              0.5555555555555556,
              "#d8576b"
             ],
             [
              0.6666666666666666,
              "#ed7953"
             ],
             [
              0.7777777777777778,
              "#fb9f3a"
             ],
             [
              0.8888888888888888,
              "#fdca26"
             ],
             [
              1,
              "#f0f921"
             ]
            ],
            "type": "histogram2d"
           }
          ],
          "histogram2dcontour": [
           {
            "colorbar": {
             "outlinewidth": 0,
             "ticks": ""
            },
            "colorscale": [
             [
              0,
              "#0d0887"
             ],
             [
              0.1111111111111111,
              "#46039f"
             ],
             [
              0.2222222222222222,
              "#7201a8"
             ],
             [
              0.3333333333333333,
              "#9c179e"
             ],
             [
              0.4444444444444444,
              "#bd3786"
             ],
             [
              0.5555555555555556,
              "#d8576b"
             ],
             [
              0.6666666666666666,
              "#ed7953"
             ],
             [
              0.7777777777777778,
              "#fb9f3a"
             ],
             [
              0.8888888888888888,
              "#fdca26"
             ],
             [
              1,
              "#f0f921"
             ]
            ],
            "type": "histogram2dcontour"
           }
          ],
          "mesh3d": [
           {
            "colorbar": {
             "outlinewidth": 0,
             "ticks": ""
            },
            "type": "mesh3d"
           }
          ],
          "parcoords": [
           {
            "line": {
             "colorbar": {
              "outlinewidth": 0,
              "ticks": ""
             }
            },
            "type": "parcoords"
           }
          ],
          "pie": [
           {
            "automargin": true,
            "type": "pie"
           }
          ],
          "scatter": [
           {
            "marker": {
             "line": {
              "color": "#283442"
             }
            },
            "type": "scatter"
           }
          ],
          "scatter3d": [
           {
            "line": {
             "colorbar": {
              "outlinewidth": 0,
              "ticks": ""
             }
            },
            "marker": {
             "colorbar": {
              "outlinewidth": 0,
              "ticks": ""
             }
            },
            "type": "scatter3d"
           }
          ],
          "scattercarpet": [
           {
            "marker": {
             "colorbar": {
              "outlinewidth": 0,
              "ticks": ""
             }
            },
            "type": "scattercarpet"
           }
          ],
          "scattergeo": [
           {
            "marker": {
             "colorbar": {
              "outlinewidth": 0,
              "ticks": ""
             }
            },
            "type": "scattergeo"
           }
          ],
          "scattergl": [
           {
            "marker": {
             "line": {
              "color": "#283442"
             }
            },
            "type": "scattergl"
           }
          ],
          "scattermap": [
           {
            "marker": {
             "colorbar": {
              "outlinewidth": 0,
              "ticks": ""
             }
            },
            "type": "scattermap"
           }
          ],
          "scattermapbox": [
           {
            "marker": {
             "colorbar": {
              "outlinewidth": 0,
              "ticks": ""
             }
            },
            "type": "scattermapbox"
           }
          ],
          "scatterpolar": [
           {
            "marker": {
             "colorbar": {
              "outlinewidth": 0,
              "ticks": ""
             }
            },
            "type": "scatterpolar"
           }
          ],
          "scatterpolargl": [
           {
            "marker": {
             "colorbar": {
              "outlinewidth": 0,
              "ticks": ""
             }
            },
            "type": "scatterpolargl"
           }
          ],
          "scatterternary": [
           {
            "marker": {
             "colorbar": {
              "outlinewidth": 0,
              "ticks": ""
             }
            },
            "type": "scatterternary"
           }
          ],
          "surface": [
           {
            "colorbar": {
             "outlinewidth": 0,
             "ticks": ""
            },
            "colorscale": [
             [
              0,
              "#0d0887"
             ],
             [
              0.1111111111111111,
              "#46039f"
             ],
             [
              0.2222222222222222,
              "#7201a8"
             ],
             [
              0.3333333333333333,
              "#9c179e"
             ],
             [
              0.4444444444444444,
              "#bd3786"
             ],
             [
              0.5555555555555556,
              "#d8576b"
             ],
             [
              0.6666666666666666,
              "#ed7953"
             ],
             [
              0.7777777777777778,
              "#fb9f3a"
             ],
             [
              0.8888888888888888,
              "#fdca26"
             ],
             [
              1,
              "#f0f921"
             ]
            ],
            "type": "surface"
           }
          ],
          "table": [
           {
            "cells": {
             "fill": {
              "color": "#506784"
             },
             "line": {
              "color": "rgb(17,17,17)"
             }
            },
            "header": {
             "fill": {
              "color": "#2a3f5f"
             },
             "line": {
              "color": "rgb(17,17,17)"
             }
            },
            "type": "table"
           }
          ]
         },
         "layout": {
          "annotationdefaults": {
           "arrowcolor": "#f2f5fa",
           "arrowhead": 0,
           "arrowwidth": 1
          },
          "autotypenumbers": "strict",
          "coloraxis": {
           "colorbar": {
            "outlinewidth": 0,
            "ticks": ""
           }
          },
          "colorscale": {
           "diverging": [
            [
             0,
             "#8e0152"
            ],
            [
             0.1,
             "#c51b7d"
            ],
            [
             0.2,
             "#de77ae"
            ],
            [
             0.3,
             "#f1b6da"
            ],
            [
             0.4,
             "#fde0ef"
            ],
            [
             0.5,
             "#f7f7f7"
            ],
            [
             0.6,
             "#e6f5d0"
            ],
            [
             0.7,
             "#b8e186"
            ],
            [
             0.8,
             "#7fbc41"
            ],
            [
             0.9,
             "#4d9221"
            ],
            [
             1,
             "#276419"
            ]
           ],
           "sequential": [
            [
             0,
             "#0d0887"
            ],
            [
             0.1111111111111111,
             "#46039f"
            ],
            [
             0.2222222222222222,
             "#7201a8"
            ],
            [
             0.3333333333333333,
             "#9c179e"
            ],
            [
             0.4444444444444444,
             "#bd3786"
            ],
            [
             0.5555555555555556,
             "#d8576b"
            ],
            [
             0.6666666666666666,
             "#ed7953"
            ],
            [
             0.7777777777777778,
             "#fb9f3a"
            ],
            [
             0.8888888888888888,
             "#fdca26"
            ],
            [
             1,
             "#f0f921"
            ]
           ],
           "sequentialminus": [
            [
             0,
             "#0d0887"
            ],
            [
             0.1111111111111111,
             "#46039f"
            ],
            [
             0.2222222222222222,
             "#7201a8"
            ],
            [
             0.3333333333333333,
             "#9c179e"
            ],
            [
             0.4444444444444444,
             "#bd3786"
            ],
            [
             0.5555555555555556,
             "#d8576b"
            ],
            [
             0.6666666666666666,
             "#ed7953"
            ],
            [
             0.7777777777777778,
             "#fb9f3a"
            ],
            [
             0.8888888888888888,
             "#fdca26"
            ],
            [
             1,
             "#f0f921"
            ]
           ]
          },
          "colorway": [
           "#636efa",
           "#EF553B",
           "#00cc96",
           "#ab63fa",
           "#FFA15A",
           "#19d3f3",
           "#FF6692",
           "#B6E880",
           "#FF97FF",
           "#FECB52"
          ],
          "font": {
           "color": "#f2f5fa"
          },
          "geo": {
           "bgcolor": "rgb(17,17,17)",
           "lakecolor": "rgb(17,17,17)",
           "landcolor": "rgb(17,17,17)",
           "showlakes": true,
           "showland": true,
           "subunitcolor": "#506784"
          },
          "hoverlabel": {
           "align": "left"
          },
          "hovermode": "closest",
          "mapbox": {
           "style": "dark"
          },
          "paper_bgcolor": "rgb(17,17,17)",
          "plot_bgcolor": "rgb(17,17,17)",
          "polar": {
           "angularaxis": {
            "gridcolor": "#506784",
            "linecolor": "#506784",
            "ticks": ""
           },
           "bgcolor": "rgb(17,17,17)",
           "radialaxis": {
            "gridcolor": "#506784",
            "linecolor": "#506784",
            "ticks": ""
           }
          },
          "scene": {
           "xaxis": {
            "backgroundcolor": "rgb(17,17,17)",
            "gridcolor": "#506784",
            "gridwidth": 2,
            "linecolor": "#506784",
            "showbackground": true,
            "ticks": "",
            "zerolinecolor": "#C8D4E3"
           },
           "yaxis": {
            "backgroundcolor": "rgb(17,17,17)",
            "gridcolor": "#506784",
            "gridwidth": 2,
            "linecolor": "#506784",
            "showbackground": true,
            "ticks": "",
            "zerolinecolor": "#C8D4E3"
           },
           "zaxis": {
            "backgroundcolor": "rgb(17,17,17)",
            "gridcolor": "#506784",
            "gridwidth": 2,
            "linecolor": "#506784",
            "showbackground": true,
            "ticks": "",
            "zerolinecolor": "#C8D4E3"
           }
          },
          "shapedefaults": {
           "line": {
            "color": "#f2f5fa"
           }
          },
          "sliderdefaults": {
           "bgcolor": "#C8D4E3",
           "bordercolor": "rgb(17,17,17)",
           "borderwidth": 1,
           "tickwidth": 0
          },
          "ternary": {
           "aaxis": {
            "gridcolor": "#506784",
            "linecolor": "#506784",
            "ticks": ""
           },
           "baxis": {
            "gridcolor": "#506784",
            "linecolor": "#506784",
            "ticks": ""
           },
           "bgcolor": "rgb(17,17,17)",
           "caxis": {
            "gridcolor": "#506784",
            "linecolor": "#506784",
            "ticks": ""
           }
          },
          "title": {
           "x": 0.05
          },
          "updatemenudefaults": {
           "bgcolor": "#506784",
           "borderwidth": 0
          },
          "xaxis": {
           "automargin": true,
           "gridcolor": "#283442",
           "linecolor": "#506784",
           "ticks": "",
           "title": {
            "standoff": 15
           },
           "zerolinecolor": "#283442",
           "zerolinewidth": 2
          },
          "yaxis": {
           "automargin": true,
           "gridcolor": "#283442",
           "linecolor": "#506784",
           "ticks": "",
           "title": {
            "standoff": 15
           },
           "zerolinecolor": "#283442",
           "zerolinewidth": 2
          }
         }
        },
        "title": {
         "text": "Avaliação Anual do Modelo (RMSE, MAE, R²)"
        },
        "xaxis": {
         "title": {
          "text": "Ano"
         }
        },
        "yaxis": {
         "title": {
          "text": "Erro (RMSE / MAE)"
         }
        },
        "yaxis2": {
         "overlaying": "y",
         "range": [
          0,
          1
         ],
         "side": "right",
         "title": {
          "text": "R²"
         }
        }
       }
      }
     },
     "metadata": {},
     "output_type": "display_data"
    }
   ],
   "source": [
    "fig = go.Figure()\n",
    "\n",
    "fig.add_trace(go.Bar(\n",
    "    x=avaliacao_rolling['ano'],\n",
    "    y=avaliacao_rolling['rmse'].round(2),\n",
    "    name='RMSE',\n",
    "    marker_color='orange'\n",
    "))\n",
    "fig.add_trace(go.Bar(\n",
    "    x=avaliacao_rolling['ano'],\n",
    "    y=avaliacao_rolling['mae'].round(2),\n",
    "    name='MAE',\n",
    "    marker_color='deepskyblue'\n",
    "))\n",
    "fig.add_trace(go.Scatter(\n",
    "    x=avaliacao_rolling['ano'],\n",
    "    y=avaliacao_rolling['r2'].round(2),\n",
    "    name='R²',\n",
    "    mode='lines+markers',\n",
    "    marker=dict(color='lime'),\n",
    "    yaxis='y2'\n",
    "))\n",
    "\n",
    "fig.update_layout(\n",
    "    template='plotly_dark',\n",
    "    title='Avaliação Anual do Modelo (RMSE, MAE, R²)',\n",
    "    xaxis_title='Ano',\n",
    "    yaxis=dict(title='Erro (RMSE / MAE)'),\n",
    "    yaxis2=dict(\n",
    "        title='R²',\n",
    "        overlaying='y',\n",
    "        side='right',\n",
    "        range=[0, 1]\n",
    "    ),\n",
    "    legend=dict(x=0.01, y=0.99)\n",
    ")\n",
    "\n",
    "fig.show()"
   ]
  },
  {
   "cell_type": "markdown",
   "id": "0dbcff3c",
   "metadata": {},
   "source": [
    "#### 🏦 Consulta Anual de Títulos Tesouro IPCA+\n",
    "\n",
    "Este trecho do projeto retorna os títulos **Tesouro IPCA+** disponíveis em **31 de dezembro** de cada ano entre 2018 e 2024, com base em um DataFrame histórico de classificações chamado `df_classificacao_dinamica`.\n",
    "\n",
    "---"
   ]
  },
  {
   "cell_type": "code",
   "execution_count": 117,
   "id": "fca2c256",
   "metadata": {},
   "outputs": [],
   "source": [
    "def filtrar_titulos_ipca_por_ano(df_classificacao_dinamica, ano):\n",
    "    \"\"\"\n",
    "    Retorna DataFrame com títulos IPCA+ disponíveis em 31/12 do ano informado, classificados por prazo.\n",
    "    \"\"\"\n",
    "    data_ref = pd.Timestamp(f\"{ano}-12-31\")\n",
    "    df_ano = df_classificacao_dinamica[\n",
    "        (df_classificacao_dinamica['classe'] == 'IPCA+') &\n",
    "        (df_classificacao_dinamica['data'] == data_ref)\n",
    "    ]\n",
    "    return df_ano\n",
    "\n",
    "df_ipca_2018 = filtrar_titulos_ipca_por_ano(df_classificacao_dinamica, 2018)\n",
    "df_ipca_2019 = filtrar_titulos_ipca_por_ano(df_classificacao_dinamica, 2019)\n",
    "df_ipca_2020 = filtrar_titulos_ipca_por_ano(df_classificacao_dinamica, 2020)\n",
    "df_ipca_2021 = filtrar_titulos_ipca_por_ano(df_classificacao_dinamica, 2021)\n",
    "df_ipca_2022 = filtrar_titulos_ipca_por_ano(df_classificacao_dinamica, 2022)\n",
    "df_ipca_2023 = filtrar_titulos_ipca_por_ano(df_classificacao_dinamica, 2023)\n",
    "df_ipca_2024 = filtrar_titulos_ipca_por_ano(df_classificacao_dinamica, 2024)"
   ]
  },
  {
   "cell_type": "markdown",
   "id": "6df4afa2",
   "metadata": {},
   "source": [
    "<small>\n",
    "\n",
    "### 📈 Cálculo do Retorno Acumulado Trimestral\n",
    "\n",
    "O trecho de código a seguir calcula o **retorno acumulado de cada trimestre para cada título Tesouro IPCA+**.\n",
    "\n",
    "Esse processo é fundamental para avaliar a performance histórica dos papéis em janelas temporais regulares, permitindo:\n",
    "\n",
    "- Análise comparativa entre vencimentos.\n",
    "- Construção de estratégias com base em ciclos econômicos.\n",
    "- Alimentação de modelos preditivos com dados estruturados por trimestre.\n",
    "\n",
    "<small>"
   ]
  },
  {
   "cell_type": "code",
   "execution_count": 118,
   "id": "3c2ab536",
   "metadata": {},
   "outputs": [
    {
     "data": {
      "text/html": [
       "<div>\n",
       "<style scoped>\n",
       "    .dataframe tbody tr th:only-of-type {\n",
       "        vertical-align: middle;\n",
       "    }\n",
       "\n",
       "    .dataframe tbody tr th {\n",
       "        vertical-align: top;\n",
       "    }\n",
       "\n",
       "    .dataframe thead th {\n",
       "        text-align: right;\n",
       "    }\n",
       "</style>\n",
       "<table border=\"1\" class=\"dataframe\">\n",
       "  <thead>\n",
       "    <tr style=\"text-align: right;\">\n",
       "      <th>ticker</th>\n",
       "      <th>tesouro_ipca_2019</th>\n",
       "      <th>tesouro_ipca_2024</th>\n",
       "      <th>tesouro_ipca_2026</th>\n",
       "      <th>tesouro_ipca_2029</th>\n",
       "      <th>tesouro_ipca_2035</th>\n",
       "      <th>tesouro_ipca_2040</th>\n",
       "      <th>tesouro_ipca_2045</th>\n",
       "      <th>tesouro_ipca_2050</th>\n",
       "    </tr>\n",
       "    <tr>\n",
       "      <th>trimestre</th>\n",
       "      <th></th>\n",
       "      <th></th>\n",
       "      <th></th>\n",
       "      <th></th>\n",
       "      <th></th>\n",
       "      <th></th>\n",
       "      <th></th>\n",
       "      <th></th>\n",
       "    </tr>\n",
       "  </thead>\n",
       "  <tbody>\n",
       "    <tr>\n",
       "      <th>2018-03-31</th>\n",
       "      <td>2.10</td>\n",
       "      <td>2.22</td>\n",
       "      <td>NaN</td>\n",
       "      <td>NaN</td>\n",
       "      <td>-1.90</td>\n",
       "      <td>NaN</td>\n",
       "      <td>-3.65</td>\n",
       "      <td>NaN</td>\n",
       "    </tr>\n",
       "    <tr>\n",
       "      <th>2018-06-30</th>\n",
       "      <td>1.33</td>\n",
       "      <td>-4.45</td>\n",
       "      <td>NaN</td>\n",
       "      <td>NaN</td>\n",
       "      <td>-7.75</td>\n",
       "      <td>NaN</td>\n",
       "      <td>-13.40</td>\n",
       "      <td>NaN</td>\n",
       "    </tr>\n",
       "    <tr>\n",
       "      <th>2018-09-30</th>\n",
       "      <td>1.90</td>\n",
       "      <td>1.01</td>\n",
       "      <td>NaN</td>\n",
       "      <td>NaN</td>\n",
       "      <td>-0.10</td>\n",
       "      <td>NaN</td>\n",
       "      <td>-1.59</td>\n",
       "      <td>NaN</td>\n",
       "    </tr>\n",
       "    <tr>\n",
       "      <th>2018-12-31</th>\n",
       "      <td>0.96</td>\n",
       "      <td>9.62</td>\n",
       "      <td>NaN</td>\n",
       "      <td>NaN</td>\n",
       "      <td>17.57</td>\n",
       "      <td>NaN</td>\n",
       "      <td>28.24</td>\n",
       "      <td>NaN</td>\n",
       "    </tr>\n",
       "    <tr>\n",
       "      <th>2019-03-31</th>\n",
       "      <td>2.12</td>\n",
       "      <td>4.10</td>\n",
       "      <td>NaN</td>\n",
       "      <td>NaN</td>\n",
       "      <td>10.34</td>\n",
       "      <td>NaN</td>\n",
       "      <td>15.61</td>\n",
       "      <td>NaN</td>\n",
       "    </tr>\n",
       "    <tr>\n",
       "      <th>2019-06-30</th>\n",
       "      <td>1.04</td>\n",
       "      <td>7.06</td>\n",
       "      <td>NaN</td>\n",
       "      <td>NaN</td>\n",
       "      <td>15.05</td>\n",
       "      <td>NaN</td>\n",
       "      <td>23.97</td>\n",
       "      <td>NaN</td>\n",
       "    </tr>\n",
       "    <tr>\n",
       "      <th>2019-09-30</th>\n",
       "      <td>NaN</td>\n",
       "      <td>3.17</td>\n",
       "      <td>NaN</td>\n",
       "      <td>NaN</td>\n",
       "      <td>3.12</td>\n",
       "      <td>NaN</td>\n",
       "      <td>4.32</td>\n",
       "      <td>NaN</td>\n",
       "    </tr>\n",
       "    <tr>\n",
       "      <th>2019-12-31</th>\n",
       "      <td>NaN</td>\n",
       "      <td>3.09</td>\n",
       "      <td>NaN</td>\n",
       "      <td>NaN</td>\n",
       "      <td>3.12</td>\n",
       "      <td>NaN</td>\n",
       "      <td>3.82</td>\n",
       "      <td>NaN</td>\n",
       "    </tr>\n",
       "    <tr>\n",
       "      <th>2020-03-31</th>\n",
       "      <td>NaN</td>\n",
       "      <td>-1.86</td>\n",
       "      <td>NaN</td>\n",
       "      <td>NaN</td>\n",
       "      <td>-13.39</td>\n",
       "      <td>NaN</td>\n",
       "      <td>-22.21</td>\n",
       "      <td>NaN</td>\n",
       "    </tr>\n",
       "    <tr>\n",
       "      <th>2020-06-30</th>\n",
       "      <td>NaN</td>\n",
       "      <td>6.04</td>\n",
       "      <td>NaN</td>\n",
       "      <td>NaN</td>\n",
       "      <td>7.79</td>\n",
       "      <td>NaN</td>\n",
       "      <td>12.95</td>\n",
       "      <td>NaN</td>\n",
       "    </tr>\n",
       "    <tr>\n",
       "      <th>2020-09-30</th>\n",
       "      <td>NaN</td>\n",
       "      <td>0.40</td>\n",
       "      <td>NaN</td>\n",
       "      <td>NaN</td>\n",
       "      <td>0.18</td>\n",
       "      <td>NaN</td>\n",
       "      <td>-1.06</td>\n",
       "      <td>NaN</td>\n",
       "    </tr>\n",
       "    <tr>\n",
       "      <th>2020-12-31</th>\n",
       "      <td>NaN</td>\n",
       "      <td>4.23</td>\n",
       "      <td>NaN</td>\n",
       "      <td>NaN</td>\n",
       "      <td>14.50</td>\n",
       "      <td>NaN</td>\n",
       "      <td>22.46</td>\n",
       "      <td>NaN</td>\n",
       "    </tr>\n",
       "    <tr>\n",
       "      <th>2021-03-31</th>\n",
       "      <td>NaN</td>\n",
       "      <td>-2.19</td>\n",
       "      <td>NaN</td>\n",
       "      <td>NaN</td>\n",
       "      <td>-6.14</td>\n",
       "      <td>NaN</td>\n",
       "      <td>-12.15</td>\n",
       "      <td>NaN</td>\n",
       "    </tr>\n",
       "    <tr>\n",
       "      <th>2021-06-30</th>\n",
       "      <td>NaN</td>\n",
       "      <td>1.75</td>\n",
       "      <td>NaN</td>\n",
       "      <td>NaN</td>\n",
       "      <td>1.61</td>\n",
       "      <td>NaN</td>\n",
       "      <td>0.84</td>\n",
       "      <td>NaN</td>\n",
       "    </tr>\n",
       "    <tr>\n",
       "      <th>2021-09-30</th>\n",
       "      <td>NaN</td>\n",
       "      <td>0.73</td>\n",
       "      <td>NaN</td>\n",
       "      <td>NaN</td>\n",
       "      <td>-5.62</td>\n",
       "      <td>NaN</td>\n",
       "      <td>-11.97</td>\n",
       "      <td>NaN</td>\n",
       "    </tr>\n",
       "    <tr>\n",
       "      <th>2021-12-31</th>\n",
       "      <td>NaN</td>\n",
       "      <td>1.92</td>\n",
       "      <td>NaN</td>\n",
       "      <td>NaN</td>\n",
       "      <td>1.02</td>\n",
       "      <td>NaN</td>\n",
       "      <td>-1.35</td>\n",
       "      <td>NaN</td>\n",
       "    </tr>\n",
       "    <tr>\n",
       "      <th>2022-03-31</th>\n",
       "      <td>NaN</td>\n",
       "      <td>3.92</td>\n",
       "      <td>NaN</td>\n",
       "      <td>NaN</td>\n",
       "      <td>1.34</td>\n",
       "      <td>NaN</td>\n",
       "      <td>-0.56</td>\n",
       "      <td>NaN</td>\n",
       "    </tr>\n",
       "    <tr>\n",
       "      <th>2022-06-30</th>\n",
       "      <td>NaN</td>\n",
       "      <td>2.18</td>\n",
       "      <td>NaN</td>\n",
       "      <td>NaN</td>\n",
       "      <td>-1.10</td>\n",
       "      <td>NaN</td>\n",
       "      <td>-5.03</td>\n",
       "      <td>NaN</td>\n",
       "    </tr>\n",
       "    <tr>\n",
       "      <th>2022-09-30</th>\n",
       "      <td>NaN</td>\n",
       "      <td>-0.17</td>\n",
       "      <td>NaN</td>\n",
       "      <td>NaN</td>\n",
       "      <td>2.12</td>\n",
       "      <td>NaN</td>\n",
       "      <td>3.37</td>\n",
       "      <td>NaN</td>\n",
       "    </tr>\n",
       "    <tr>\n",
       "      <th>2022-12-31</th>\n",
       "      <td>NaN</td>\n",
       "      <td>2.57</td>\n",
       "      <td>NaN</td>\n",
       "      <td>NaN</td>\n",
       "      <td>-3.25</td>\n",
       "      <td>NaN</td>\n",
       "      <td>-10.48</td>\n",
       "      <td>NaN</td>\n",
       "    </tr>\n",
       "    <tr>\n",
       "      <th>2023-03-31</th>\n",
       "      <td>NaN</td>\n",
       "      <td>4.43</td>\n",
       "      <td>2.30</td>\n",
       "      <td>2.93</td>\n",
       "      <td>3.80</td>\n",
       "      <td>NaN</td>\n",
       "      <td>2.86</td>\n",
       "      <td>NaN</td>\n",
       "    </tr>\n",
       "    <tr>\n",
       "      <th>2023-06-30</th>\n",
       "      <td>NaN</td>\n",
       "      <td>1.44</td>\n",
       "      <td>3.49</td>\n",
       "      <td>7.05</td>\n",
       "      <td>13.89</td>\n",
       "      <td>NaN</td>\n",
       "      <td>20.40</td>\n",
       "      <td>NaN</td>\n",
       "    </tr>\n",
       "    <tr>\n",
       "      <th>2023-09-30</th>\n",
       "      <td>NaN</td>\n",
       "      <td>3.03</td>\n",
       "      <td>1.05</td>\n",
       "      <td>-1.24</td>\n",
       "      <td>-4.51</td>\n",
       "      <td>NaN</td>\n",
       "      <td>-5.74</td>\n",
       "      <td>NaN</td>\n",
       "    </tr>\n",
       "    <tr>\n",
       "      <th>2023-12-31</th>\n",
       "      <td>NaN</td>\n",
       "      <td>1.95</td>\n",
       "      <td>3.15</td>\n",
       "      <td>4.16</td>\n",
       "      <td>5.96</td>\n",
       "      <td>NaN</td>\n",
       "      <td>8.87</td>\n",
       "      <td>NaN</td>\n",
       "    </tr>\n",
       "    <tr>\n",
       "      <th>2024-03-31</th>\n",
       "      <td>NaN</td>\n",
       "      <td>2.77</td>\n",
       "      <td>1.75</td>\n",
       "      <td>0.34</td>\n",
       "      <td>-2.01</td>\n",
       "      <td>NaN</td>\n",
       "      <td>-3.17</td>\n",
       "      <td>NaN</td>\n",
       "    </tr>\n",
       "    <tr>\n",
       "      <th>2024-06-30</th>\n",
       "      <td>NaN</td>\n",
       "      <td>2.87</td>\n",
       "      <td>0.86</td>\n",
       "      <td>-0.61</td>\n",
       "      <td>-3.12</td>\n",
       "      <td>NaN</td>\n",
       "      <td>-7.06</td>\n",
       "      <td>NaN</td>\n",
       "    </tr>\n",
       "    <tr>\n",
       "      <th>2024-09-30</th>\n",
       "      <td>NaN</td>\n",
       "      <td>1.43</td>\n",
       "      <td>1.90</td>\n",
       "      <td>1.88</td>\n",
       "      <td>3.33</td>\n",
       "      <td>NaN</td>\n",
       "      <td>4.51</td>\n",
       "      <td>NaN</td>\n",
       "    </tr>\n",
       "    <tr>\n",
       "      <th>2024-12-31</th>\n",
       "      <td>NaN</td>\n",
       "      <td>NaN</td>\n",
       "      <td>1.18</td>\n",
       "      <td>-2.11</td>\n",
       "      <td>-7.00</td>\n",
       "      <td>NaN</td>\n",
       "      <td>-12.83</td>\n",
       "      <td>NaN</td>\n",
       "    </tr>\n",
       "    <tr>\n",
       "      <th>2025-03-31</th>\n",
       "      <td>NaN</td>\n",
       "      <td>NaN</td>\n",
       "      <td>2.32</td>\n",
       "      <td>3.70</td>\n",
       "      <td>4.96</td>\n",
       "      <td>2.48</td>\n",
       "      <td>2.58</td>\n",
       "      <td>10.03</td>\n",
       "    </tr>\n",
       "    <tr>\n",
       "      <th>2025-06-30</th>\n",
       "      <td>NaN</td>\n",
       "      <td>NaN</td>\n",
       "      <td>2.10</td>\n",
       "      <td>3.93</td>\n",
       "      <td>5.36</td>\n",
       "      <td>7.82</td>\n",
       "      <td>7.71</td>\n",
       "      <td>8.26</td>\n",
       "    </tr>\n",
       "  </tbody>\n",
       "</table>\n",
       "</div>"
      ],
      "text/plain": [
       "ticker      tesouro_ipca_2019  tesouro_ipca_2024  tesouro_ipca_2026  \\\n",
       "trimestre                                                             \n",
       "2018-03-31               2.10               2.22                NaN   \n",
       "2018-06-30               1.33              -4.45                NaN   \n",
       "2018-09-30               1.90               1.01                NaN   \n",
       "2018-12-31               0.96               9.62                NaN   \n",
       "2019-03-31               2.12               4.10                NaN   \n",
       "2019-06-30               1.04               7.06                NaN   \n",
       "2019-09-30                NaN               3.17                NaN   \n",
       "2019-12-31                NaN               3.09                NaN   \n",
       "2020-03-31                NaN              -1.86                NaN   \n",
       "2020-06-30                NaN               6.04                NaN   \n",
       "2020-09-30                NaN               0.40                NaN   \n",
       "2020-12-31                NaN               4.23                NaN   \n",
       "2021-03-31                NaN              -2.19                NaN   \n",
       "2021-06-30                NaN               1.75                NaN   \n",
       "2021-09-30                NaN               0.73                NaN   \n",
       "2021-12-31                NaN               1.92                NaN   \n",
       "2022-03-31                NaN               3.92                NaN   \n",
       "2022-06-30                NaN               2.18                NaN   \n",
       "2022-09-30                NaN              -0.17                NaN   \n",
       "2022-12-31                NaN               2.57                NaN   \n",
       "2023-03-31                NaN               4.43               2.30   \n",
       "2023-06-30                NaN               1.44               3.49   \n",
       "2023-09-30                NaN               3.03               1.05   \n",
       "2023-12-31                NaN               1.95               3.15   \n",
       "2024-03-31                NaN               2.77               1.75   \n",
       "2024-06-30                NaN               2.87               0.86   \n",
       "2024-09-30                NaN               1.43               1.90   \n",
       "2024-12-31                NaN                NaN               1.18   \n",
       "2025-03-31                NaN                NaN               2.32   \n",
       "2025-06-30                NaN                NaN               2.10   \n",
       "\n",
       "ticker      tesouro_ipca_2029  tesouro_ipca_2035  tesouro_ipca_2040  \\\n",
       "trimestre                                                             \n",
       "2018-03-31                NaN              -1.90                NaN   \n",
       "2018-06-30                NaN              -7.75                NaN   \n",
       "2018-09-30                NaN              -0.10                NaN   \n",
       "2018-12-31                NaN              17.57                NaN   \n",
       "2019-03-31                NaN              10.34                NaN   \n",
       "2019-06-30                NaN              15.05                NaN   \n",
       "2019-09-30                NaN               3.12                NaN   \n",
       "2019-12-31                NaN               3.12                NaN   \n",
       "2020-03-31                NaN             -13.39                NaN   \n",
       "2020-06-30                NaN               7.79                NaN   \n",
       "2020-09-30                NaN               0.18                NaN   \n",
       "2020-12-31                NaN              14.50                NaN   \n",
       "2021-03-31                NaN              -6.14                NaN   \n",
       "2021-06-30                NaN               1.61                NaN   \n",
       "2021-09-30                NaN              -5.62                NaN   \n",
       "2021-12-31                NaN               1.02                NaN   \n",
       "2022-03-31                NaN               1.34                NaN   \n",
       "2022-06-30                NaN              -1.10                NaN   \n",
       "2022-09-30                NaN               2.12                NaN   \n",
       "2022-12-31                NaN              -3.25                NaN   \n",
       "2023-03-31               2.93               3.80                NaN   \n",
       "2023-06-30               7.05              13.89                NaN   \n",
       "2023-09-30              -1.24              -4.51                NaN   \n",
       "2023-12-31               4.16               5.96                NaN   \n",
       "2024-03-31               0.34              -2.01                NaN   \n",
       "2024-06-30              -0.61              -3.12                NaN   \n",
       "2024-09-30               1.88               3.33                NaN   \n",
       "2024-12-31              -2.11              -7.00                NaN   \n",
       "2025-03-31               3.70               4.96               2.48   \n",
       "2025-06-30               3.93               5.36               7.82   \n",
       "\n",
       "ticker      tesouro_ipca_2045  tesouro_ipca_2050  \n",
       "trimestre                                         \n",
       "2018-03-31              -3.65                NaN  \n",
       "2018-06-30             -13.40                NaN  \n",
       "2018-09-30              -1.59                NaN  \n",
       "2018-12-31              28.24                NaN  \n",
       "2019-03-31              15.61                NaN  \n",
       "2019-06-30              23.97                NaN  \n",
       "2019-09-30               4.32                NaN  \n",
       "2019-12-31               3.82                NaN  \n",
       "2020-03-31             -22.21                NaN  \n",
       "2020-06-30              12.95                NaN  \n",
       "2020-09-30              -1.06                NaN  \n",
       "2020-12-31              22.46                NaN  \n",
       "2021-03-31             -12.15                NaN  \n",
       "2021-06-30               0.84                NaN  \n",
       "2021-09-30             -11.97                NaN  \n",
       "2021-12-31              -1.35                NaN  \n",
       "2022-03-31              -0.56                NaN  \n",
       "2022-06-30              -5.03                NaN  \n",
       "2022-09-30               3.37                NaN  \n",
       "2022-12-31             -10.48                NaN  \n",
       "2023-03-31               2.86                NaN  \n",
       "2023-06-30              20.40                NaN  \n",
       "2023-09-30              -5.74                NaN  \n",
       "2023-12-31               8.87                NaN  \n",
       "2024-03-31              -3.17                NaN  \n",
       "2024-06-30              -7.06                NaN  \n",
       "2024-09-30               4.51                NaN  \n",
       "2024-12-31             -12.83                NaN  \n",
       "2025-03-31               2.58              10.03  \n",
       "2025-06-30               7.71               8.26  "
      ]
     },
     "metadata": {},
     "output_type": "display_data"
    }
   ],
   "source": [
    "# Lista de tickers IPCA+ disponíveis no dicionário dfs_ipca\n",
    "titulos_ipca = list(dfs_ipca.keys())\n",
    "\n",
    "def calcular_percentual_acumulado_trimestral(dfs_ipca, titulos, anos):\n",
    "    \"\"\"\n",
    "    Calcula o percentual acumulado por trimestre para cada título e ano informado.\n",
    "    \n",
    "    Parâmetros:\n",
    "    - dfs_ipca: dict de DataFrames dos títulos IPCA+ (ex: dfs_ipca['tesouro_ipca_2019'])\n",
    "    - titulos: lista de tickers a considerar (ex: ['tesouro_ipca_2019', ...])\n",
    "    - anos: lista de anos (ex: [2018, 2019, 2020])\n",
    "    \n",
    "    Retorna:\n",
    "    - DataFrame com percentual acumulado por trimestre, por título\n",
    "    \"\"\"\n",
    "    resultados = []\n",
    "    for ano in anos:\n",
    "        # Define datas dos trimestres para o ano\n",
    "        trimestres = {\n",
    "            f'{ano}-03-31': (f'{ano}-01-01', f'{ano}-03-31'),\n",
    "            f'{ano}-06-30': (f'{ano}-04-01', f'{ano}-06-30'),\n",
    "            f'{ano}-09-30': (f'{ano}-07-01', f'{ano}-09-30'),\n",
    "            f'{ano}-12-31': (f'{ano}-10-01', f'{ano}-12-31')\n",
    "        }\n",
    "        for ticker in titulos:\n",
    "            df = dfs_ipca.get(ticker)\n",
    "            if df is None:\n",
    "                continue\n",
    "            for trimestre_fim, (inicio, fim) in trimestres.items():\n",
    "                df_trim = df.loc[inicio:fim]\n",
    "                if df_trim.empty:\n",
    "                    continue\n",
    "                pu_ini = df_trim['PU Venda Manha'].iloc[0]\n",
    "                df_trim = df_trim.copy()\n",
    "                df_trim['percentual_acumulado_trimestre'] = (df_trim['PU Venda Manha'] / pu_ini - 1) * 100\n",
    "                valor_final = df_trim['percentual_acumulado_trimestre'].iloc[-1]\n",
    "                resultados.append({\n",
    "                    'ticker': ticker,\n",
    "                    'trimestre': trimestre_fim,\n",
    "                    'percentual_acumulado': valor_final\n",
    "                })\n",
    "    df_result = pd.DataFrame(resultados)\n",
    "    return df_result\n",
    "\n",
    "anos = [2018, 2019, 2020, 2021, 2022, 2023, 2024, 2025]\n",
    "df_percentual_acumulado = calcular_percentual_acumulado_trimestral(dfs_ipca, titulos_ipca, anos)\n",
    "display(df_percentual_acumulado.pivot(index='trimestre', columns='ticker', values='percentual_acumulado').round(2))"
   ]
  },
  {
   "cell_type": "markdown",
   "id": "8ea4070a",
   "metadata": {},
   "source": [
    "<small>\n",
    "\n",
    "## Comparativo Trimestral: Real vs. Previsto\n",
    "\n",
    "Esta etapa do projeto gera um *DataFrame* contendo a comparação entre os valores reais e os valores previstos para cada trimestre de cada ano. O objetivo é avaliar o desempenho do modelo preditivo ao longo do tempo, facilitando a análise da acurácia em diferentes períodos.\n",
    "\n",
    "Gera um dataframe deslocado para criação de backtest\n",
    "\n",
    "<small>"
   ]
  },
  {
   "cell_type": "code",
   "execution_count": 119,
   "id": "346ab8e6",
   "metadata": {},
   "outputs": [
    {
     "data": {
      "text/html": [
       "<div>\n",
       "<style scoped>\n",
       "    .dataframe tbody tr th:only-of-type {\n",
       "        vertical-align: middle;\n",
       "    }\n",
       "\n",
       "    .dataframe tbody tr th {\n",
       "        vertical-align: top;\n",
       "    }\n",
       "\n",
       "    .dataframe thead th {\n",
       "        text-align: right;\n",
       "    }\n",
       "</style>\n",
       "<table border=\"1\" class=\"dataframe\">\n",
       "  <thead>\n",
       "    <tr style=\"text-align: right;\">\n",
       "      <th></th>\n",
       "      <th>Date</th>\n",
       "      <th>ipca</th>\n",
       "      <th>data_fim_trimestre</th>\n",
       "      <th>ipca_previsto</th>\n",
       "    </tr>\n",
       "  </thead>\n",
       "  <tbody>\n",
       "    <tr>\n",
       "      <th>0</th>\n",
       "      <td>2017-12-31</td>\n",
       "      <td>0.38</td>\n",
       "      <td>2018-03-31</td>\n",
       "      <td>0.27</td>\n",
       "    </tr>\n",
       "    <tr>\n",
       "      <th>1</th>\n",
       "      <td>2018-03-31</td>\n",
       "      <td>0.23</td>\n",
       "      <td>2018-06-30</td>\n",
       "      <td>0.66</td>\n",
       "    </tr>\n",
       "    <tr>\n",
       "      <th>2</th>\n",
       "      <td>2018-06-30</td>\n",
       "      <td>0.63</td>\n",
       "      <td>2018-09-30</td>\n",
       "      <td>0.29</td>\n",
       "    </tr>\n",
       "    <tr>\n",
       "      <th>3</th>\n",
       "      <td>2018-09-30</td>\n",
       "      <td>0.24</td>\n",
       "      <td>2018-12-31</td>\n",
       "      <td>0.22</td>\n",
       "    </tr>\n",
       "    <tr>\n",
       "      <th>4</th>\n",
       "      <td>2018-12-31</td>\n",
       "      <td>0.13</td>\n",
       "      <td>2019-03-31</td>\n",
       "      <td>0.57</td>\n",
       "    </tr>\n",
       "    <tr>\n",
       "      <th>5</th>\n",
       "      <td>2019-03-31</td>\n",
       "      <td>0.50</td>\n",
       "      <td>2019-06-30</td>\n",
       "      <td>0.25</td>\n",
       "    </tr>\n",
       "    <tr>\n",
       "      <th>6</th>\n",
       "      <td>2019-06-30</td>\n",
       "      <td>0.24</td>\n",
       "      <td>2019-09-30</td>\n",
       "      <td>0.18</td>\n",
       "    </tr>\n",
       "    <tr>\n",
       "      <th>7</th>\n",
       "      <td>2019-09-30</td>\n",
       "      <td>0.09</td>\n",
       "      <td>2019-12-31</td>\n",
       "      <td>0.67</td>\n",
       "    </tr>\n",
       "    <tr>\n",
       "      <th>8</th>\n",
       "      <td>2019-12-31</td>\n",
       "      <td>0.59</td>\n",
       "      <td>2020-03-31</td>\n",
       "      <td>0.23</td>\n",
       "    </tr>\n",
       "    <tr>\n",
       "      <th>9</th>\n",
       "      <td>2020-03-31</td>\n",
       "      <td>0.18</td>\n",
       "      <td>2020-06-30</td>\n",
       "      <td>0.16</td>\n",
       "    </tr>\n",
       "    <tr>\n",
       "      <th>10</th>\n",
       "      <td>2020-06-30</td>\n",
       "      <td>-0.14</td>\n",
       "      <td>2020-09-30</td>\n",
       "      <td>0.54</td>\n",
       "    </tr>\n",
       "    <tr>\n",
       "      <th>11</th>\n",
       "      <td>2020-09-30</td>\n",
       "      <td>0.41</td>\n",
       "      <td>2020-12-31</td>\n",
       "      <td>0.88</td>\n",
       "    </tr>\n",
       "    <tr>\n",
       "      <th>12</th>\n",
       "      <td>2020-12-31</td>\n",
       "      <td>1.03</td>\n",
       "      <td>2021-03-31</td>\n",
       "      <td>0.65</td>\n",
       "    </tr>\n",
       "    <tr>\n",
       "      <th>13</th>\n",
       "      <td>2021-03-31</td>\n",
       "      <td>0.68</td>\n",
       "      <td>2021-06-30</td>\n",
       "      <td>0.63</td>\n",
       "    </tr>\n",
       "    <tr>\n",
       "      <th>14</th>\n",
       "      <td>2021-06-30</td>\n",
       "      <td>0.56</td>\n",
       "      <td>2021-09-30</td>\n",
       "      <td>0.95</td>\n",
       "    </tr>\n",
       "    <tr>\n",
       "      <th>15</th>\n",
       "      <td>2021-09-30</td>\n",
       "      <td>1.00</td>\n",
       "      <td>2021-12-31</td>\n",
       "      <td>0.92</td>\n",
       "    </tr>\n",
       "    <tr>\n",
       "      <th>16</th>\n",
       "      <td>2021-12-31</td>\n",
       "      <td>0.98</td>\n",
       "      <td>2022-03-31</td>\n",
       "      <td>0.89</td>\n",
       "    </tr>\n",
       "    <tr>\n",
       "      <th>17</th>\n",
       "      <td>2022-03-31</td>\n",
       "      <td>1.06</td>\n",
       "      <td>2022-06-30</td>\n",
       "      <td>0.71</td>\n",
       "    </tr>\n",
       "    <tr>\n",
       "      <th>18</th>\n",
       "      <td>2022-06-30</td>\n",
       "      <td>0.73</td>\n",
       "      <td>2022-09-30</td>\n",
       "      <td>0.10</td>\n",
       "    </tr>\n",
       "    <tr>\n",
       "      <th>19</th>\n",
       "      <td>2022-09-30</td>\n",
       "      <td>-0.44</td>\n",
       "      <td>2022-12-31</td>\n",
       "      <td>0.45</td>\n",
       "    </tr>\n",
       "    <tr>\n",
       "      <th>20</th>\n",
       "      <td>2022-12-31</td>\n",
       "      <td>0.54</td>\n",
       "      <td>2023-03-31</td>\n",
       "      <td>0.64</td>\n",
       "    </tr>\n",
       "    <tr>\n",
       "      <th>21</th>\n",
       "      <td>2023-03-31</td>\n",
       "      <td>0.69</td>\n",
       "      <td>2023-06-30</td>\n",
       "      <td>0.09</td>\n",
       "    </tr>\n",
       "    <tr>\n",
       "      <th>22</th>\n",
       "      <td>2023-06-30</td>\n",
       "      <td>0.25</td>\n",
       "      <td>2023-09-30</td>\n",
       "      <td>0.05</td>\n",
       "    </tr>\n",
       "    <tr>\n",
       "      <th>23</th>\n",
       "      <td>2023-09-30</td>\n",
       "      <td>0.20</td>\n",
       "      <td>2023-12-31</td>\n",
       "      <td>0.22</td>\n",
       "    </tr>\n",
       "    <tr>\n",
       "      <th>24</th>\n",
       "      <td>2023-12-31</td>\n",
       "      <td>0.36</td>\n",
       "      <td>2024-03-31</td>\n",
       "      <td>0.47</td>\n",
       "    </tr>\n",
       "    <tr>\n",
       "      <th>25</th>\n",
       "      <td>2024-03-31</td>\n",
       "      <td>0.47</td>\n",
       "      <td>2024-06-30</td>\n",
       "      <td>0.30</td>\n",
       "    </tr>\n",
       "    <tr>\n",
       "      <th>26</th>\n",
       "      <td>2024-06-30</td>\n",
       "      <td>0.35</td>\n",
       "      <td>2024-09-30</td>\n",
       "      <td>0.18</td>\n",
       "    </tr>\n",
       "    <tr>\n",
       "      <th>27</th>\n",
       "      <td>2024-09-30</td>\n",
       "      <td>0.27</td>\n",
       "      <td>2024-12-31</td>\n",
       "      <td>0.46</td>\n",
       "    </tr>\n",
       "    <tr>\n",
       "      <th>28</th>\n",
       "      <td>2024-12-31</td>\n",
       "      <td>0.49</td>\n",
       "      <td>NaT</td>\n",
       "      <td>NaN</td>\n",
       "    </tr>\n",
       "  </tbody>\n",
       "</table>\n",
       "</div>"
      ],
      "text/plain": [
       "         Date  ipca data_fim_trimestre  ipca_previsto\n",
       "0  2017-12-31  0.38         2018-03-31           0.27\n",
       "1  2018-03-31  0.23         2018-06-30           0.66\n",
       "2  2018-06-30  0.63         2018-09-30           0.29\n",
       "3  2018-09-30  0.24         2018-12-31           0.22\n",
       "4  2018-12-31  0.13         2019-03-31           0.57\n",
       "5  2019-03-31  0.50         2019-06-30           0.25\n",
       "6  2019-06-30  0.24         2019-09-30           0.18\n",
       "7  2019-09-30  0.09         2019-12-31           0.67\n",
       "8  2019-12-31  0.59         2020-03-31           0.23\n",
       "9  2020-03-31  0.18         2020-06-30           0.16\n",
       "10 2020-06-30 -0.14         2020-09-30           0.54\n",
       "11 2020-09-30  0.41         2020-12-31           0.88\n",
       "12 2020-12-31  1.03         2021-03-31           0.65\n",
       "13 2021-03-31  0.68         2021-06-30           0.63\n",
       "14 2021-06-30  0.56         2021-09-30           0.95\n",
       "15 2021-09-30  1.00         2021-12-31           0.92\n",
       "16 2021-12-31  0.98         2022-03-31           0.89\n",
       "17 2022-03-31  1.06         2022-06-30           0.71\n",
       "18 2022-06-30  0.73         2022-09-30           0.10\n",
       "19 2022-09-30 -0.44         2022-12-31           0.45\n",
       "20 2022-12-31  0.54         2023-03-31           0.64\n",
       "21 2023-03-31  0.69         2023-06-30           0.09\n",
       "22 2023-06-30  0.25         2023-09-30           0.05\n",
       "23 2023-09-30  0.20         2023-12-31           0.22\n",
       "24 2023-12-31  0.36         2024-03-31           0.47\n",
       "25 2024-03-31  0.47         2024-06-30           0.30\n",
       "26 2024-06-30  0.35         2024-09-30           0.18\n",
       "27 2024-09-30  0.27         2024-12-31           0.46\n",
       "28 2024-12-31  0.49                NaT            NaN"
      ]
     },
     "metadata": {},
     "output_type": "display_data"
    }
   ],
   "source": [
    "# Primeiro, vamos garantir que temos as previsões trimestrais de todos os anos\n",
    "# A função rolling_window_ipca_forecast retorna as previsões em avaliacao_rolling['previsto'] e ['real'] para cada ano\n",
    "\n",
    "# Recria DataFrame consolidado de previsões trimestrais de 2018 a 2024\n",
    "previsoes = []\n",
    "for _, row in avaliacao_rolling.iterrows():\n",
    "    ano = row['ano']\n",
    "    y_pred = row['previsto']\n",
    "    y_real = row['real']\n",
    "    # Recupera datas dos trimestres para o ano\n",
    "    datas_trimestre = y.loc[y.index.year == ano].index\n",
    "    for i, data_fim in enumerate(datas_trimestre):\n",
    "        previsoes.append({\n",
    "            'ano': ano,\n",
    "            'trimestre': data_fim.quarter,\n",
    "            'data_fim_trimestre': data_fim,\n",
    "            'ipca_previsto': y_pred[i],\n",
    "            'ipca_real': y_real[i]\n",
    "        })\n",
    "\n",
    "df_previsao_ipca_full = pd.DataFrame(previsoes).round(2)\n",
    "\n",
    "# Gera um comparativo deslocado entre as previsões e os valores reais do IPCA para criação de backtest\n",
    "comparativo_previsao_real_deslocado = pd.concat([df_ipca_features['ipca'].loc['2017-12-31':'2024-12-31'].reset_index(), df_previsao_ipca_full[['data_fim_trimestre', 'ipca_previsto']]], axis=1).round(2)\n",
    "display(comparativo_previsao_real_deslocado)"
   ]
  },
  {
   "cell_type": "markdown",
   "id": "0c955508",
   "metadata": {},
   "source": [
    "<small>\n",
    "\n",
    "## Importância da Direção do IPCA para o Sucesso do Backtest\n",
    "\n",
    "Para o sucesso do backtest, o fator mais relevante é a capacidade do modelo de prever corretamente a direção da variação do IPCA no trimestre seguinte — ou seja, se a inflação irá subir ou cair. \n",
    "\n",
    "A previsão precisa da direção do IPCA permite antecipar movimentos do mercado de renda fixa, possibilitando decisões de alocação que se beneficiem da marcação a mercado. Assim, mesmo que o modelo não acerte exatamente o valor do IPCA, a identificação correta da tendência já é suficiente para obter ganhos relevantes por meio de estratégias especulativas.\n",
    "\n",
    "<small>"
   ]
  },
  {
   "cell_type": "code",
   "execution_count": 120,
   "id": "b076eec6",
   "metadata": {},
   "outputs": [
    {
     "name": "stdout",
     "output_type": "stream",
     "text": [
      "Taxa de acerto: 92.86%\n"
     ]
    }
   ],
   "source": [
    "def classificar_acerto(row):\n",
    "    if (row['ipca_previsto'] > 0 and row['ipca_real'] > 0) or (row['ipca_previsto'] < 0 and row['ipca_real'] < 0):\n",
    "        return \"acertou\"\n",
    "    else:\n",
    "        return \"errou\"\n",
    "\n",
    "df_previsao_ipca_full['acerto'] = df_previsao_ipca_full.apply(classificar_acerto, axis=1)\n",
    "# (df_previsao_ipca_full[['data_fim_trimestre', 'ipca_previsto', 'ipca_real', 'acerto']])\n",
    "\n",
    "# Calcula a taxa de acerto da coluna 'acerto' do DataFrame df_previsao_ipca_full\n",
    "taxa_acerto = (df_previsao_ipca_full['acerto'] == 'acertou').mean()\n",
    "print(f\"Taxa de acerto: {taxa_acerto:.2%}\")"
   ]
  },
  {
   "cell_type": "code",
   "execution_count": 121,
   "id": "b5a1994c",
   "metadata": {},
   "outputs": [
    {
     "data": {
      "application/vnd.plotly.v1+json": {
       "config": {
        "plotlyServerURL": "https://plot.ly"
       },
       "data": [
        {
         "line": {
          "color": "deepskyblue"
         },
         "mode": "lines+markers",
         "name": "IPCA Real",
         "type": "scatter",
         "x": [
          "2018-03-31T00:00:00.000000000",
          "2018-06-30T00:00:00.000000000",
          "2018-09-30T00:00:00.000000000",
          "2018-12-31T00:00:00.000000000",
          "2019-03-31T00:00:00.000000000",
          "2019-06-30T00:00:00.000000000",
          "2019-09-30T00:00:00.000000000",
          "2019-12-31T00:00:00.000000000",
          "2020-03-31T00:00:00.000000000",
          "2020-06-30T00:00:00.000000000",
          "2020-09-30T00:00:00.000000000",
          "2020-12-31T00:00:00.000000000",
          "2021-03-31T00:00:00.000000000",
          "2021-06-30T00:00:00.000000000",
          "2021-09-30T00:00:00.000000000",
          "2021-12-31T00:00:00.000000000",
          "2022-03-31T00:00:00.000000000",
          "2022-06-30T00:00:00.000000000",
          "2022-09-30T00:00:00.000000000",
          "2022-12-31T00:00:00.000000000",
          "2023-03-31T00:00:00.000000000",
          "2023-06-30T00:00:00.000000000",
          "2023-09-30T00:00:00.000000000",
          "2023-12-31T00:00:00.000000000",
          "2024-03-31T00:00:00.000000000",
          "2024-06-30T00:00:00.000000000",
          "2024-09-30T00:00:00.000000000",
          "2024-12-31T00:00:00.000000000"
         ],
         "y": {
          "bdata": "cT0K16NwzT8pXI/C9SjkP7gehetRuM4/pHA9CtejwD8AAAAAAADgP7gehetRuM4/CtejcD0Ktz/hehSuR+HiPwrXo3A9Csc/7FG4HoXrwb89CtejcD3aP3sUrkfhevA/w/UoXI/C5T/sUbgehevhPwAAAAAAAPA/XI/C9Shc7z/2KFyPwvXwP1yPwvUoXOc/KVyPwvUo3L9I4XoUrkfhPxSuR+F6FOY/AAAAAAAA0D+amZmZmZnJPwrXo3A9Ctc/FK5H4XoU3j9mZmZmZmbWP0jhehSuR9E/XI/C9Shc3z8=",
          "dtype": "f8"
         }
        },
        {
         "line": {
          "color": "orange"
         },
         "mode": "lines+markers",
         "name": "IPCA Previsto",
         "type": "scatter",
         "x": [
          "2018-03-31T00:00:00.000000000",
          "2018-06-30T00:00:00.000000000",
          "2018-09-30T00:00:00.000000000",
          "2018-12-31T00:00:00.000000000",
          "2019-03-31T00:00:00.000000000",
          "2019-06-30T00:00:00.000000000",
          "2019-09-30T00:00:00.000000000",
          "2019-12-31T00:00:00.000000000",
          "2020-03-31T00:00:00.000000000",
          "2020-06-30T00:00:00.000000000",
          "2020-09-30T00:00:00.000000000",
          "2020-12-31T00:00:00.000000000",
          "2021-03-31T00:00:00.000000000",
          "2021-06-30T00:00:00.000000000",
          "2021-09-30T00:00:00.000000000",
          "2021-12-31T00:00:00.000000000",
          "2022-03-31T00:00:00.000000000",
          "2022-06-30T00:00:00.000000000",
          "2022-09-30T00:00:00.000000000",
          "2022-12-31T00:00:00.000000000",
          "2023-03-31T00:00:00.000000000",
          "2023-06-30T00:00:00.000000000",
          "2023-09-30T00:00:00.000000000",
          "2023-12-31T00:00:00.000000000",
          "2024-03-31T00:00:00.000000000",
          "2024-06-30T00:00:00.000000000",
          "2024-09-30T00:00:00.000000000",
          "2024-12-31T00:00:00.000000000"
         ],
         "y": {
          "bdata": "SOF6FK5H0T8fhetRuB7lP4/C9Shcj9I/KVyPwvUozD89CtejcD3iPwAAAAAAANA/CtejcD0Kxz9xPQrXo3DlP3E9CtejcM0/exSuR+F6xD9I4XoUrkfhPylcj8L1KOw/zczMzMzM5D8pXI/C9SjkP2ZmZmZmZu4/cT0K16Nw7T97FK5H4XrsP7gehetRuOY/mpmZmZmZuT/NzMzMzMzcP3sUrkfheuQ/CtejcD0Ktz+amZmZmZmpPylcj8L1KMw/FK5H4XoU3j8zMzMzMzPTPwrXo3A9Csc/cT0K16Nw3T8=",
          "dtype": "f8"
         }
        }
       ],
       "layout": {
        "legend": {
         "x": 0.01,
         "y": 0.99
        },
        "template": {
         "data": {
          "bar": [
           {
            "error_x": {
             "color": "#f2f5fa"
            },
            "error_y": {
             "color": "#f2f5fa"
            },
            "marker": {
             "line": {
              "color": "rgb(17,17,17)",
              "width": 0.5
             },
             "pattern": {
              "fillmode": "overlay",
              "size": 10,
              "solidity": 0.2
             }
            },
            "type": "bar"
           }
          ],
          "barpolar": [
           {
            "marker": {
             "line": {
              "color": "rgb(17,17,17)",
              "width": 0.5
             },
             "pattern": {
              "fillmode": "overlay",
              "size": 10,
              "solidity": 0.2
             }
            },
            "type": "barpolar"
           }
          ],
          "carpet": [
           {
            "aaxis": {
             "endlinecolor": "#A2B1C6",
             "gridcolor": "#506784",
             "linecolor": "#506784",
             "minorgridcolor": "#506784",
             "startlinecolor": "#A2B1C6"
            },
            "baxis": {
             "endlinecolor": "#A2B1C6",
             "gridcolor": "#506784",
             "linecolor": "#506784",
             "minorgridcolor": "#506784",
             "startlinecolor": "#A2B1C6"
            },
            "type": "carpet"
           }
          ],
          "choropleth": [
           {
            "colorbar": {
             "outlinewidth": 0,
             "ticks": ""
            },
            "type": "choropleth"
           }
          ],
          "contour": [
           {
            "colorbar": {
             "outlinewidth": 0,
             "ticks": ""
            },
            "colorscale": [
             [
              0,
              "#0d0887"
             ],
             [
              0.1111111111111111,
              "#46039f"
             ],
             [
              0.2222222222222222,
              "#7201a8"
             ],
             [
              0.3333333333333333,
              "#9c179e"
             ],
             [
              0.4444444444444444,
              "#bd3786"
             ],
             [
              0.5555555555555556,
              "#d8576b"
             ],
             [
              0.6666666666666666,
              "#ed7953"
             ],
             [
              0.7777777777777778,
              "#fb9f3a"
             ],
             [
              0.8888888888888888,
              "#fdca26"
             ],
             [
              1,
              "#f0f921"
             ]
            ],
            "type": "contour"
           }
          ],
          "contourcarpet": [
           {
            "colorbar": {
             "outlinewidth": 0,
             "ticks": ""
            },
            "type": "contourcarpet"
           }
          ],
          "heatmap": [
           {
            "colorbar": {
             "outlinewidth": 0,
             "ticks": ""
            },
            "colorscale": [
             [
              0,
              "#0d0887"
             ],
             [
              0.1111111111111111,
              "#46039f"
             ],
             [
              0.2222222222222222,
              "#7201a8"
             ],
             [
              0.3333333333333333,
              "#9c179e"
             ],
             [
              0.4444444444444444,
              "#bd3786"
             ],
             [
              0.5555555555555556,
              "#d8576b"
             ],
             [
              0.6666666666666666,
              "#ed7953"
             ],
             [
              0.7777777777777778,
              "#fb9f3a"
             ],
             [
              0.8888888888888888,
              "#fdca26"
             ],
             [
              1,
              "#f0f921"
             ]
            ],
            "type": "heatmap"
           }
          ],
          "histogram": [
           {
            "marker": {
             "pattern": {
              "fillmode": "overlay",
              "size": 10,
              "solidity": 0.2
             }
            },
            "type": "histogram"
           }
          ],
          "histogram2d": [
           {
            "colorbar": {
             "outlinewidth": 0,
             "ticks": ""
            },
            "colorscale": [
             [
              0,
              "#0d0887"
             ],
             [
              0.1111111111111111,
              "#46039f"
             ],
             [
              0.2222222222222222,
              "#7201a8"
             ],
             [
              0.3333333333333333,
              "#9c179e"
             ],
             [
              0.4444444444444444,
              "#bd3786"
             ],
             [
              0.5555555555555556,
              "#d8576b"
             ],
             [
              0.6666666666666666,
              "#ed7953"
             ],
             [
              0.7777777777777778,
              "#fb9f3a"
             ],
             [
              0.8888888888888888,
              "#fdca26"
             ],
             [
              1,
              "#f0f921"
             ]
            ],
            "type": "histogram2d"
           }
          ],
          "histogram2dcontour": [
           {
            "colorbar": {
             "outlinewidth": 0,
             "ticks": ""
            },
            "colorscale": [
             [
              0,
              "#0d0887"
             ],
             [
              0.1111111111111111,
              "#46039f"
             ],
             [
              0.2222222222222222,
              "#7201a8"
             ],
             [
              0.3333333333333333,
              "#9c179e"
             ],
             [
              0.4444444444444444,
              "#bd3786"
             ],
             [
              0.5555555555555556,
              "#d8576b"
             ],
             [
              0.6666666666666666,
              "#ed7953"
             ],
             [
              0.7777777777777778,
              "#fb9f3a"
             ],
             [
              0.8888888888888888,
              "#fdca26"
             ],
             [
              1,
              "#f0f921"
             ]
            ],
            "type": "histogram2dcontour"
           }
          ],
          "mesh3d": [
           {
            "colorbar": {
             "outlinewidth": 0,
             "ticks": ""
            },
            "type": "mesh3d"
           }
          ],
          "parcoords": [
           {
            "line": {
             "colorbar": {
              "outlinewidth": 0,
              "ticks": ""
             }
            },
            "type": "parcoords"
           }
          ],
          "pie": [
           {
            "automargin": true,
            "type": "pie"
           }
          ],
          "scatter": [
           {
            "marker": {
             "line": {
              "color": "#283442"
             }
            },
            "type": "scatter"
           }
          ],
          "scatter3d": [
           {
            "line": {
             "colorbar": {
              "outlinewidth": 0,
              "ticks": ""
             }
            },
            "marker": {
             "colorbar": {
              "outlinewidth": 0,
              "ticks": ""
             }
            },
            "type": "scatter3d"
           }
          ],
          "scattercarpet": [
           {
            "marker": {
             "colorbar": {
              "outlinewidth": 0,
              "ticks": ""
             }
            },
            "type": "scattercarpet"
           }
          ],
          "scattergeo": [
           {
            "marker": {
             "colorbar": {
              "outlinewidth": 0,
              "ticks": ""
             }
            },
            "type": "scattergeo"
           }
          ],
          "scattergl": [
           {
            "marker": {
             "line": {
              "color": "#283442"
             }
            },
            "type": "scattergl"
           }
          ],
          "scattermap": [
           {
            "marker": {
             "colorbar": {
              "outlinewidth": 0,
              "ticks": ""
             }
            },
            "type": "scattermap"
           }
          ],
          "scattermapbox": [
           {
            "marker": {
             "colorbar": {
              "outlinewidth": 0,
              "ticks": ""
             }
            },
            "type": "scattermapbox"
           }
          ],
          "scatterpolar": [
           {
            "marker": {
             "colorbar": {
              "outlinewidth": 0,
              "ticks": ""
             }
            },
            "type": "scatterpolar"
           }
          ],
          "scatterpolargl": [
           {
            "marker": {
             "colorbar": {
              "outlinewidth": 0,
              "ticks": ""
             }
            },
            "type": "scatterpolargl"
           }
          ],
          "scatterternary": [
           {
            "marker": {
             "colorbar": {
              "outlinewidth": 0,
              "ticks": ""
             }
            },
            "type": "scatterternary"
           }
          ],
          "surface": [
           {
            "colorbar": {
             "outlinewidth": 0,
             "ticks": ""
            },
            "colorscale": [
             [
              0,
              "#0d0887"
             ],
             [
              0.1111111111111111,
              "#46039f"
             ],
             [
              0.2222222222222222,
              "#7201a8"
             ],
             [
              0.3333333333333333,
              "#9c179e"
             ],
             [
              0.4444444444444444,
              "#bd3786"
             ],
             [
              0.5555555555555556,
              "#d8576b"
             ],
             [
              0.6666666666666666,
              "#ed7953"
             ],
             [
              0.7777777777777778,
              "#fb9f3a"
             ],
             [
              0.8888888888888888,
              "#fdca26"
             ],
             [
              1,
              "#f0f921"
             ]
            ],
            "type": "surface"
           }
          ],
          "table": [
           {
            "cells": {
             "fill": {
              "color": "#506784"
             },
             "line": {
              "color": "rgb(17,17,17)"
             }
            },
            "header": {
             "fill": {
              "color": "#2a3f5f"
             },
             "line": {
              "color": "rgb(17,17,17)"
             }
            },
            "type": "table"
           }
          ]
         },
         "layout": {
          "annotationdefaults": {
           "arrowcolor": "#f2f5fa",
           "arrowhead": 0,
           "arrowwidth": 1
          },
          "autotypenumbers": "strict",
          "coloraxis": {
           "colorbar": {
            "outlinewidth": 0,
            "ticks": ""
           }
          },
          "colorscale": {
           "diverging": [
            [
             0,
             "#8e0152"
            ],
            [
             0.1,
             "#c51b7d"
            ],
            [
             0.2,
             "#de77ae"
            ],
            [
             0.3,
             "#f1b6da"
            ],
            [
             0.4,
             "#fde0ef"
            ],
            [
             0.5,
             "#f7f7f7"
            ],
            [
             0.6,
             "#e6f5d0"
            ],
            [
             0.7,
             "#b8e186"
            ],
            [
             0.8,
             "#7fbc41"
            ],
            [
             0.9,
             "#4d9221"
            ],
            [
             1,
             "#276419"
            ]
           ],
           "sequential": [
            [
             0,
             "#0d0887"
            ],
            [
             0.1111111111111111,
             "#46039f"
            ],
            [
             0.2222222222222222,
             "#7201a8"
            ],
            [
             0.3333333333333333,
             "#9c179e"
            ],
            [
             0.4444444444444444,
             "#bd3786"
            ],
            [
             0.5555555555555556,
             "#d8576b"
            ],
            [
             0.6666666666666666,
             "#ed7953"
            ],
            [
             0.7777777777777778,
             "#fb9f3a"
            ],
            [
             0.8888888888888888,
             "#fdca26"
            ],
            [
             1,
             "#f0f921"
            ]
           ],
           "sequentialminus": [
            [
             0,
             "#0d0887"
            ],
            [
             0.1111111111111111,
             "#46039f"
            ],
            [
             0.2222222222222222,
             "#7201a8"
            ],
            [
             0.3333333333333333,
             "#9c179e"
            ],
            [
             0.4444444444444444,
             "#bd3786"
            ],
            [
             0.5555555555555556,
             "#d8576b"
            ],
            [
             0.6666666666666666,
             "#ed7953"
            ],
            [
             0.7777777777777778,
             "#fb9f3a"
            ],
            [
             0.8888888888888888,
             "#fdca26"
            ],
            [
             1,
             "#f0f921"
            ]
           ]
          },
          "colorway": [
           "#636efa",
           "#EF553B",
           "#00cc96",
           "#ab63fa",
           "#FFA15A",
           "#19d3f3",
           "#FF6692",
           "#B6E880",
           "#FF97FF",
           "#FECB52"
          ],
          "font": {
           "color": "#f2f5fa"
          },
          "geo": {
           "bgcolor": "rgb(17,17,17)",
           "lakecolor": "rgb(17,17,17)",
           "landcolor": "rgb(17,17,17)",
           "showlakes": true,
           "showland": true,
           "subunitcolor": "#506784"
          },
          "hoverlabel": {
           "align": "left"
          },
          "hovermode": "closest",
          "mapbox": {
           "style": "dark"
          },
          "paper_bgcolor": "rgb(17,17,17)",
          "plot_bgcolor": "rgb(17,17,17)",
          "polar": {
           "angularaxis": {
            "gridcolor": "#506784",
            "linecolor": "#506784",
            "ticks": ""
           },
           "bgcolor": "rgb(17,17,17)",
           "radialaxis": {
            "gridcolor": "#506784",
            "linecolor": "#506784",
            "ticks": ""
           }
          },
          "scene": {
           "xaxis": {
            "backgroundcolor": "rgb(17,17,17)",
            "gridcolor": "#506784",
            "gridwidth": 2,
            "linecolor": "#506784",
            "showbackground": true,
            "ticks": "",
            "zerolinecolor": "#C8D4E3"
           },
           "yaxis": {
            "backgroundcolor": "rgb(17,17,17)",
            "gridcolor": "#506784",
            "gridwidth": 2,
            "linecolor": "#506784",
            "showbackground": true,
            "ticks": "",
            "zerolinecolor": "#C8D4E3"
           },
           "zaxis": {
            "backgroundcolor": "rgb(17,17,17)",
            "gridcolor": "#506784",
            "gridwidth": 2,
            "linecolor": "#506784",
            "showbackground": true,
            "ticks": "",
            "zerolinecolor": "#C8D4E3"
           }
          },
          "shapedefaults": {
           "line": {
            "color": "#f2f5fa"
           }
          },
          "sliderdefaults": {
           "bgcolor": "#C8D4E3",
           "bordercolor": "rgb(17,17,17)",
           "borderwidth": 1,
           "tickwidth": 0
          },
          "ternary": {
           "aaxis": {
            "gridcolor": "#506784",
            "linecolor": "#506784",
            "ticks": ""
           },
           "baxis": {
            "gridcolor": "#506784",
            "linecolor": "#506784",
            "ticks": ""
           },
           "bgcolor": "rgb(17,17,17)",
           "caxis": {
            "gridcolor": "#506784",
            "linecolor": "#506784",
            "ticks": ""
           }
          },
          "title": {
           "x": 0.05
          },
          "updatemenudefaults": {
           "bgcolor": "#506784",
           "borderwidth": 0
          },
          "xaxis": {
           "automargin": true,
           "gridcolor": "#283442",
           "linecolor": "#506784",
           "ticks": "",
           "title": {
            "standoff": 15
           },
           "zerolinecolor": "#283442",
           "zerolinewidth": 2
          },
          "yaxis": {
           "automargin": true,
           "gridcolor": "#283442",
           "linecolor": "#506784",
           "ticks": "",
           "title": {
            "standoff": 15
           },
           "zerolinecolor": "#283442",
           "zerolinewidth": 2
          }
         }
        },
        "title": {
         "text": "IPCA Real vs. Previsto por Trimestre"
        },
        "xaxis": {
         "title": {
          "text": "Data do Fim do Trimestre"
         }
        },
        "yaxis": {
         "title": {
          "text": "IPCA (%)"
         }
        }
       }
      }
     },
     "metadata": {},
     "output_type": "display_data"
    },
    {
     "data": {
      "application/vnd.plotly.v1+json": {
       "config": {
        "plotlyServerURL": "https://plot.ly"
       },
       "data": [
        {
         "hovertemplate": "Data: %{x}<br>Previsto: %{y}<br>Acerto",
         "marker": {
          "color": "lime",
          "size": 10,
          "symbol": "circle"
         },
         "mode": "markers",
         "name": "Acertou",
         "type": "scatter",
         "x": [
          "2018-03-31T00:00:00.000000000",
          "2018-06-30T00:00:00.000000000",
          "2018-09-30T00:00:00.000000000",
          "2018-12-31T00:00:00.000000000",
          "2019-03-31T00:00:00.000000000",
          "2019-06-30T00:00:00.000000000",
          "2019-09-30T00:00:00.000000000",
          "2019-12-31T00:00:00.000000000",
          "2020-03-31T00:00:00.000000000",
          "2020-09-30T00:00:00.000000000",
          "2020-12-31T00:00:00.000000000",
          "2021-03-31T00:00:00.000000000",
          "2021-06-30T00:00:00.000000000",
          "2021-09-30T00:00:00.000000000",
          "2021-12-31T00:00:00.000000000",
          "2022-03-31T00:00:00.000000000",
          "2022-06-30T00:00:00.000000000",
          "2022-12-31T00:00:00.000000000",
          "2023-03-31T00:00:00.000000000",
          "2023-06-30T00:00:00.000000000",
          "2023-09-30T00:00:00.000000000",
          "2023-12-31T00:00:00.000000000",
          "2024-03-31T00:00:00.000000000",
          "2024-06-30T00:00:00.000000000",
          "2024-09-30T00:00:00.000000000",
          "2024-12-31T00:00:00.000000000"
         ],
         "y": {
          "bdata": "SOF6FK5H0T8fhetRuB7lP4/C9Shcj9I/KVyPwvUozD89CtejcD3iPwAAAAAAANA/CtejcD0Kxz9xPQrXo3DlP3E9CtejcM0/SOF6FK5H4T8pXI/C9SjsP83MzMzMzOQ/KVyPwvUo5D9mZmZmZmbuP3E9CtejcO0/exSuR+F67D+4HoXrUbjmP83MzMzMzNw/exSuR+F65D8K16NwPQq3P5qZmZmZmak/KVyPwvUozD8UrkfhehTePzMzMzMzM9M/CtejcD0Kxz9xPQrXo3DdPw==",
          "dtype": "f8"
         }
        },
        {
         "hovertemplate": "Data: %{x}<br>Previsto: %{y}<br>Erro",
         "marker": {
          "color": "red",
          "size": 10,
          "symbol": "x"
         },
         "mode": "markers",
         "name": "Errou",
         "type": "scatter",
         "x": [
          "2020-06-30T00:00:00.000000000",
          "2022-09-30T00:00:00.000000000"
         ],
         "y": {
          "bdata": "exSuR+F6xD+amZmZmZm5Pw==",
          "dtype": "f8"
         }
        }
       ],
       "layout": {
        "legend": {
         "x": 0.01,
         "y": 0.99
        },
        "template": {
         "data": {
          "bar": [
           {
            "error_x": {
             "color": "#f2f5fa"
            },
            "error_y": {
             "color": "#f2f5fa"
            },
            "marker": {
             "line": {
              "color": "rgb(17,17,17)",
              "width": 0.5
             },
             "pattern": {
              "fillmode": "overlay",
              "size": 10,
              "solidity": 0.2
             }
            },
            "type": "bar"
           }
          ],
          "barpolar": [
           {
            "marker": {
             "line": {
              "color": "rgb(17,17,17)",
              "width": 0.5
             },
             "pattern": {
              "fillmode": "overlay",
              "size": 10,
              "solidity": 0.2
             }
            },
            "type": "barpolar"
           }
          ],
          "carpet": [
           {
            "aaxis": {
             "endlinecolor": "#A2B1C6",
             "gridcolor": "#506784",
             "linecolor": "#506784",
             "minorgridcolor": "#506784",
             "startlinecolor": "#A2B1C6"
            },
            "baxis": {
             "endlinecolor": "#A2B1C6",
             "gridcolor": "#506784",
             "linecolor": "#506784",
             "minorgridcolor": "#506784",
             "startlinecolor": "#A2B1C6"
            },
            "type": "carpet"
           }
          ],
          "choropleth": [
           {
            "colorbar": {
             "outlinewidth": 0,
             "ticks": ""
            },
            "type": "choropleth"
           }
          ],
          "contour": [
           {
            "colorbar": {
             "outlinewidth": 0,
             "ticks": ""
            },
            "colorscale": [
             [
              0,
              "#0d0887"
             ],
             [
              0.1111111111111111,
              "#46039f"
             ],
             [
              0.2222222222222222,
              "#7201a8"
             ],
             [
              0.3333333333333333,
              "#9c179e"
             ],
             [
              0.4444444444444444,
              "#bd3786"
             ],
             [
              0.5555555555555556,
              "#d8576b"
             ],
             [
              0.6666666666666666,
              "#ed7953"
             ],
             [
              0.7777777777777778,
              "#fb9f3a"
             ],
             [
              0.8888888888888888,
              "#fdca26"
             ],
             [
              1,
              "#f0f921"
             ]
            ],
            "type": "contour"
           }
          ],
          "contourcarpet": [
           {
            "colorbar": {
             "outlinewidth": 0,
             "ticks": ""
            },
            "type": "contourcarpet"
           }
          ],
          "heatmap": [
           {
            "colorbar": {
             "outlinewidth": 0,
             "ticks": ""
            },
            "colorscale": [
             [
              0,
              "#0d0887"
             ],
             [
              0.1111111111111111,
              "#46039f"
             ],
             [
              0.2222222222222222,
              "#7201a8"
             ],
             [
              0.3333333333333333,
              "#9c179e"
             ],
             [
              0.4444444444444444,
              "#bd3786"
             ],
             [
              0.5555555555555556,
              "#d8576b"
             ],
             [
              0.6666666666666666,
              "#ed7953"
             ],
             [
              0.7777777777777778,
              "#fb9f3a"
             ],
             [
              0.8888888888888888,
              "#fdca26"
             ],
             [
              1,
              "#f0f921"
             ]
            ],
            "type": "heatmap"
           }
          ],
          "histogram": [
           {
            "marker": {
             "pattern": {
              "fillmode": "overlay",
              "size": 10,
              "solidity": 0.2
             }
            },
            "type": "histogram"
           }
          ],
          "histogram2d": [
           {
            "colorbar": {
             "outlinewidth": 0,
             "ticks": ""
            },
            "colorscale": [
             [
              0,
              "#0d0887"
             ],
             [
              0.1111111111111111,
              "#46039f"
             ],
             [
              0.2222222222222222,
              "#7201a8"
             ],
             [
              0.3333333333333333,
              "#9c179e"
             ],
             [
              0.4444444444444444,
              "#bd3786"
             ],
             [
              0.5555555555555556,
              "#d8576b"
             ],
             [
              0.6666666666666666,
              "#ed7953"
             ],
             [
              0.7777777777777778,
              "#fb9f3a"
             ],
             [
              0.8888888888888888,
              "#fdca26"
             ],
             [
              1,
              "#f0f921"
             ]
            ],
            "type": "histogram2d"
           }
          ],
          "histogram2dcontour": [
           {
            "colorbar": {
             "outlinewidth": 0,
             "ticks": ""
            },
            "colorscale": [
             [
              0,
              "#0d0887"
             ],
             [
              0.1111111111111111,
              "#46039f"
             ],
             [
              0.2222222222222222,
              "#7201a8"
             ],
             [
              0.3333333333333333,
              "#9c179e"
             ],
             [
              0.4444444444444444,
              "#bd3786"
             ],
             [
              0.5555555555555556,
              "#d8576b"
             ],
             [
              0.6666666666666666,
              "#ed7953"
             ],
             [
              0.7777777777777778,
              "#fb9f3a"
             ],
             [
              0.8888888888888888,
              "#fdca26"
             ],
             [
              1,
              "#f0f921"
             ]
            ],
            "type": "histogram2dcontour"
           }
          ],
          "mesh3d": [
           {
            "colorbar": {
             "outlinewidth": 0,
             "ticks": ""
            },
            "type": "mesh3d"
           }
          ],
          "parcoords": [
           {
            "line": {
             "colorbar": {
              "outlinewidth": 0,
              "ticks": ""
             }
            },
            "type": "parcoords"
           }
          ],
          "pie": [
           {
            "automargin": true,
            "type": "pie"
           }
          ],
          "scatter": [
           {
            "marker": {
             "line": {
              "color": "#283442"
             }
            },
            "type": "scatter"
           }
          ],
          "scatter3d": [
           {
            "line": {
             "colorbar": {
              "outlinewidth": 0,
              "ticks": ""
             }
            },
            "marker": {
             "colorbar": {
              "outlinewidth": 0,
              "ticks": ""
             }
            },
            "type": "scatter3d"
           }
          ],
          "scattercarpet": [
           {
            "marker": {
             "colorbar": {
              "outlinewidth": 0,
              "ticks": ""
             }
            },
            "type": "scattercarpet"
           }
          ],
          "scattergeo": [
           {
            "marker": {
             "colorbar": {
              "outlinewidth": 0,
              "ticks": ""
             }
            },
            "type": "scattergeo"
           }
          ],
          "scattergl": [
           {
            "marker": {
             "line": {
              "color": "#283442"
             }
            },
            "type": "scattergl"
           }
          ],
          "scattermap": [
           {
            "marker": {
             "colorbar": {
              "outlinewidth": 0,
              "ticks": ""
             }
            },
            "type": "scattermap"
           }
          ],
          "scattermapbox": [
           {
            "marker": {
             "colorbar": {
              "outlinewidth": 0,
              "ticks": ""
             }
            },
            "type": "scattermapbox"
           }
          ],
          "scatterpolar": [
           {
            "marker": {
             "colorbar": {
              "outlinewidth": 0,
              "ticks": ""
             }
            },
            "type": "scatterpolar"
           }
          ],
          "scatterpolargl": [
           {
            "marker": {
             "colorbar": {
              "outlinewidth": 0,
              "ticks": ""
             }
            },
            "type": "scatterpolargl"
           }
          ],
          "scatterternary": [
           {
            "marker": {
             "colorbar": {
              "outlinewidth": 0,
              "ticks": ""
             }
            },
            "type": "scatterternary"
           }
          ],
          "surface": [
           {
            "colorbar": {
             "outlinewidth": 0,
             "ticks": ""
            },
            "colorscale": [
             [
              0,
              "#0d0887"
             ],
             [
              0.1111111111111111,
              "#46039f"
             ],
             [
              0.2222222222222222,
              "#7201a8"
             ],
             [
              0.3333333333333333,
              "#9c179e"
             ],
             [
              0.4444444444444444,
              "#bd3786"
             ],
             [
              0.5555555555555556,
              "#d8576b"
             ],
             [
              0.6666666666666666,
              "#ed7953"
             ],
             [
              0.7777777777777778,
              "#fb9f3a"
             ],
             [
              0.8888888888888888,
              "#fdca26"
             ],
             [
              1,
              "#f0f921"
             ]
            ],
            "type": "surface"
           }
          ],
          "table": [
           {
            "cells": {
             "fill": {
              "color": "#506784"
             },
             "line": {
              "color": "rgb(17,17,17)"
             }
            },
            "header": {
             "fill": {
              "color": "#2a3f5f"
             },
             "line": {
              "color": "rgb(17,17,17)"
             }
            },
            "type": "table"
           }
          ]
         },
         "layout": {
          "annotationdefaults": {
           "arrowcolor": "#f2f5fa",
           "arrowhead": 0,
           "arrowwidth": 1
          },
          "autotypenumbers": "strict",
          "coloraxis": {
           "colorbar": {
            "outlinewidth": 0,
            "ticks": ""
           }
          },
          "colorscale": {
           "diverging": [
            [
             0,
             "#8e0152"
            ],
            [
             0.1,
             "#c51b7d"
            ],
            [
             0.2,
             "#de77ae"
            ],
            [
             0.3,
             "#f1b6da"
            ],
            [
             0.4,
             "#fde0ef"
            ],
            [
             0.5,
             "#f7f7f7"
            ],
            [
             0.6,
             "#e6f5d0"
            ],
            [
             0.7,
             "#b8e186"
            ],
            [
             0.8,
             "#7fbc41"
            ],
            [
             0.9,
             "#4d9221"
            ],
            [
             1,
             "#276419"
            ]
           ],
           "sequential": [
            [
             0,
             "#0d0887"
            ],
            [
             0.1111111111111111,
             "#46039f"
            ],
            [
             0.2222222222222222,
             "#7201a8"
            ],
            [
             0.3333333333333333,
             "#9c179e"
            ],
            [
             0.4444444444444444,
             "#bd3786"
            ],
            [
             0.5555555555555556,
             "#d8576b"
            ],
            [
             0.6666666666666666,
             "#ed7953"
            ],
            [
             0.7777777777777778,
             "#fb9f3a"
            ],
            [
             0.8888888888888888,
             "#fdca26"
            ],
            [
             1,
             "#f0f921"
            ]
           ],
           "sequentialminus": [
            [
             0,
             "#0d0887"
            ],
            [
             0.1111111111111111,
             "#46039f"
            ],
            [
             0.2222222222222222,
             "#7201a8"
            ],
            [
             0.3333333333333333,
             "#9c179e"
            ],
            [
             0.4444444444444444,
             "#bd3786"
            ],
            [
             0.5555555555555556,
             "#d8576b"
            ],
            [
             0.6666666666666666,
             "#ed7953"
            ],
            [
             0.7777777777777778,
             "#fb9f3a"
            ],
            [
             0.8888888888888888,
             "#fdca26"
            ],
            [
             1,
             "#f0f921"
            ]
           ]
          },
          "colorway": [
           "#636efa",
           "#EF553B",
           "#00cc96",
           "#ab63fa",
           "#FFA15A",
           "#19d3f3",
           "#FF6692",
           "#B6E880",
           "#FF97FF",
           "#FECB52"
          ],
          "font": {
           "color": "#f2f5fa"
          },
          "geo": {
           "bgcolor": "rgb(17,17,17)",
           "lakecolor": "rgb(17,17,17)",
           "landcolor": "rgb(17,17,17)",
           "showlakes": true,
           "showland": true,
           "subunitcolor": "#506784"
          },
          "hoverlabel": {
           "align": "left"
          },
          "hovermode": "closest",
          "mapbox": {
           "style": "dark"
          },
          "paper_bgcolor": "rgb(17,17,17)",
          "plot_bgcolor": "rgb(17,17,17)",
          "polar": {
           "angularaxis": {
            "gridcolor": "#506784",
            "linecolor": "#506784",
            "ticks": ""
           },
           "bgcolor": "rgb(17,17,17)",
           "radialaxis": {
            "gridcolor": "#506784",
            "linecolor": "#506784",
            "ticks": ""
           }
          },
          "scene": {
           "xaxis": {
            "backgroundcolor": "rgb(17,17,17)",
            "gridcolor": "#506784",
            "gridwidth": 2,
            "linecolor": "#506784",
            "showbackground": true,
            "ticks": "",
            "zerolinecolor": "#C8D4E3"
           },
           "yaxis": {
            "backgroundcolor": "rgb(17,17,17)",
            "gridcolor": "#506784",
            "gridwidth": 2,
            "linecolor": "#506784",
            "showbackground": true,
            "ticks": "",
            "zerolinecolor": "#C8D4E3"
           },
           "zaxis": {
            "backgroundcolor": "rgb(17,17,17)",
            "gridcolor": "#506784",
            "gridwidth": 2,
            "linecolor": "#506784",
            "showbackground": true,
            "ticks": "",
            "zerolinecolor": "#C8D4E3"
           }
          },
          "shapedefaults": {
           "line": {
            "color": "#f2f5fa"
           }
          },
          "sliderdefaults": {
           "bgcolor": "#C8D4E3",
           "bordercolor": "rgb(17,17,17)",
           "borderwidth": 1,
           "tickwidth": 0
          },
          "ternary": {
           "aaxis": {
            "gridcolor": "#506784",
            "linecolor": "#506784",
            "ticks": ""
           },
           "baxis": {
            "gridcolor": "#506784",
            "linecolor": "#506784",
            "ticks": ""
           },
           "bgcolor": "rgb(17,17,17)",
           "caxis": {
            "gridcolor": "#506784",
            "linecolor": "#506784",
            "ticks": ""
           }
          },
          "title": {
           "x": 0.05
          },
          "updatemenudefaults": {
           "bgcolor": "#506784",
           "borderwidth": 0
          },
          "xaxis": {
           "automargin": true,
           "gridcolor": "#283442",
           "linecolor": "#506784",
           "ticks": "",
           "title": {
            "standoff": 15
           },
           "zerolinecolor": "#283442",
           "zerolinewidth": 2
          },
          "yaxis": {
           "automargin": true,
           "gridcolor": "#283442",
           "linecolor": "#506784",
           "ticks": "",
           "title": {
            "standoff": 15
           },
           "zerolinecolor": "#283442",
           "zerolinewidth": 2
          }
         }
        },
        "title": {
         "text": "Acertos e Erros das Previsões do IPCA (Trimestral)"
        },
        "xaxis": {
         "title": {
          "text": "Data do Fim do Trimestre"
         }
        },
        "yaxis": {
         "title": {
          "text": "IPCA Previsto"
         }
        }
       }
      }
     },
     "metadata": {},
     "output_type": "display_data"
    },
    {
     "name": "stdout",
     "output_type": "stream",
     "text": [
      "Taxa de acerto: 92.86%\n"
     ]
    }
   ],
   "source": [
    "fig = go.Figure()\n",
    "\n",
    "fig.add_trace(go.Scatter(\n",
    "    x=df_previsao_ipca_full['data_fim_trimestre'],\n",
    "    y=df_previsao_ipca_full['ipca_real'],\n",
    "    mode='lines+markers',\n",
    "    name='IPCA Real',\n",
    "    line=dict(color='deepskyblue')\n",
    "))\n",
    "\n",
    "fig.add_trace(go.Scatter(\n",
    "    x=df_previsao_ipca_full['data_fim_trimestre'],\n",
    "    y=df_previsao_ipca_full['ipca_previsto'],\n",
    "    mode='lines+markers',\n",
    "    name='IPCA Previsto',\n",
    "    line=dict(color='orange')\n",
    "))\n",
    "\n",
    "fig.update_layout(\n",
    "    title='IPCA Real vs. Previsto por Trimestre',\n",
    "    xaxis_title='Data do Fim do Trimestre',\n",
    "    yaxis_title='IPCA (%)',\n",
    "    template='plotly_dark',\n",
    "    legend=dict(x=0.01, y=0.99)\n",
    ")\n",
    "\n",
    "fig.show()\n",
    "\n",
    "# Gráfico interativo de acertos e erros das previsões do IPCA\n",
    "\n",
    "fig = go.Figure()\n",
    "\n",
    "# Adiciona pontos de acerto\n",
    "acertos = df_previsao_ipca_full[df_previsao_ipca_full['acerto'] == 'acertou']\n",
    "fig.add_trace(go.Scatter(\n",
    "    x=acertos['data_fim_trimestre'],\n",
    "    y=acertos['ipca_previsto'],\n",
    "    mode='markers',\n",
    "    name='Acertou',\n",
    "    marker=dict(color='lime', size=10, symbol='circle'),\n",
    "    hovertemplate='Data: %{x}<br>Previsto: %{y}<br>Acerto'\n",
    "))\n",
    "\n",
    "# Adiciona pontos de erro\n",
    "erros = df_previsao_ipca_full[df_previsao_ipca_full['acerto'] == 'errou']\n",
    "fig.add_trace(go.Scatter(\n",
    "    x=erros['data_fim_trimestre'],\n",
    "    y=erros['ipca_previsto'],\n",
    "    mode='markers',\n",
    "    name='Errou',\n",
    "    marker=dict(color='red', size=10, symbol='x'),\n",
    "    hovertemplate='Data: %{x}<br>Previsto: %{y}<br>Erro'\n",
    "))\n",
    "\n",
    "fig.update_layout(\n",
    "    title='Acertos e Erros das Previsões do IPCA (Trimestral)',\n",
    "    xaxis_title='Data do Fim do Trimestre',\n",
    "    yaxis_title='IPCA Previsto',\n",
    "    template='plotly_dark',\n",
    "    legend=dict(x=0.01, y=0.99)\n",
    ")\n",
    "\n",
    "fig.show()\n",
    "\n",
    "print(f\"Taxa de acerto: {taxa_acerto:.2%}\")"
   ]
  },
  {
   "cell_type": "markdown",
   "id": "acfd0466",
   "metadata": {},
   "source": [
    "<small>\n",
    "\n",
    "### Avaliação do Desempenho Preditivo do Modelo para o IPCA Trimestral\n",
    "\n",
    "A imagem acima apresenta duas visualizações fundamentais para avaliar a eficácia do modelo preditivo aplicado ao IPCA (Índice de Preços ao Consumidor Amplo) em frequência trimestral.\n",
    "\n",
    "---\n",
    "\n",
    "### 1. IPCA Real vs. Previsto por Trimestre\n",
    "\n",
    "O gráfico superior mostra a comparação entre os valores **reais** e **previstos** do IPCA para cada trimestre, no período de 2018 a 2025:\n",
    "\n",
    "- **Linha azul**: Representa o IPCA observado (real).\n",
    "- **Linha laranja**: Representa o IPCA estimado pelo modelo preditivo.\n",
    "\n",
    "Essa comparação permite verificar o quão próximo o modelo consegue replicar a trajetória histórica da inflação. Notam-se períodos em que as previsões seguem de forma bastante aderente o comportamento real, sobretudo nas fases de alta inflação. Em alguns momentos, como no início de 2023, há uma divergência mais significativa, refletindo um possível desafio do modelo em capturar choques inesperados.\n",
    "\n",
    "---\n",
    "\n",
    "### 2. Acertos e Erros de Direção do IPCA (Trimestral)\n",
    "\n",
    "O gráfico inferior apresenta a avaliação **binária** do desempenho do modelo com base na direção prevista do IPCA (se subir ou cair em relação ao trimestre anterior):\n",
    "\n",
    "- **Pontos verdes (●)**: Indicam que o modelo acertou a **direção da variação** (ex. previu alta e de fato o IPCA subiu).\n",
    "- **Pontos vermelhos (✖)**: Indicam que o modelo errou a direção.\n",
    "\n",
    "Essa métrica é crítica em contextos de especulação no mercado de renda fixa. Acertar a **tendência** da inflação é mais importante do que prever o valor exato, pois permite antecipar movimentos de precificação dos títulos via marcação a mercado. O gráfico mostra que o modelo tem uma taxa de acerto elevada ao longo do tempo, com apenas algumas exceções pontuais.\n",
    "\n",
    "---\n",
    "\n",
    "<small>"
   ]
  },
  {
   "cell_type": "markdown",
   "id": "3d7fcf54",
   "metadata": {},
   "source": [
    "### Criação do Backtest"
   ]
  },
  {
   "cell_type": "markdown",
   "id": "35737c56",
   "metadata": {},
   "source": [
    "<small>\n",
    "\n",
    "### 📋 Função para Listar Títulos Disponíveis por Ano – Tesouro IPCA+ e Tesouro Selic\n",
    "\n",
    "### ✅ Objetivo\n",
    "\n",
    "Desenvolver uma função que identifique e liste os **títulos públicos federais disponíveis** em um determinado período (com foco anual), segmentados pelas categorias:\n",
    "\n",
    "- **Tesouro IPCA+** (títulos indexados à inflação)\n",
    "- **Tesouro Selic** (títulos indexados à taxa básica de juros)\n",
    "\n",
    "Essa função é essencial para análises temporais, estudos de liquidez, e para selecionar os papéis elegíveis a cada ano para modelagens de investimento ou backtests históricos.\n",
    "\n",
    "---\n",
    "\n",
    "### 🛠️ Lógica da Função\n",
    "\n",
    "### 1. **Entrada Esperada**\n",
    "A função deve receber como parâmetros:\n",
    "\n",
    "- Um DataFrame com os preços dos títulos (`PU Venda Manha`) e datas.\n",
    "- Um filtro de tipo do título (`\"IPCA\"` ou `\"SELIC\"`).\n",
    "- Um intervalo de anos a ser analisado (ex: 2015 a 2025).\n",
    "\n",
    "### 2. **Critérios de Seleção**\n",
    "Para cada ano dentro do intervalo:\n",
    "\n",
    "- Verificar quais títulos estiveram **ativos** (com preços disponíveis) durante aquele ano.\n",
    "- Um título é considerado disponível se houver registros válidos de `PU Venda Manha` para qualquer data dentro do ano em análise.\n",
    "\n",
    "### 3. **Estrutura de Saída**\n",
    "A função deve retornar:\n",
    "\n",
    "- Um **dicionário ou DataFrame** estruturado como:\n",
    "\n",
    "<small>\n",
    "\n",
    "```python\n",
    "{\n",
    "  2018: ['tesouro_ipca_2024', 'tesouro_ipca_2035'],\n",
    "  2019: ['tesouro_ipca_2026', 'tesouro_ipca_2045'],\n",
    "  ...\n",
    "}"
   ]
  },
  {
   "cell_type": "code",
   "execution_count": 122,
   "id": "438b2fa7",
   "metadata": {},
   "outputs": [
    {
     "name": "stdout",
     "output_type": "stream",
     "text": [
      "Títulos Tesouro IPCA+ disponíveis por ano:\n",
      "2011: ['tesouro_ipca_2015']\n",
      "2012: ['tesouro_ipca_2015']\n",
      "2013: ['tesouro_ipca_2015', 'tesouro_ipca_2019']\n",
      "2014: ['tesouro_ipca_2015', 'tesouro_ipca_2019']\n",
      "2015: ['tesouro_ipca_2015', 'tesouro_ipca_2019']\n",
      "2016: ['tesouro_ipca_2019']\n",
      "2017: ['tesouro_ipca_2019']\n",
      "2018: ['tesouro_ipca_2019', 'tesouro_ipca_2024', 'tesouro_ipca_2035', 'tesouro_ipca_2045']\n",
      "2019: ['tesouro_ipca_2019', 'tesouro_ipca_2024', 'tesouro_ipca_2035', 'tesouro_ipca_2045']\n",
      "2020: ['tesouro_ipca_2024', 'tesouro_ipca_2035', 'tesouro_ipca_2045']\n",
      "2021: ['tesouro_ipca_2024', 'tesouro_ipca_2035', 'tesouro_ipca_2045']\n",
      "2022: ['tesouro_ipca_2024', 'tesouro_ipca_2035', 'tesouro_ipca_2045']\n",
      "2023: ['tesouro_ipca_2024', 'tesouro_ipca_2026', 'tesouro_ipca_2029', 'tesouro_ipca_2035', 'tesouro_ipca_2045']\n",
      "2024: ['tesouro_ipca_2024', 'tesouro_ipca_2026', 'tesouro_ipca_2029', 'tesouro_ipca_2035', 'tesouro_ipca_2045']\n",
      "2025: ['tesouro_ipca_2026', 'tesouro_ipca_2029', 'tesouro_ipca_2035', 'tesouro_ipca_2040', 'tesouro_ipca_2045', 'tesouro_ipca_2050']\n",
      "\n",
      "Títulos Tesouro Selic disponíveis por ano:\n",
      "2011: ['tesouro_selic_2011', 'tesouro_selic_2012', 'tesouro_selic_2013', 'tesouro_selic_2014', 'tesouro_selic_2015', 'tesouro_selic_2017']\n",
      "2012: ['tesouro_selic_2012', 'tesouro_selic_2013', 'tesouro_selic_2014', 'tesouro_selic_2015', 'tesouro_selic_2017']\n",
      "2013: ['tesouro_selic_2013', 'tesouro_selic_2014', 'tesouro_selic_2015', 'tesouro_selic_2017']\n",
      "2014: ['tesouro_selic_2014', 'tesouro_selic_2015', 'tesouro_selic_2017']\n",
      "2015: ['tesouro_selic_2015', 'tesouro_selic_2017', 'tesouro_selic_2021']\n",
      "2016: ['tesouro_selic_2017', 'tesouro_selic_2021']\n",
      "2017: ['tesouro_selic_2017', 'tesouro_selic_2021', 'tesouro_selic_2023']\n",
      "2018: ['tesouro_selic_2021', 'tesouro_selic_2023']\n",
      "2019: ['tesouro_selic_2021', 'tesouro_selic_2023', 'tesouro_selic_2025']\n",
      "2020: ['tesouro_selic_2021', 'tesouro_selic_2023', 'tesouro_selic_2025']\n",
      "2021: ['tesouro_selic_2021', 'tesouro_selic_2023', 'tesouro_selic_2024', 'tesouro_selic_2025', 'tesouro_selic_2027']\n",
      "2022: ['tesouro_selic_2023', 'tesouro_selic_2024', 'tesouro_selic_2025', 'tesouro_selic_2027']\n",
      "2023: ['tesouro_selic_2023', 'tesouro_selic_2024', 'tesouro_selic_2025', 'tesouro_selic_2026', 'tesouro_selic_2027', 'tesouro_selic_2029']\n",
      "2024: ['tesouro_selic_2024', 'tesouro_selic_2025', 'tesouro_selic_2026', 'tesouro_selic_2027', 'tesouro_selic_2029']\n",
      "2025: ['tesouro_selic_2025', 'tesouro_selic_2026', 'tesouro_selic_2027', 'tesouro_selic_2028', 'tesouro_selic_2029', 'tesouro_selic_2031']\n"
     ]
    }
   ],
   "source": [
    "# Função para listar títulos disponíveis por período (ano) para Tesouro IPCA+ e Tesouro Selic\n",
    "\n",
    "def listar_titulos_por_periodo(dfs_titulos):\n",
    "    \"\"\"\n",
    "    Retorna um dicionário {ano: [lista de tickers disponíveis]} para os dataframes de títulos.\n",
    "    \"\"\"\n",
    "    titulos_por_ano = {}\n",
    "    for ticker, df in dfs_titulos.items():\n",
    "        anos = df.index.year.unique()\n",
    "        for ano in anos:\n",
    "            titulos_por_ano.setdefault(ano, []).append(ticker)\n",
    "    # Ordena os tickers em cada ano\n",
    "    for ano in titulos_por_ano:\n",
    "        titulos_por_ano[ano] = sorted(titulos_por_ano[ano])\n",
    "    return titulos_por_ano\n",
    "\n",
    "# Tesouro IPCA+\n",
    "titulos_ipca_por_ano = listar_titulos_por_periodo(dfs_ipca)\n",
    "print(\"Títulos Tesouro IPCA+ disponíveis por ano:\")\n",
    "for ano, tickers in sorted(titulos_ipca_por_ano.items()):\n",
    "    print(f\"{ano}: {tickers}\")\n",
    "\n",
    "# Tesouro Selic\n",
    "titulos_selic_por_ano = listar_titulos_por_periodo(dfs_selic)\n",
    "print(\"\\nTítulos Tesouro Selic disponíveis por ano:\")\n",
    "for ano, tickers in sorted(titulos_selic_por_ano.items()):\n",
    "    print(f\"{ano}: {tickers}\")"
   ]
  },
  {
   "cell_type": "markdown",
   "id": "6ba65ad2",
   "metadata": {},
   "source": [
    "<small>\n",
    "\n",
    "## 📈 Cálculo de Retorno Acumulado Trimestral de Títulos Públicos – Tesouro IPCA e Tesouro Selic\n",
    "\n",
    "### ✅ Objetivo\n",
    "\n",
    "O objetivo desta etapa é calcular o **retorno acumulado por trimestre** de cada título público do Tesouro Direto — tanto **Tesouro IPCA+** quanto **Tesouro Selic** — a partir do ano de **2018**, com base nas variações do preço unitário (`PU Venda Manha`).\n",
    "\n",
    "Essa análise é fundamental para modelagens de alocação de capital, estudos de marcação a mercado e estratégias quantitativas de investimento.\n",
    "\n",
    "---\n",
    "\n",
    "### 🔍 Lógica Implementada\n",
    "\n",
    "### 1. **Estrutura de Dados**\n",
    "O cálculo utiliza dois dicionários:\n",
    "\n",
    "- `titulos_ipca_por_ano`: contém os DataFrames dos títulos IPCA separados por ano de vencimento.\n",
    "- `titulos_selic_por_ano`: contém os DataFrames dos títulos Selic separados por ano de vencimento.\n",
    "\n",
    "Cada DataFrame deve conter:\n",
    "- Uma coluna de datas como índice (`datetime`).\n",
    "- Uma coluna `PU Venda Manha` com o preço unitário diário.\n",
    "\n",
    "---\n",
    "\n",
    "### 2. **Divisão Trimestral**\n",
    "Para cada título, o retorno é calculado trimestralmente a partir do ano **2018**, dividindo o ano em quatro períodos fixos:\n",
    "\n",
    "| Trimestre | Período                  |\n",
    "|-----------|---------------------------|\n",
    "| T1        | 2018-01-01 a 2018-03-31   |\n",
    "| T2        | 2018-04-01 a 2018-06-30   |\n",
    "| T3        | 2018-07-01 a 2018-09-30   |\n",
    "| T4        | 2018-10-01 a 2018-12-31   |\n",
    "\n",
    "---\n",
    "\n",
    "### 3. **Cálculo do Retorno**\n",
    "Para cada trimestre e título, o retorno acumulado é calculado pela fórmula:\n",
    "\n",
    "<small>\n",
    "\n",
    "```python\n",
    "((PU_final / PU_inicial) - 1) * 100"
   ]
  },
  {
   "cell_type": "code",
   "execution_count": 123,
   "id": "cd216e12",
   "metadata": {},
   "outputs": [
    {
     "data": {
      "text/html": [
       "<div>\n",
       "<style scoped>\n",
       "    .dataframe tbody tr th:only-of-type {\n",
       "        vertical-align: middle;\n",
       "    }\n",
       "\n",
       "    .dataframe tbody tr th {\n",
       "        vertical-align: top;\n",
       "    }\n",
       "\n",
       "    .dataframe thead th {\n",
       "        text-align: right;\n",
       "    }\n",
       "</style>\n",
       "<table border=\"1\" class=\"dataframe\">\n",
       "  <thead>\n",
       "    <tr style=\"text-align: right;\">\n",
       "      <th></th>\n",
       "      <th>ano</th>\n",
       "      <th>trimestre</th>\n",
       "      <th>ticker</th>\n",
       "      <th>retorno_acumulado_%</th>\n",
       "    </tr>\n",
       "  </thead>\n",
       "  <tbody>\n",
       "    <tr>\n",
       "      <th>0</th>\n",
       "      <td>2018</td>\n",
       "      <td>Q1</td>\n",
       "      <td>tesouro_ipca_2019</td>\n",
       "      <td>2.10</td>\n",
       "    </tr>\n",
       "    <tr>\n",
       "      <th>1</th>\n",
       "      <td>2018</td>\n",
       "      <td>Q2</td>\n",
       "      <td>tesouro_ipca_2019</td>\n",
       "      <td>1.33</td>\n",
       "    </tr>\n",
       "    <tr>\n",
       "      <th>2</th>\n",
       "      <td>2018</td>\n",
       "      <td>Q3</td>\n",
       "      <td>tesouro_ipca_2019</td>\n",
       "      <td>1.90</td>\n",
       "    </tr>\n",
       "    <tr>\n",
       "      <th>3</th>\n",
       "      <td>2018</td>\n",
       "      <td>Q4</td>\n",
       "      <td>tesouro_ipca_2019</td>\n",
       "      <td>0.96</td>\n",
       "    </tr>\n",
       "    <tr>\n",
       "      <th>4</th>\n",
       "      <td>2018</td>\n",
       "      <td>Q1</td>\n",
       "      <td>tesouro_ipca_2024</td>\n",
       "      <td>2.22</td>\n",
       "    </tr>\n",
       "    <tr>\n",
       "      <th>...</th>\n",
       "      <td>...</td>\n",
       "      <td>...</td>\n",
       "      <td>...</td>\n",
       "      <td>...</td>\n",
       "    </tr>\n",
       "    <tr>\n",
       "      <th>112</th>\n",
       "      <td>2025</td>\n",
       "      <td>Q2</td>\n",
       "      <td>tesouro_ipca_2040</td>\n",
       "      <td>7.82</td>\n",
       "    </tr>\n",
       "    <tr>\n",
       "      <th>113</th>\n",
       "      <td>2025</td>\n",
       "      <td>Q1</td>\n",
       "      <td>tesouro_ipca_2045</td>\n",
       "      <td>2.58</td>\n",
       "    </tr>\n",
       "    <tr>\n",
       "      <th>114</th>\n",
       "      <td>2025</td>\n",
       "      <td>Q2</td>\n",
       "      <td>tesouro_ipca_2045</td>\n",
       "      <td>7.71</td>\n",
       "    </tr>\n",
       "    <tr>\n",
       "      <th>115</th>\n",
       "      <td>2025</td>\n",
       "      <td>Q1</td>\n",
       "      <td>tesouro_ipca_2050</td>\n",
       "      <td>10.03</td>\n",
       "    </tr>\n",
       "    <tr>\n",
       "      <th>116</th>\n",
       "      <td>2025</td>\n",
       "      <td>Q2</td>\n",
       "      <td>tesouro_ipca_2050</td>\n",
       "      <td>8.26</td>\n",
       "    </tr>\n",
       "  </tbody>\n",
       "</table>\n",
       "<p>117 rows × 4 columns</p>\n",
       "</div>"
      ],
      "text/plain": [
       "      ano trimestre             ticker  retorno_acumulado_%\n",
       "0    2018        Q1  tesouro_ipca_2019                 2.10\n",
       "1    2018        Q2  tesouro_ipca_2019                 1.33\n",
       "2    2018        Q3  tesouro_ipca_2019                 1.90\n",
       "3    2018        Q4  tesouro_ipca_2019                 0.96\n",
       "4    2018        Q1  tesouro_ipca_2024                 2.22\n",
       "..    ...       ...                ...                  ...\n",
       "112  2025        Q2  tesouro_ipca_2040                 7.82\n",
       "113  2025        Q1  tesouro_ipca_2045                 2.58\n",
       "114  2025        Q2  tesouro_ipca_2045                 7.71\n",
       "115  2025        Q1  tesouro_ipca_2050                10.03\n",
       "116  2025        Q2  tesouro_ipca_2050                 8.26\n",
       "\n",
       "[117 rows x 4 columns]"
      ]
     },
     "metadata": {},
     "output_type": "display_data"
    },
    {
     "data": {
      "text/html": [
       "<div>\n",
       "<style scoped>\n",
       "    .dataframe tbody tr th:only-of-type {\n",
       "        vertical-align: middle;\n",
       "    }\n",
       "\n",
       "    .dataframe tbody tr th {\n",
       "        vertical-align: top;\n",
       "    }\n",
       "\n",
       "    .dataframe thead th {\n",
       "        text-align: right;\n",
       "    }\n",
       "</style>\n",
       "<table border=\"1\" class=\"dataframe\">\n",
       "  <thead>\n",
       "    <tr style=\"text-align: right;\">\n",
       "      <th></th>\n",
       "      <th>ano</th>\n",
       "      <th>trimestre</th>\n",
       "      <th>ticker</th>\n",
       "      <th>retorno_acumulado_%</th>\n",
       "    </tr>\n",
       "  </thead>\n",
       "  <tbody>\n",
       "    <tr>\n",
       "      <th>0</th>\n",
       "      <td>2018</td>\n",
       "      <td>Q1</td>\n",
       "      <td>tesouro_selic_2023</td>\n",
       "      <td>1.52</td>\n",
       "    </tr>\n",
       "    <tr>\n",
       "      <th>1</th>\n",
       "      <td>2018</td>\n",
       "      <td>Q2</td>\n",
       "      <td>tesouro_selic_2023</td>\n",
       "      <td>1.50</td>\n",
       "    </tr>\n",
       "    <tr>\n",
       "      <th>2</th>\n",
       "      <td>2018</td>\n",
       "      <td>Q3</td>\n",
       "      <td>tesouro_selic_2023</td>\n",
       "      <td>1.62</td>\n",
       "    </tr>\n",
       "    <tr>\n",
       "      <th>3</th>\n",
       "      <td>2018</td>\n",
       "      <td>Q4</td>\n",
       "      <td>tesouro_selic_2023</td>\n",
       "      <td>1.53</td>\n",
       "    </tr>\n",
       "    <tr>\n",
       "      <th>4</th>\n",
       "      <td>2019</td>\n",
       "      <td>Q1</td>\n",
       "      <td>tesouro_selic_2025</td>\n",
       "      <td>0.95</td>\n",
       "    </tr>\n",
       "  </tbody>\n",
       "</table>\n",
       "</div>"
      ],
      "text/plain": [
       "    ano trimestre              ticker  retorno_acumulado_%\n",
       "0  2018        Q1  tesouro_selic_2023                 1.52\n",
       "1  2018        Q2  tesouro_selic_2023                 1.50\n",
       "2  2018        Q3  tesouro_selic_2023                 1.62\n",
       "3  2018        Q4  tesouro_selic_2023                 1.53\n",
       "4  2019        Q1  tesouro_selic_2025                 0.95"
      ]
     },
     "metadata": {},
     "output_type": "display_data"
    }
   ],
   "source": [
    "def calcular_retorno_acumulado_trimestral_por_titulo(titulos_ipca_por_ano, titulos_selic_por_ano, ano_inicio=2018, ano_fim=None):\n",
    "    \"\"\"\n",
    "    Calcula o retorno acumulado trimestral de cada título IPCA e do Selic mais longo disponível a partir de ano_inicio.\n",
    "    Retorna dois DataFrames: um para IPCA e outro para Selic.\n",
    "    \"\"\"\n",
    "    # Define anos a processar\n",
    "    if ano_fim is None:\n",
    "        ano_fim = max(max(titulos_ipca_por_ano.keys()), max(titulos_selic_por_ano.keys()))\n",
    "    anos = [a for a in range(ano_inicio, ano_fim + 1) if a in titulos_ipca_por_ano or a in titulos_selic_por_ano]\n",
    "\n",
    "    resultados_ipca = []\n",
    "    resultados_selic = []\n",
    "\n",
    "    for ano in anos:\n",
    "        # Define datas dos trimestres\n",
    "        trimestres = [\n",
    "            (f\"{ano}-01-01\", f\"{ano}-03-31\", \"Q1\"),\n",
    "            (f\"{ano}-04-01\", f\"{ano}-06-30\", \"Q2\"),\n",
    "            (f\"{ano}-07-01\", f\"{ano}-09-30\", \"Q3\"),\n",
    "            (f\"{ano}-10-01\", f\"{ano}-12-31\", \"Q4\"),\n",
    "        ]\n",
    "\n",
    "        # IPCA: todos os títulos disponíveis no ano\n",
    "        for ticker in titulos_ipca_por_ano.get(ano, []):\n",
    "            df = globals().get(ticker)\n",
    "            if df is None or 'PU Venda Manha' not in df.columns:\n",
    "                continue\n",
    "            for inicio, fim, trimestre in trimestres:\n",
    "                df_trim = df.loc[inicio:fim]\n",
    "                if df_trim.empty:\n",
    "                    continue\n",
    "                pu_ini = df_trim['PU Venda Manha'].iloc[0]\n",
    "                pu_fim = df_trim['PU Venda Manha'].iloc[-1]\n",
    "                retorno = ((pu_fim / pu_ini) - 1) * 100\n",
    "                resultados_ipca.append({\n",
    "                    'ano': ano,\n",
    "                    'trimestre': trimestre,\n",
    "                    'ticker': ticker,\n",
    "                    'retorno_acumulado_%': round(retorno, 4)\n",
    "                })\n",
    "\n",
    "        # SELIC: apenas o título mais longo disponível no ano\n",
    "        selic_titulos = titulos_selic_por_ano.get(ano, [])\n",
    "        if selic_titulos:\n",
    "            # Seleciona o mais longo pelo maior ano no nome do ticker\n",
    "            ticker_selic_longo = max(selic_titulos, key=lambda t: int(t.split('_')[-1]))\n",
    "            df_selic = globals().get(ticker_selic_longo)\n",
    "            if df_selic is not None and 'PU Venda Manha' in df_selic.columns:\n",
    "                for inicio, fim, trimestre in trimestres:\n",
    "                    df_trim = df_selic.loc[inicio:fim]\n",
    "                    if df_trim.empty:\n",
    "                        continue\n",
    "                    pu_ini = df_trim['PU Venda Manha'].iloc[0]\n",
    "                    pu_fim = df_trim['PU Venda Manha'].iloc[-1]\n",
    "                    retorno = ((pu_fim / pu_ini) - 1) * 100\n",
    "                    resultados_selic.append({\n",
    "                        'ano': ano,\n",
    "                        'trimestre': trimestre,\n",
    "                        'ticker': ticker_selic_longo,\n",
    "                        'retorno_acumulado_%': round(retorno, 4)\n",
    "                    })\n",
    "\n",
    "    df_retornos_ipca = pd.DataFrame(resultados_ipca)\n",
    "    df_retornos_selic = pd.DataFrame(resultados_selic)\n",
    "    return df_retornos_ipca, df_retornos_selic\n",
    "\n",
    "# Exemplo de uso:\n",
    "df_retornos_ipca, df_retornos_selic = calcular_retorno_acumulado_trimestral_por_titulo(titulos_ipca_por_ano, titulos_selic_por_ano, ano_inicio=2018)\n",
    "\n",
    "display(df_retornos_ipca.round(2))\n",
    "display(df_retornos_selic.round(2).head())"
   ]
  },
  {
   "cell_type": "markdown",
   "id": "99151392",
   "metadata": {},
   "source": [
    "<small>\n",
    "\n",
    "## 📊 Estratégia de Alocação Trimestral Baseada em Condicional Econômica\n",
    "\n",
    "Este documento descreve a lógica implementada para alocação trimestral de capital entre Tesouro IPCA+ e Tesouro Selic com base em uma variável condicional (por exemplo, previsão de alta ou queda do IPCA).\n",
    "\n",
    "---\n",
    "\n",
    "### 🔁 1. Definir Estratégia de Alocação Trimestral (`logica_operacional_simples`)\n",
    "\n",
    "A função `logica_operacional_simples` executa as seguintes ações:\n",
    "\n",
    "- Recebe uma série `condicional` com valores trimestrais (positivos ou negativos) e um `capital_inicial`.\n",
    "- Para cada trimestre:\n",
    "  - Se o valor for negativo, assume cenário de **queda do IPCA**.\n",
    "    - Alocação: 50% IPCA e 50% Selic.\n",
    "    - Distribuição IPCA: 50% longo, 20% médio, 30% curto.\n",
    "  - Se o valor for positivo, assume cenário de **alta do IPCA**.\n",
    "    - Alocação: 20% IPCA e 80% Selic.\n",
    "    - Distribuição IPCA: 50% curto, 30% médio, 20% longo.\n",
    "- Retorna um `DataFrame` com:\n",
    "  - `data_inicio`, `cenario`, `capital_acumulado`, `pct_ipca`, `pct_selic`, `pesos_ipca`.\n",
    "\n",
    "---\n",
    "\n",
    "### 📅 2. Incluir Títulos Disponíveis por Ano (`adicionar_titulos_por_ano`)\n",
    "\n",
    "A função `adicionar_titulos_por_ano`:\n",
    "\n",
    "- Extrai o ano de cada linha do DataFrame com base na `data_inicio`.\n",
    "- Utiliza dicionários `titulos_ipca_por_ano` e `titulos_selic_por_ano` (gerados por função externa).\n",
    "- Adiciona ao DataFrame:\n",
    "  - `titulos_ipca`: lista de títulos IPCA+ disponíveis naquele ano.\n",
    "  - `titulos_selic`: lista de títulos Selic disponíveis naquele ano.\n",
    "\n",
    "---\n",
    "\n",
    "### 📌 3. Selecionar o Título Selic Mais Longo (`selecionar_titulo_selic_mais_longo`)\n",
    "\n",
    "A função `selecionar_titulo_selic_mais_longo`:\n",
    "\n",
    "- Avalia a lista `titulos_selic` de cada linha.\n",
    "- Ordena os tickers em ordem decrescente (assume que tickers contêm datas).\n",
    "- Seleciona o título mais longo (último vencimento).\n",
    "- Cria a nova coluna `titulo_selic_mais_longo` no DataFrame.\n",
    "\n",
    "---\n",
    "\n",
    "<small>\n",
    "\n",
    "### ▶️ 4. Execução do Pipeline de Alocação\n",
    "\n",
    "A lógica operacional é aplicada em sequência da seguinte forma:\n",
    "\n",
    "```python\n",
    "# 1. Gerar o DataFrame com a lógica de alocação\n",
    "df_estrategia = logica_operacional_simples(condicional, 100000)\n",
    "\n",
    "# 2. Adicionar colunas com títulos disponíveis por ano\n",
    "df_estrategia = adicionar_titulos_por_ano(df_estrategia, titulos_ipca_por_ano, titulos_selic_por_ano)\n",
    "\n",
    "# 3. Selecionar o título Tesouro Selic mais longo\n",
    "df_estrategia = selecionar_titulo_selic_mais_longo(df_estrategia)\n",
    "\n",
    "# 4. Visualizar resultado (sem a lista completa de títulos Selic)\n",
    "display(df_estrategia.drop(columns='titulos_selic'))\n"
   ]
  },
  {
   "cell_type": "code",
   "execution_count": 455,
   "id": "bd398a9b",
   "metadata": {},
   "outputs": [
    {
     "data": {
      "text/html": [
       "<div>\n",
       "<style scoped>\n",
       "    .dataframe tbody tr th:only-of-type {\n",
       "        vertical-align: middle;\n",
       "    }\n",
       "\n",
       "    .dataframe tbody tr th {\n",
       "        vertical-align: top;\n",
       "    }\n",
       "\n",
       "    .dataframe thead th {\n",
       "        text-align: right;\n",
       "    }\n",
       "</style>\n",
       "<table border=\"1\" class=\"dataframe\">\n",
       "  <thead>\n",
       "    <tr style=\"text-align: right;\">\n",
       "      <th></th>\n",
       "      <th>data_inicio</th>\n",
       "      <th>cenario</th>\n",
       "      <th>capital_acumulado</th>\n",
       "      <th>pct_ipca</th>\n",
       "      <th>pct_selic</th>\n",
       "      <th>pesos_ipca</th>\n",
       "      <th>ano</th>\n",
       "      <th>titulos_ipca</th>\n",
       "      <th>titulo_selic_mais_longo</th>\n",
       "    </tr>\n",
       "  </thead>\n",
       "  <tbody>\n",
       "    <tr>\n",
       "      <th>0</th>\n",
       "      <td>2018-03-31</td>\n",
       "      <td>queda</td>\n",
       "      <td>100000</td>\n",
       "      <td>0.8</td>\n",
       "      <td>0.2</td>\n",
       "      <td>{'longo': 0.5, 'medio': 0.2, 'curto': 0.3}</td>\n",
       "      <td>2018</td>\n",
       "      <td>[tesouro_ipca_2019, tesouro_ipca_2024, tesouro...</td>\n",
       "      <td>tesouro_selic_2023</td>\n",
       "    </tr>\n",
       "    <tr>\n",
       "      <th>1</th>\n",
       "      <td>2018-06-30</td>\n",
       "      <td>alta</td>\n",
       "      <td>100000</td>\n",
       "      <td>0.3</td>\n",
       "      <td>0.7</td>\n",
       "      <td>{'curto': 0.5, 'medio': 0.3, 'longo': 0.2}</td>\n",
       "      <td>2018</td>\n",
       "      <td>[tesouro_ipca_2019, tesouro_ipca_2024, tesouro...</td>\n",
       "      <td>tesouro_selic_2023</td>\n",
       "    </tr>\n",
       "    <tr>\n",
       "      <th>2</th>\n",
       "      <td>2018-09-30</td>\n",
       "      <td>queda</td>\n",
       "      <td>100000</td>\n",
       "      <td>0.8</td>\n",
       "      <td>0.2</td>\n",
       "      <td>{'longo': 0.5, 'medio': 0.2, 'curto': 0.3}</td>\n",
       "      <td>2018</td>\n",
       "      <td>[tesouro_ipca_2019, tesouro_ipca_2024, tesouro...</td>\n",
       "      <td>tesouro_selic_2023</td>\n",
       "    </tr>\n",
       "    <tr>\n",
       "      <th>3</th>\n",
       "      <td>2018-12-31</td>\n",
       "      <td>queda</td>\n",
       "      <td>100000</td>\n",
       "      <td>0.8</td>\n",
       "      <td>0.2</td>\n",
       "      <td>{'longo': 0.5, 'medio': 0.2, 'curto': 0.3}</td>\n",
       "      <td>2018</td>\n",
       "      <td>[tesouro_ipca_2019, tesouro_ipca_2024, tesouro...</td>\n",
       "      <td>tesouro_selic_2023</td>\n",
       "    </tr>\n",
       "    <tr>\n",
       "      <th>4</th>\n",
       "      <td>2019-03-31</td>\n",
       "      <td>alta</td>\n",
       "      <td>100000</td>\n",
       "      <td>0.3</td>\n",
       "      <td>0.7</td>\n",
       "      <td>{'curto': 0.5, 'medio': 0.3, 'longo': 0.2}</td>\n",
       "      <td>2019</td>\n",
       "      <td>[tesouro_ipca_2019, tesouro_ipca_2024, tesouro...</td>\n",
       "      <td>tesouro_selic_2025</td>\n",
       "    </tr>\n",
       "    <tr>\n",
       "      <th>5</th>\n",
       "      <td>2019-06-30</td>\n",
       "      <td>queda</td>\n",
       "      <td>100000</td>\n",
       "      <td>0.8</td>\n",
       "      <td>0.2</td>\n",
       "      <td>{'longo': 0.5, 'medio': 0.2, 'curto': 0.3}</td>\n",
       "      <td>2019</td>\n",
       "      <td>[tesouro_ipca_2019, tesouro_ipca_2024, tesouro...</td>\n",
       "      <td>tesouro_selic_2025</td>\n",
       "    </tr>\n",
       "    <tr>\n",
       "      <th>6</th>\n",
       "      <td>2019-09-30</td>\n",
       "      <td>queda</td>\n",
       "      <td>100000</td>\n",
       "      <td>0.8</td>\n",
       "      <td>0.2</td>\n",
       "      <td>{'longo': 0.5, 'medio': 0.2, 'curto': 0.3}</td>\n",
       "      <td>2019</td>\n",
       "      <td>[tesouro_ipca_2019, tesouro_ipca_2024, tesouro...</td>\n",
       "      <td>tesouro_selic_2025</td>\n",
       "    </tr>\n",
       "    <tr>\n",
       "      <th>7</th>\n",
       "      <td>2019-12-31</td>\n",
       "      <td>alta</td>\n",
       "      <td>100000</td>\n",
       "      <td>0.3</td>\n",
       "      <td>0.7</td>\n",
       "      <td>{'curto': 0.5, 'medio': 0.3, 'longo': 0.2}</td>\n",
       "      <td>2019</td>\n",
       "      <td>[tesouro_ipca_2019, tesouro_ipca_2024, tesouro...</td>\n",
       "      <td>tesouro_selic_2025</td>\n",
       "    </tr>\n",
       "    <tr>\n",
       "      <th>8</th>\n",
       "      <td>2020-03-31</td>\n",
       "      <td>queda</td>\n",
       "      <td>100000</td>\n",
       "      <td>0.8</td>\n",
       "      <td>0.2</td>\n",
       "      <td>{'longo': 0.5, 'medio': 0.2, 'curto': 0.3}</td>\n",
       "      <td>2020</td>\n",
       "      <td>[tesouro_ipca_2024, tesouro_ipca_2035, tesouro...</td>\n",
       "      <td>tesouro_selic_2025</td>\n",
       "    </tr>\n",
       "    <tr>\n",
       "      <th>9</th>\n",
       "      <td>2020-06-30</td>\n",
       "      <td>queda</td>\n",
       "      <td>100000</td>\n",
       "      <td>0.8</td>\n",
       "      <td>0.2</td>\n",
       "      <td>{'longo': 0.5, 'medio': 0.2, 'curto': 0.3}</td>\n",
       "      <td>2020</td>\n",
       "      <td>[tesouro_ipca_2024, tesouro_ipca_2035, tesouro...</td>\n",
       "      <td>tesouro_selic_2025</td>\n",
       "    </tr>\n",
       "    <tr>\n",
       "      <th>10</th>\n",
       "      <td>2020-09-30</td>\n",
       "      <td>alta</td>\n",
       "      <td>100000</td>\n",
       "      <td>0.3</td>\n",
       "      <td>0.7</td>\n",
       "      <td>{'curto': 0.5, 'medio': 0.3, 'longo': 0.2}</td>\n",
       "      <td>2020</td>\n",
       "      <td>[tesouro_ipca_2024, tesouro_ipca_2035, tesouro...</td>\n",
       "      <td>tesouro_selic_2025</td>\n",
       "    </tr>\n",
       "    <tr>\n",
       "      <th>11</th>\n",
       "      <td>2020-12-31</td>\n",
       "      <td>alta</td>\n",
       "      <td>100000</td>\n",
       "      <td>0.3</td>\n",
       "      <td>0.7</td>\n",
       "      <td>{'curto': 0.5, 'medio': 0.3, 'longo': 0.2}</td>\n",
       "      <td>2020</td>\n",
       "      <td>[tesouro_ipca_2024, tesouro_ipca_2035, tesouro...</td>\n",
       "      <td>tesouro_selic_2025</td>\n",
       "    </tr>\n",
       "    <tr>\n",
       "      <th>12</th>\n",
       "      <td>2021-03-31</td>\n",
       "      <td>queda</td>\n",
       "      <td>100000</td>\n",
       "      <td>0.8</td>\n",
       "      <td>0.2</td>\n",
       "      <td>{'longo': 0.5, 'medio': 0.2, 'curto': 0.3}</td>\n",
       "      <td>2021</td>\n",
       "      <td>[tesouro_ipca_2024, tesouro_ipca_2035, tesouro...</td>\n",
       "      <td>tesouro_selic_2027</td>\n",
       "    </tr>\n",
       "    <tr>\n",
       "      <th>13</th>\n",
       "      <td>2021-06-30</td>\n",
       "      <td>queda</td>\n",
       "      <td>100000</td>\n",
       "      <td>0.8</td>\n",
       "      <td>0.2</td>\n",
       "      <td>{'longo': 0.5, 'medio': 0.2, 'curto': 0.3}</td>\n",
       "      <td>2021</td>\n",
       "      <td>[tesouro_ipca_2024, tesouro_ipca_2035, tesouro...</td>\n",
       "      <td>tesouro_selic_2027</td>\n",
       "    </tr>\n",
       "    <tr>\n",
       "      <th>14</th>\n",
       "      <td>2021-09-30</td>\n",
       "      <td>alta</td>\n",
       "      <td>100000</td>\n",
       "      <td>0.3</td>\n",
       "      <td>0.7</td>\n",
       "      <td>{'curto': 0.5, 'medio': 0.3, 'longo': 0.2}</td>\n",
       "      <td>2021</td>\n",
       "      <td>[tesouro_ipca_2024, tesouro_ipca_2035, tesouro...</td>\n",
       "      <td>tesouro_selic_2027</td>\n",
       "    </tr>\n",
       "    <tr>\n",
       "      <th>15</th>\n",
       "      <td>2021-12-31</td>\n",
       "      <td>queda</td>\n",
       "      <td>100000</td>\n",
       "      <td>0.8</td>\n",
       "      <td>0.2</td>\n",
       "      <td>{'longo': 0.5, 'medio': 0.2, 'curto': 0.3}</td>\n",
       "      <td>2021</td>\n",
       "      <td>[tesouro_ipca_2024, tesouro_ipca_2035, tesouro...</td>\n",
       "      <td>tesouro_selic_2027</td>\n",
       "    </tr>\n",
       "    <tr>\n",
       "      <th>16</th>\n",
       "      <td>2022-03-31</td>\n",
       "      <td>queda</td>\n",
       "      <td>100000</td>\n",
       "      <td>0.8</td>\n",
       "      <td>0.2</td>\n",
       "      <td>{'longo': 0.5, 'medio': 0.2, 'curto': 0.3}</td>\n",
       "      <td>2022</td>\n",
       "      <td>[tesouro_ipca_2024, tesouro_ipca_2035, tesouro...</td>\n",
       "      <td>tesouro_selic_2027</td>\n",
       "    </tr>\n",
       "    <tr>\n",
       "      <th>17</th>\n",
       "      <td>2022-06-30</td>\n",
       "      <td>queda</td>\n",
       "      <td>100000</td>\n",
       "      <td>0.8</td>\n",
       "      <td>0.2</td>\n",
       "      <td>{'longo': 0.5, 'medio': 0.2, 'curto': 0.3}</td>\n",
       "      <td>2022</td>\n",
       "      <td>[tesouro_ipca_2024, tesouro_ipca_2035, tesouro...</td>\n",
       "      <td>tesouro_selic_2027</td>\n",
       "    </tr>\n",
       "    <tr>\n",
       "      <th>18</th>\n",
       "      <td>2022-09-30</td>\n",
       "      <td>queda</td>\n",
       "      <td>100000</td>\n",
       "      <td>0.8</td>\n",
       "      <td>0.2</td>\n",
       "      <td>{'longo': 0.5, 'medio': 0.2, 'curto': 0.3}</td>\n",
       "      <td>2022</td>\n",
       "      <td>[tesouro_ipca_2024, tesouro_ipca_2035, tesouro...</td>\n",
       "      <td>tesouro_selic_2027</td>\n",
       "    </tr>\n",
       "    <tr>\n",
       "      <th>19</th>\n",
       "      <td>2022-12-31</td>\n",
       "      <td>alta</td>\n",
       "      <td>100000</td>\n",
       "      <td>0.3</td>\n",
       "      <td>0.7</td>\n",
       "      <td>{'curto': 0.5, 'medio': 0.3, 'longo': 0.2}</td>\n",
       "      <td>2022</td>\n",
       "      <td>[tesouro_ipca_2024, tesouro_ipca_2035, tesouro...</td>\n",
       "      <td>tesouro_selic_2027</td>\n",
       "    </tr>\n",
       "    <tr>\n",
       "      <th>20</th>\n",
       "      <td>2023-03-31</td>\n",
       "      <td>alta</td>\n",
       "      <td>100000</td>\n",
       "      <td>0.3</td>\n",
       "      <td>0.7</td>\n",
       "      <td>{'curto': 0.5, 'medio': 0.3, 'longo': 0.2}</td>\n",
       "      <td>2023</td>\n",
       "      <td>[tesouro_ipca_2024, tesouro_ipca_2026, tesouro...</td>\n",
       "      <td>tesouro_selic_2029</td>\n",
       "    </tr>\n",
       "    <tr>\n",
       "      <th>21</th>\n",
       "      <td>2023-06-30</td>\n",
       "      <td>queda</td>\n",
       "      <td>100000</td>\n",
       "      <td>0.8</td>\n",
       "      <td>0.2</td>\n",
       "      <td>{'longo': 0.5, 'medio': 0.2, 'curto': 0.3}</td>\n",
       "      <td>2023</td>\n",
       "      <td>[tesouro_ipca_2024, tesouro_ipca_2026, tesouro...</td>\n",
       "      <td>tesouro_selic_2029</td>\n",
       "    </tr>\n",
       "    <tr>\n",
       "      <th>22</th>\n",
       "      <td>2023-09-30</td>\n",
       "      <td>queda</td>\n",
       "      <td>100000</td>\n",
       "      <td>0.8</td>\n",
       "      <td>0.2</td>\n",
       "      <td>{'longo': 0.5, 'medio': 0.2, 'curto': 0.3}</td>\n",
       "      <td>2023</td>\n",
       "      <td>[tesouro_ipca_2024, tesouro_ipca_2026, tesouro...</td>\n",
       "      <td>tesouro_selic_2029</td>\n",
       "    </tr>\n",
       "    <tr>\n",
       "      <th>23</th>\n",
       "      <td>2023-12-31</td>\n",
       "      <td>alta</td>\n",
       "      <td>100000</td>\n",
       "      <td>0.3</td>\n",
       "      <td>0.7</td>\n",
       "      <td>{'curto': 0.5, 'medio': 0.3, 'longo': 0.2}</td>\n",
       "      <td>2023</td>\n",
       "      <td>[tesouro_ipca_2024, tesouro_ipca_2026, tesouro...</td>\n",
       "      <td>tesouro_selic_2029</td>\n",
       "    </tr>\n",
       "    <tr>\n",
       "      <th>24</th>\n",
       "      <td>2024-03-31</td>\n",
       "      <td>alta</td>\n",
       "      <td>100000</td>\n",
       "      <td>0.3</td>\n",
       "      <td>0.7</td>\n",
       "      <td>{'curto': 0.5, 'medio': 0.3, 'longo': 0.2}</td>\n",
       "      <td>2024</td>\n",
       "      <td>[tesouro_ipca_2024, tesouro_ipca_2026, tesouro...</td>\n",
       "      <td>tesouro_selic_2029</td>\n",
       "    </tr>\n",
       "    <tr>\n",
       "      <th>25</th>\n",
       "      <td>2024-06-30</td>\n",
       "      <td>queda</td>\n",
       "      <td>100000</td>\n",
       "      <td>0.8</td>\n",
       "      <td>0.2</td>\n",
       "      <td>{'longo': 0.5, 'medio': 0.2, 'curto': 0.3}</td>\n",
       "      <td>2024</td>\n",
       "      <td>[tesouro_ipca_2024, tesouro_ipca_2026, tesouro...</td>\n",
       "      <td>tesouro_selic_2029</td>\n",
       "    </tr>\n",
       "    <tr>\n",
       "      <th>26</th>\n",
       "      <td>2024-09-30</td>\n",
       "      <td>queda</td>\n",
       "      <td>100000</td>\n",
       "      <td>0.8</td>\n",
       "      <td>0.2</td>\n",
       "      <td>{'longo': 0.5, 'medio': 0.2, 'curto': 0.3}</td>\n",
       "      <td>2024</td>\n",
       "      <td>[tesouro_ipca_2024, tesouro_ipca_2026, tesouro...</td>\n",
       "      <td>tesouro_selic_2029</td>\n",
       "    </tr>\n",
       "    <tr>\n",
       "      <th>27</th>\n",
       "      <td>2024-12-31</td>\n",
       "      <td>alta</td>\n",
       "      <td>100000</td>\n",
       "      <td>0.3</td>\n",
       "      <td>0.7</td>\n",
       "      <td>{'curto': 0.5, 'medio': 0.3, 'longo': 0.2}</td>\n",
       "      <td>2024</td>\n",
       "      <td>[tesouro_ipca_2024, tesouro_ipca_2026, tesouro...</td>\n",
       "      <td>tesouro_selic_2029</td>\n",
       "    </tr>\n",
       "  </tbody>\n",
       "</table>\n",
       "</div>"
      ],
      "text/plain": [
       "   data_inicio cenario  capital_acumulado  pct_ipca  pct_selic  \\\n",
       "0   2018-03-31   queda             100000       0.8        0.2   \n",
       "1   2018-06-30    alta             100000       0.3        0.7   \n",
       "2   2018-09-30   queda             100000       0.8        0.2   \n",
       "3   2018-12-31   queda             100000       0.8        0.2   \n",
       "4   2019-03-31    alta             100000       0.3        0.7   \n",
       "5   2019-06-30   queda             100000       0.8        0.2   \n",
       "6   2019-09-30   queda             100000       0.8        0.2   \n",
       "7   2019-12-31    alta             100000       0.3        0.7   \n",
       "8   2020-03-31   queda             100000       0.8        0.2   \n",
       "9   2020-06-30   queda             100000       0.8        0.2   \n",
       "10  2020-09-30    alta             100000       0.3        0.7   \n",
       "11  2020-12-31    alta             100000       0.3        0.7   \n",
       "12  2021-03-31   queda             100000       0.8        0.2   \n",
       "13  2021-06-30   queda             100000       0.8        0.2   \n",
       "14  2021-09-30    alta             100000       0.3        0.7   \n",
       "15  2021-12-31   queda             100000       0.8        0.2   \n",
       "16  2022-03-31   queda             100000       0.8        0.2   \n",
       "17  2022-06-30   queda             100000       0.8        0.2   \n",
       "18  2022-09-30   queda             100000       0.8        0.2   \n",
       "19  2022-12-31    alta             100000       0.3        0.7   \n",
       "20  2023-03-31    alta             100000       0.3        0.7   \n",
       "21  2023-06-30   queda             100000       0.8        0.2   \n",
       "22  2023-09-30   queda             100000       0.8        0.2   \n",
       "23  2023-12-31    alta             100000       0.3        0.7   \n",
       "24  2024-03-31    alta             100000       0.3        0.7   \n",
       "25  2024-06-30   queda             100000       0.8        0.2   \n",
       "26  2024-09-30   queda             100000       0.8        0.2   \n",
       "27  2024-12-31    alta             100000       0.3        0.7   \n",
       "\n",
       "                                    pesos_ipca   ano  \\\n",
       "0   {'longo': 0.5, 'medio': 0.2, 'curto': 0.3}  2018   \n",
       "1   {'curto': 0.5, 'medio': 0.3, 'longo': 0.2}  2018   \n",
       "2   {'longo': 0.5, 'medio': 0.2, 'curto': 0.3}  2018   \n",
       "3   {'longo': 0.5, 'medio': 0.2, 'curto': 0.3}  2018   \n",
       "4   {'curto': 0.5, 'medio': 0.3, 'longo': 0.2}  2019   \n",
       "5   {'longo': 0.5, 'medio': 0.2, 'curto': 0.3}  2019   \n",
       "6   {'longo': 0.5, 'medio': 0.2, 'curto': 0.3}  2019   \n",
       "7   {'curto': 0.5, 'medio': 0.3, 'longo': 0.2}  2019   \n",
       "8   {'longo': 0.5, 'medio': 0.2, 'curto': 0.3}  2020   \n",
       "9   {'longo': 0.5, 'medio': 0.2, 'curto': 0.3}  2020   \n",
       "10  {'curto': 0.5, 'medio': 0.3, 'longo': 0.2}  2020   \n",
       "11  {'curto': 0.5, 'medio': 0.3, 'longo': 0.2}  2020   \n",
       "12  {'longo': 0.5, 'medio': 0.2, 'curto': 0.3}  2021   \n",
       "13  {'longo': 0.5, 'medio': 0.2, 'curto': 0.3}  2021   \n",
       "14  {'curto': 0.5, 'medio': 0.3, 'longo': 0.2}  2021   \n",
       "15  {'longo': 0.5, 'medio': 0.2, 'curto': 0.3}  2021   \n",
       "16  {'longo': 0.5, 'medio': 0.2, 'curto': 0.3}  2022   \n",
       "17  {'longo': 0.5, 'medio': 0.2, 'curto': 0.3}  2022   \n",
       "18  {'longo': 0.5, 'medio': 0.2, 'curto': 0.3}  2022   \n",
       "19  {'curto': 0.5, 'medio': 0.3, 'longo': 0.2}  2022   \n",
       "20  {'curto': 0.5, 'medio': 0.3, 'longo': 0.2}  2023   \n",
       "21  {'longo': 0.5, 'medio': 0.2, 'curto': 0.3}  2023   \n",
       "22  {'longo': 0.5, 'medio': 0.2, 'curto': 0.3}  2023   \n",
       "23  {'curto': 0.5, 'medio': 0.3, 'longo': 0.2}  2023   \n",
       "24  {'curto': 0.5, 'medio': 0.3, 'longo': 0.2}  2024   \n",
       "25  {'longo': 0.5, 'medio': 0.2, 'curto': 0.3}  2024   \n",
       "26  {'longo': 0.5, 'medio': 0.2, 'curto': 0.3}  2024   \n",
       "27  {'curto': 0.5, 'medio': 0.3, 'longo': 0.2}  2024   \n",
       "\n",
       "                                         titulos_ipca titulo_selic_mais_longo  \n",
       "0   [tesouro_ipca_2019, tesouro_ipca_2024, tesouro...      tesouro_selic_2023  \n",
       "1   [tesouro_ipca_2019, tesouro_ipca_2024, tesouro...      tesouro_selic_2023  \n",
       "2   [tesouro_ipca_2019, tesouro_ipca_2024, tesouro...      tesouro_selic_2023  \n",
       "3   [tesouro_ipca_2019, tesouro_ipca_2024, tesouro...      tesouro_selic_2023  \n",
       "4   [tesouro_ipca_2019, tesouro_ipca_2024, tesouro...      tesouro_selic_2025  \n",
       "5   [tesouro_ipca_2019, tesouro_ipca_2024, tesouro...      tesouro_selic_2025  \n",
       "6   [tesouro_ipca_2019, tesouro_ipca_2024, tesouro...      tesouro_selic_2025  \n",
       "7   [tesouro_ipca_2019, tesouro_ipca_2024, tesouro...      tesouro_selic_2025  \n",
       "8   [tesouro_ipca_2024, tesouro_ipca_2035, tesouro...      tesouro_selic_2025  \n",
       "9   [tesouro_ipca_2024, tesouro_ipca_2035, tesouro...      tesouro_selic_2025  \n",
       "10  [tesouro_ipca_2024, tesouro_ipca_2035, tesouro...      tesouro_selic_2025  \n",
       "11  [tesouro_ipca_2024, tesouro_ipca_2035, tesouro...      tesouro_selic_2025  \n",
       "12  [tesouro_ipca_2024, tesouro_ipca_2035, tesouro...      tesouro_selic_2027  \n",
       "13  [tesouro_ipca_2024, tesouro_ipca_2035, tesouro...      tesouro_selic_2027  \n",
       "14  [tesouro_ipca_2024, tesouro_ipca_2035, tesouro...      tesouro_selic_2027  \n",
       "15  [tesouro_ipca_2024, tesouro_ipca_2035, tesouro...      tesouro_selic_2027  \n",
       "16  [tesouro_ipca_2024, tesouro_ipca_2035, tesouro...      tesouro_selic_2027  \n",
       "17  [tesouro_ipca_2024, tesouro_ipca_2035, tesouro...      tesouro_selic_2027  \n",
       "18  [tesouro_ipca_2024, tesouro_ipca_2035, tesouro...      tesouro_selic_2027  \n",
       "19  [tesouro_ipca_2024, tesouro_ipca_2035, tesouro...      tesouro_selic_2027  \n",
       "20  [tesouro_ipca_2024, tesouro_ipca_2026, tesouro...      tesouro_selic_2029  \n",
       "21  [tesouro_ipca_2024, tesouro_ipca_2026, tesouro...      tesouro_selic_2029  \n",
       "22  [tesouro_ipca_2024, tesouro_ipca_2026, tesouro...      tesouro_selic_2029  \n",
       "23  [tesouro_ipca_2024, tesouro_ipca_2026, tesouro...      tesouro_selic_2029  \n",
       "24  [tesouro_ipca_2024, tesouro_ipca_2026, tesouro...      tesouro_selic_2029  \n",
       "25  [tesouro_ipca_2024, tesouro_ipca_2026, tesouro...      tesouro_selic_2029  \n",
       "26  [tesouro_ipca_2024, tesouro_ipca_2026, tesouro...      tesouro_selic_2029  \n",
       "27  [tesouro_ipca_2024, tesouro_ipca_2026, tesouro...      tesouro_selic_2029  "
      ]
     },
     "metadata": {},
     "output_type": "display_data"
    }
   ],
   "source": [
    "# Lógica operacional de alocação trimestral baseada na variável condicional\n",
    "def logica_operacional_simples(condicional, capital_inicial):\n",
    "    \"\"\"\n",
    "    Para cada data (trimestre) em condicional, define a estratégia e os percentuais de alocação\n",
    "    conforme as regras fornecidas. Não multiplica pesos nem calcula retornos.\n",
    "    Retorna um DataFrame com a estratégia e percentuais definidos para cada trimestre.\n",
    "    \"\"\"\n",
    "    resultados = []\n",
    "    capital_acumulado = capital_inicial\n",
    "\n",
    "    for data_inicio in condicional.index:\n",
    "        cond = condicional.loc[data_inicio]\n",
    "        if cond < 0:\n",
    "            cenario = 'queda'\n",
    "            pct_ipca = 0.8\n",
    "            pct_selic = 0.2\n",
    "            pesos_ipca = {'longo': 0.5, 'medio': 0.2, 'curto': 0.3}\n",
    "        else:\n",
    "            cenario = 'alta'\n",
    "            pct_ipca = 0.3\n",
    "            pct_selic = 0.7\n",
    "            pesos_ipca = {'curto': 0.5, 'medio': 0.3, 'longo': 0.2}\n",
    "\n",
    "        resultados.append({\n",
    "            'data_inicio': data_inicio,\n",
    "            'cenario': cenario,\n",
    "            'capital_acumulado': capital_acumulado,\n",
    "            'pct_ipca': pct_ipca,\n",
    "            'pct_selic': pct_selic,\n",
    "            'pesos_ipca': pesos_ipca\n",
    "        })\n",
    "\n",
    "    return pd.DataFrame(resultados)\n",
    "\n",
    "\n",
    "def adicionar_titulos_por_ano(df_estrategia, titulos_ipca_por_ano, titulos_selic_por_ano):\n",
    "    \"\"\"\n",
    "    Adiciona ao DataFrame os títulos Tesouro IPCA+ e Tesouro Selic disponíveis no ano de cada trimestre.\n",
    "    \"\"\"\n",
    "    df_estrategia = df_estrategia.copy()\n",
    "    df_estrategia['ano'] = df_estrategia['data_inicio'].dt.year\n",
    "\n",
    "    df_estrategia['titulos_ipca'] = df_estrategia['ano'].apply(lambda ano: titulos_ipca_por_ano.get(ano, []))\n",
    "    df_estrategia['titulos_selic'] = df_estrategia['ano'].apply(lambda ano: titulos_selic_por_ano.get(ano, []))\n",
    "\n",
    "    return df_estrategia\n",
    "\n",
    "\n",
    "def selecionar_titulo_selic_mais_longo(df_estrategia):\n",
    "    \"\"\"\n",
    "    Para cada linha do DataFrame, seleciona o título Selic mais longo disponível naquele ano.\n",
    "    Cria uma nova coluna chamada 'titulo_selic_mais_longo'.\n",
    "    \"\"\"\n",
    "    def mais_longo(lista_titulos):\n",
    "        if not lista_titulos:\n",
    "            return None\n",
    "        return sorted(lista_titulos, reverse=True)[0]  # ordenação decrescente assume que os nomes dos tickers contêm datas\n",
    "\n",
    "    df_estrategia['titulo_selic_mais_longo'] = df_estrategia['titulos_selic'].apply(mais_longo)\n",
    "    return df_estrategia\n",
    "\n",
    "\n",
    "# === Exemplo de uso ===\n",
    "\n",
    "# 1. Gerar o DataFrame com a lógica de alocação\n",
    "df_estrategia = logica_operacional_simples(condicional, 100000)\n",
    "# 2. Adicionar colunas com títulos disponíveis por ano\n",
    "df_estrategia = adicionar_titulos_por_ano(df_estrategia, titulos_ipca_por_ano, titulos_selic_por_ano)\n",
    "# 3. Selecionar o título Tesouro Selic mais longo\n",
    "df_estrategia = selecionar_titulo_selic_mais_longo(df_estrategia)\n",
    "# 4. Visualizar resultado\n",
    "display(df_estrategia.drop(columns='titulos_selic'))"
   ]
  },
  {
   "cell_type": "markdown",
   "id": "b72e0f5a",
   "metadata": {},
   "source": [
    "<small>\n",
    "\n",
    "## Alocação de Capital por Título Tesouro IPCA com Base em Classificação\n",
    "\n",
    "### Objetivo\n",
    "Distribuir o capital alocado para Tesouro IPCA+ em cada trimestre com base:\n",
    "- Nos títulos disponíveis (`df_estrategia['titulos_ipca']`)\n",
    "- Na classificação dinâmica de vencimento (`df_classificacao_dinamica`)\n",
    "- Nos pesos definidos por cenário estratégico (`df_estrategia['pesos_ipca']`)\n",
    "\n",
    "### Etapas Resumidas\n",
    "\n",
    "1. **Iterar por trimestre (`df_estrategia`)**  \n",
    "   Para cada linha, extrair a data (`data_inicio`), títulos IPCA, pesos, percentuais e capital acumulado.\n",
    "\n",
    "2. **Classificar cada título IPCA**  \n",
    "   Buscar no `df_classificacao_dinamica` a classificação do título correspondente àquele trimestre (ex.: curto, médio, longo).\n",
    "\n",
    "3. **Aplicar peso da classificação**  \n",
    "   Utilizar o dicionário de pesos por classificação para acessar o peso do título conforme sua categoria.\n",
    "\n",
    "4. **Calcular capital alocado por título**  \n",
    "   Aplicar a fórmula:  \n",
    "   `capital_alocado = peso * pct_ipca * capital_acumulado`\n",
    "\n",
    "### Resultado\n",
    "Para cada título IPCA no trimestre:\n",
    "- Identifica-se a classificação\n",
    "- Aplica-se o peso definido\n",
    "- Calcula-se o valor alocado com base no capital acumulado\n",
    "\n",
    "Essa lógica permite uma gestão dinâmica e automatizada da carteira, alinhada ao cenário econômico projetado.\n",
    "\n",
    "<small>"
   ]
  },
  {
   "cell_type": "code",
   "execution_count": 456,
   "id": "6dd4b59d",
   "metadata": {
    "vscode": {
     "languageId": "ruby"
    }
   },
   "outputs": [
    {
     "data": {
      "text/html": [
       "<div>\n",
       "<style scoped>\n",
       "    .dataframe tbody tr th:only-of-type {\n",
       "        vertical-align: middle;\n",
       "    }\n",
       "\n",
       "    .dataframe tbody tr th {\n",
       "        vertical-align: top;\n",
       "    }\n",
       "\n",
       "    .dataframe thead th {\n",
       "        text-align: right;\n",
       "    }\n",
       "</style>\n",
       "<table border=\"1\" class=\"dataframe\">\n",
       "  <thead>\n",
       "    <tr style=\"text-align: right;\">\n",
       "      <th></th>\n",
       "      <th>data_inicio</th>\n",
       "      <th>ano</th>\n",
       "      <th>trimestre</th>\n",
       "      <th>ticker</th>\n",
       "      <th>classificacao</th>\n",
       "      <th>peso</th>\n",
       "      <th>capital_alocado</th>\n",
       "    </tr>\n",
       "  </thead>\n",
       "  <tbody>\n",
       "    <tr>\n",
       "      <th>0</th>\n",
       "      <td>2018-03-31</td>\n",
       "      <td>2018</td>\n",
       "      <td>Q1</td>\n",
       "      <td>tesouro_ipca_2019</td>\n",
       "      <td>curto</td>\n",
       "      <td>0.3</td>\n",
       "      <td>24000.0</td>\n",
       "    </tr>\n",
       "    <tr>\n",
       "      <th>1</th>\n",
       "      <td>2018-03-31</td>\n",
       "      <td>2018</td>\n",
       "      <td>Q1</td>\n",
       "      <td>tesouro_ipca_2024</td>\n",
       "      <td>medio</td>\n",
       "      <td>0.2</td>\n",
       "      <td>16000.0</td>\n",
       "    </tr>\n",
       "    <tr>\n",
       "      <th>2</th>\n",
       "      <td>2018-03-31</td>\n",
       "      <td>2018</td>\n",
       "      <td>Q1</td>\n",
       "      <td>tesouro_ipca_2035</td>\n",
       "      <td>longo</td>\n",
       "      <td>0.5</td>\n",
       "      <td>40000.0</td>\n",
       "    </tr>\n",
       "    <tr>\n",
       "      <th>3</th>\n",
       "      <td>2018-03-31</td>\n",
       "      <td>2018</td>\n",
       "      <td>Q1</td>\n",
       "      <td>tesouro_ipca_2045</td>\n",
       "      <td>longo</td>\n",
       "      <td>0.5</td>\n",
       "      <td>40000.0</td>\n",
       "    </tr>\n",
       "    <tr>\n",
       "      <th>4</th>\n",
       "      <td>2018-06-30</td>\n",
       "      <td>2018</td>\n",
       "      <td>Q2</td>\n",
       "      <td>tesouro_ipca_2019</td>\n",
       "      <td>curto</td>\n",
       "      <td>0.5</td>\n",
       "      <td>15000.0</td>\n",
       "    </tr>\n",
       "  </tbody>\n",
       "</table>\n",
       "</div>"
      ],
      "text/plain": [
       "  data_inicio   ano trimestre             ticker classificacao  peso  \\\n",
       "0  2018-03-31  2018        Q1  tesouro_ipca_2019         curto   0.3   \n",
       "1  2018-03-31  2018        Q1  tesouro_ipca_2024         medio   0.2   \n",
       "2  2018-03-31  2018        Q1  tesouro_ipca_2035         longo   0.5   \n",
       "3  2018-03-31  2018        Q1  tesouro_ipca_2045         longo   0.5   \n",
       "4  2018-06-30  2018        Q2  tesouro_ipca_2019         curto   0.5   \n",
       "\n",
       "   capital_alocado  \n",
       "0          24000.0  \n",
       "1          16000.0  \n",
       "2          40000.0  \n",
       "3          40000.0  \n",
       "4          15000.0  "
      ]
     },
     "metadata": {},
     "output_type": "display_data"
    }
   ],
   "source": [
    "def calcular_alocacao_ipca_por_titulo(df_estrategia, df_classificacao_dinamica):\n",
    "    \"\"\"\n",
    "    Para cada linha de df_estrategia, calcula o capital alocado em cada título IPCA+,\n",
    "    considerando a classificação dinâmica e os pesos definidos na estratégia.\n",
    "    Adiciona colunas auxiliares 'trimestre' (Q1, Q2, Q3, Q4) e 'ano'.\n",
    "    Retorna um DataFrame com: data_inicio, ano, trimestre, ticker, classificacao, peso, capital_alocado.\n",
    "    \"\"\"\n",
    "    resultados = []\n",
    "    for idx, row in df_estrategia.iterrows():\n",
    "        data_inicio = row['data_inicio']\n",
    "        titulos = row['titulos_ipca']\n",
    "        pesos_ipca = row['pesos_ipca']\n",
    "        pct_ipca = row['pct_ipca']\n",
    "        capital_acumulado = row['capital_acumulado']\n",
    "        # Determina trimestre corretamente\n",
    "        mes = data_inicio.month\n",
    "        if mes == 3:\n",
    "            trimestre = 'Q1'\n",
    "        elif mes == 6:\n",
    "            trimestre = 'Q2'\n",
    "        elif mes == 9:\n",
    "            trimestre = 'Q3'\n",
    "        elif mes == 12:\n",
    "            trimestre = 'Q4'\n",
    "        else:\n",
    "            trimestre = None\n",
    "        ano = data_inicio.year\n",
    "        for ticker in titulos:\n",
    "            # Busca a classificação do título para a data\n",
    "            filtro = (\n",
    "                (df_classificacao_dinamica['ticker'] == ticker) &\n",
    "                (df_classificacao_dinamica['data'] == data_inicio)\n",
    "            )\n",
    "            classificacao_row = df_classificacao_dinamica.loc[filtro]\n",
    "            if classificacao_row.empty:\n",
    "                continue  # Não há classificação para este título nesta data\n",
    "            classificacao = classificacao_row.iloc[0]['classificacao']\n",
    "            # Busca o peso correspondente à classificação\n",
    "            peso = pesos_ipca.get(classificacao)\n",
    "            if peso is None:\n",
    "                continue  # Não há peso para esta classificação\n",
    "            capital_alocado = peso * pct_ipca * capital_acumulado\n",
    "            resultados.append({\n",
    "                'data_inicio': data_inicio,\n",
    "                'ano': ano,\n",
    "                'trimestre': trimestre,\n",
    "                'ticker': ticker,\n",
    "                'classificacao': classificacao,\n",
    "                'peso': peso,\n",
    "                'capital_alocado': capital_alocado\n",
    "            })\n",
    "    return pd.DataFrame(resultados)\n",
    "\n",
    "# Exemplo de uso:\n",
    "df_resultado = calcular_alocacao_ipca_por_titulo(df_estrategia, df_classificacao_dinamica)\n",
    "display(df_resultado.head())"
   ]
  },
  {
   "cell_type": "markdown",
   "id": "27e74387",
   "metadata": {},
   "source": [
    "#### O mesmo feito para o Tesouro Selic"
   ]
  },
  {
   "cell_type": "code",
   "execution_count": 457,
   "id": "d044633b",
   "metadata": {},
   "outputs": [
    {
     "data": {
      "text/html": [
       "<div>\n",
       "<style scoped>\n",
       "    .dataframe tbody tr th:only-of-type {\n",
       "        vertical-align: middle;\n",
       "    }\n",
       "\n",
       "    .dataframe tbody tr th {\n",
       "        vertical-align: top;\n",
       "    }\n",
       "\n",
       "    .dataframe thead th {\n",
       "        text-align: right;\n",
       "    }\n",
       "</style>\n",
       "<table border=\"1\" class=\"dataframe\">\n",
       "  <thead>\n",
       "    <tr style=\"text-align: right;\">\n",
       "      <th></th>\n",
       "      <th>data_inicio</th>\n",
       "      <th>ano</th>\n",
       "      <th>trimestre</th>\n",
       "      <th>ticker</th>\n",
       "      <th>capital_alocado</th>\n",
       "    </tr>\n",
       "  </thead>\n",
       "  <tbody>\n",
       "    <tr>\n",
       "      <th>0</th>\n",
       "      <td>2018-03-31</td>\n",
       "      <td>2018</td>\n",
       "      <td>Q1</td>\n",
       "      <td>tesouro_selic_2023</td>\n",
       "      <td>20000.0</td>\n",
       "    </tr>\n",
       "    <tr>\n",
       "      <th>1</th>\n",
       "      <td>2018-06-30</td>\n",
       "      <td>2018</td>\n",
       "      <td>Q2</td>\n",
       "      <td>tesouro_selic_2023</td>\n",
       "      <td>70000.0</td>\n",
       "    </tr>\n",
       "    <tr>\n",
       "      <th>2</th>\n",
       "      <td>2018-09-30</td>\n",
       "      <td>2018</td>\n",
       "      <td>Q3</td>\n",
       "      <td>tesouro_selic_2023</td>\n",
       "      <td>20000.0</td>\n",
       "    </tr>\n",
       "    <tr>\n",
       "      <th>3</th>\n",
       "      <td>2018-12-31</td>\n",
       "      <td>2018</td>\n",
       "      <td>Q4</td>\n",
       "      <td>tesouro_selic_2023</td>\n",
       "      <td>20000.0</td>\n",
       "    </tr>\n",
       "    <tr>\n",
       "      <th>4</th>\n",
       "      <td>2019-03-31</td>\n",
       "      <td>2019</td>\n",
       "      <td>Q1</td>\n",
       "      <td>tesouro_selic_2025</td>\n",
       "      <td>70000.0</td>\n",
       "    </tr>\n",
       "  </tbody>\n",
       "</table>\n",
       "</div>"
      ],
      "text/plain": [
       "  data_inicio   ano trimestre              ticker  capital_alocado\n",
       "0  2018-03-31  2018        Q1  tesouro_selic_2023          20000.0\n",
       "1  2018-06-30  2018        Q2  tesouro_selic_2023          70000.0\n",
       "2  2018-09-30  2018        Q3  tesouro_selic_2023          20000.0\n",
       "3  2018-12-31  2018        Q4  tesouro_selic_2023          20000.0\n",
       "4  2019-03-31  2019        Q1  tesouro_selic_2025          70000.0"
      ]
     },
     "metadata": {},
     "output_type": "display_data"
    }
   ],
   "source": [
    "def calcular_alocacao_selic_por_titulo(df_estrategia):\n",
    "    \"\"\"\n",
    "    Para cada linha de df_estrategia, calcula o capital alocado no título Selic mais longo disponível,\n",
    "    sem necessidade de filtro de pesos (aloca 100% do percentual Selic definido na estratégia).\n",
    "    Retorna um DataFrame com: data_inicio, ano, trimestre, ticker, capital_alocado.\n",
    "    \"\"\"\n",
    "    resultados = []\n",
    "    for idx, row in df_estrategia.iterrows():\n",
    "        data_inicio = row['data_inicio']\n",
    "        ticker = row.get('titulo_selic_mais_longo')\n",
    "        pct_selic = row['pct_selic']\n",
    "        capital_acumulado = row['capital_acumulado']\n",
    "        # Determina trimestre corretamente\n",
    "        mes = data_inicio.month\n",
    "        if mes == 3:\n",
    "            trimestre = 'Q1'\n",
    "        elif mes == 6:\n",
    "            trimestre = 'Q2'\n",
    "        elif mes == 9:\n",
    "            trimestre = 'Q3'\n",
    "        elif mes == 12:\n",
    "            trimestre = 'Q4'\n",
    "        else:\n",
    "            trimestre = None\n",
    "        ano = data_inicio.year\n",
    "        if ticker is not None:\n",
    "            capital_alocado = pct_selic * capital_acumulado\n",
    "            resultados.append({\n",
    "                'data_inicio': data_inicio,\n",
    "                'ano': ano,\n",
    "                'trimestre': trimestre,\n",
    "                'ticker': ticker,\n",
    "                'capital_alocado': capital_alocado\n",
    "            })\n",
    "    return pd.DataFrame(resultados)\n",
    "\n",
    "# Exemplo de uso:\n",
    "df_resultado_selic = calcular_alocacao_selic_por_titulo(df_estrategia)\n",
    "display(df_resultado_selic.head())"
   ]
  },
  {
   "cell_type": "code",
   "execution_count": 458,
   "id": "0212df85",
   "metadata": {
    "vscode": {
     "languageId": "ruby"
    }
   },
   "outputs": [],
   "source": [
    "# Define o DataFrame com índice 'ano' e ordena os tickers em ordem alfabética dentro de cada ano para facilitar os calculos dos retornos por títulos\n",
    "df_resultado_ordenado = (df_resultado.set_index('ano').sort_values(['ano', 'ticker']))\n",
    "\n",
    "# Unindo os dataframes por ano, trimestre e título\n",
    "ganho_ipca = pd.concat([df_resultado_ordenado, df_retornos_ipca.set_index('ano').loc['2018':'2024']], axis=1).set_index('ticker')\n",
    "\n",
    "# Unindo os dataframes por ano, trimestre e título\n",
    "ganho_selic = pd.concat([df_resultado_selic, df_retornos_selic.iloc[:-2]], axis=1)"
   ]
  },
  {
   "cell_type": "code",
   "execution_count": 459,
   "id": "04d68fc9",
   "metadata": {
    "vscode": {
     "languageId": "ruby"
    }
   },
   "outputs": [],
   "source": [
    "ganho_ipca['retorno_cap_ipca'] = ganho_ipca['capital_alocado'] * ganho_ipca['retorno_acumulado_%'] / 100\n",
    "ganho_selic['retorno_cap_selic'] = ganho_selic['capital_alocado'] * ganho_selic['retorno_acumulado_%'] / 100"
   ]
  },
  {
   "cell_type": "markdown",
   "id": "6acbd744",
   "metadata": {},
   "source": [
    "<small>\n",
    "\n",
    "## Análise do Código de Simulação de Investimentos\n",
    "\n",
    "### Objetivo\n",
    "Simular o crescimento de um capital inicial aplicado em títulos indexados ao IPCA e Selic, com base em uma estratégia definida por trimestres.\n",
    "\n",
    "## Estrutura do Código\n",
    "\n",
    "### 1. Inicialização\n",
    "- `capital_inicial`: Define o valor inicial do investimento (R$ 100.000)\n",
    "- `capital_acumulado`: Variável que armazena o valor atualizado do capital\n",
    "- `resultados_gerais`/`resultados_titulos`: Listas para armazenar os resultados\n",
    "\n",
    "### 2. Loop por Trimestre\n",
    "Para cada período definido em `df_estrategia`:\n",
    "- Extrai a data de início e percentuais alocados para IPCA/Selic\n",
    "- Filtra os retornos dos títulos para o trimestre atual\n",
    "\n",
    "### 3. Cálculo de Ganhos\n",
    "- **Títulos IPCA**:\n",
    "  - Calcula ganhos ponderados pelo peso de cada título na carteira\n",
    "  - Armazena detalhes por título (ticker, tipo, ganho)\n",
    "  \n",
    "- **Títulos Selic**:\n",
    "  - Calcula ganhos diretamente proporcional ao retorno\n",
    "  - Armazena informações similares aos títulos IPCA\n",
    "\n",
    "### 4. Atualização do Capital\n",
    "- Soma todos os ganhos do trimestre (IPCA + Selic)\n",
    "- Atualiza o `capital_acumulado` com os rendimentos\n",
    "\n",
    "### 5. Saída Final\n",
    "- Gera dois DataFrames:\n",
    "  1. `df_resultado_geral`: Evolução temporal do capital\n",
    "  2. `df_resultado_titulos`: Detalhamento por título e período\n",
    "\n",
    "## Fluxo de Dados\n",
    "Capital Inicial → Alocação Trimestral → Cálculo de Rendimentos → Acúmulo → Resultados Consolidados\n",
    "\n",
    "<small>"
   ]
  },
  {
   "cell_type": "code",
   "execution_count": 460,
   "id": "421c8480",
   "metadata": {},
   "outputs": [
    {
     "data": {
      "text/html": [
       "<div>\n",
       "<style scoped>\n",
       "    .dataframe tbody tr th:only-of-type {\n",
       "        vertical-align: middle;\n",
       "    }\n",
       "\n",
       "    .dataframe tbody tr th {\n",
       "        vertical-align: top;\n",
       "    }\n",
       "\n",
       "    .dataframe thead th {\n",
       "        text-align: right;\n",
       "    }\n",
       "</style>\n",
       "<table border=\"1\" class=\"dataframe\">\n",
       "  <thead>\n",
       "    <tr style=\"text-align: right;\">\n",
       "      <th></th>\n",
       "      <th>data_inicio</th>\n",
       "      <th>capital_acumulado</th>\n",
       "    </tr>\n",
       "  </thead>\n",
       "  <tbody>\n",
       "    <tr>\n",
       "      <th>0</th>\n",
       "      <td>2018-03-31</td>\n",
       "      <td>98940.708000</td>\n",
       "    </tr>\n",
       "    <tr>\n",
       "      <th>1</th>\n",
       "      <td>2018-06-30</td>\n",
       "      <td>98527.973868</td>\n",
       "    </tr>\n",
       "    <tr>\n",
       "      <th>2</th>\n",
       "      <td>2018-09-30</td>\n",
       "      <td>98791.492846</td>\n",
       "    </tr>\n",
       "    <tr>\n",
       "      <th>3</th>\n",
       "      <td>2018-12-31</td>\n",
       "      <td>118945.680540</td>\n",
       "    </tr>\n",
       "    <tr>\n",
       "      <th>4</th>\n",
       "      <td>2019-03-31</td>\n",
       "      <td>122404.328324</td>\n",
       "    </tr>\n",
       "  </tbody>\n",
       "</table>\n",
       "</div>"
      ],
      "text/plain": [
       "  data_inicio  capital_acumulado\n",
       "0  2018-03-31       98940.708000\n",
       "1  2018-06-30       98527.973868\n",
       "2  2018-09-30       98791.492846\n",
       "3  2018-12-31      118945.680540\n",
       "4  2019-03-31      122404.328324"
      ]
     },
     "metadata": {},
     "output_type": "display_data"
    },
    {
     "data": {
      "text/html": [
       "<div>\n",
       "<style scoped>\n",
       "    .dataframe tbody tr th:only-of-type {\n",
       "        vertical-align: middle;\n",
       "    }\n",
       "\n",
       "    .dataframe tbody tr th {\n",
       "        vertical-align: top;\n",
       "    }\n",
       "\n",
       "    .dataframe thead th {\n",
       "        text-align: right;\n",
       "    }\n",
       "</style>\n",
       "<table border=\"1\" class=\"dataframe\">\n",
       "  <thead>\n",
       "    <tr style=\"text-align: right;\">\n",
       "      <th></th>\n",
       "      <th>data_inicio</th>\n",
       "      <th>tipo</th>\n",
       "      <th>ticker</th>\n",
       "      <th>ganho</th>\n",
       "    </tr>\n",
       "  </thead>\n",
       "  <tbody>\n",
       "    <tr>\n",
       "      <th>0</th>\n",
       "      <td>2018-03-31</td>\n",
       "      <td>IPCA</td>\n",
       "      <td>(tesouro_ipca_2019, tesouro_ipca_2019)</td>\n",
       "      <td>502.920</td>\n",
       "    </tr>\n",
       "    <tr>\n",
       "      <th>1</th>\n",
       "      <td>2018-03-31</td>\n",
       "      <td>IPCA</td>\n",
       "      <td>(tesouro_ipca_2024, tesouro_ipca_2024)</td>\n",
       "      <td>354.848</td>\n",
       "    </tr>\n",
       "    <tr>\n",
       "      <th>2</th>\n",
       "      <td>2018-03-31</td>\n",
       "      <td>IPCA</td>\n",
       "      <td>(tesouro_ipca_2035, tesouro_ipca_2035)</td>\n",
       "      <td>-760.880</td>\n",
       "    </tr>\n",
       "    <tr>\n",
       "      <th>3</th>\n",
       "      <td>2018-03-31</td>\n",
       "      <td>IPCA</td>\n",
       "      <td>(tesouro_ipca_2045, tesouro_ipca_2045)</td>\n",
       "      <td>-1460.880</td>\n",
       "    </tr>\n",
       "    <tr>\n",
       "      <th>4</th>\n",
       "      <td>2018-03-31</td>\n",
       "      <td>Selic</td>\n",
       "      <td>ticker    tesouro_selic_2023\n",
       "ticker    tesouro...</td>\n",
       "      <td>304.700</td>\n",
       "    </tr>\n",
       "  </tbody>\n",
       "</table>\n",
       "</div>"
      ],
      "text/plain": [
       "  data_inicio   tipo                                             ticker  \\\n",
       "0  2018-03-31   IPCA             (tesouro_ipca_2019, tesouro_ipca_2019)   \n",
       "1  2018-03-31   IPCA             (tesouro_ipca_2024, tesouro_ipca_2024)   \n",
       "2  2018-03-31   IPCA             (tesouro_ipca_2035, tesouro_ipca_2035)   \n",
       "3  2018-03-31   IPCA             (tesouro_ipca_2045, tesouro_ipca_2045)   \n",
       "4  2018-03-31  Selic  ticker    tesouro_selic_2023\n",
       "ticker    tesouro...   \n",
       "\n",
       "      ganho  \n",
       "0   502.920  \n",
       "1   354.848  \n",
       "2  -760.880  \n",
       "3 -1460.880  \n",
       "4   304.700  "
      ]
     },
     "metadata": {},
     "output_type": "display_data"
    }
   ],
   "source": [
    "capital_inicial = 100000\n",
    "capital_acumulado = capital_inicial\n",
    "resultados_gerais = []\n",
    "resultados_titulos = []\n",
    "\n",
    "# Itera por cada trimestre da estratégia\n",
    "for i, row in df_estrategia.iterrows():\n",
    "    data_inicio = row['data_inicio']\n",
    "    pct_ipca = row['pct_ipca']\n",
    "    pct_selic = row['pct_selic']\n",
    "\n",
    "    # Filtra retornos IPCA e Selic para o trimestre atual\n",
    "    filtro_ipca = ganho_ipca.reset_index()\n",
    "    filtro_ipca = filtro_ipca[filtro_ipca['data_inicio'] == data_inicio]\n",
    "    filtro_selic = ganho_selic[ganho_selic['data_inicio'] == data_inicio]\n",
    "\n",
    "    ganhos_ipca = []\n",
    "    ganhos_selic = []\n",
    "\n",
    "    # Ganhos IPCA por título\n",
    "    for _, ipca_row in filtro_ipca.iterrows():\n",
    "        ticker = ipca_row['ticker']\n",
    "        peso = ipca_row['peso']\n",
    "        retorno_pct = ipca_row['retorno_acumulado_%'] / 100\n",
    "        ganho = capital_acumulado * pct_ipca * peso * retorno_pct\n",
    "        ganhos_ipca.append(ganho)\n",
    "        resultados_titulos.append({\n",
    "            'data_inicio': data_inicio,\n",
    "            'tipo': 'IPCA',\n",
    "            'ticker': ticker,\n",
    "            'ganho': ganho\n",
    "        })\n",
    "\n",
    "    # Ganhos Selic por título\n",
    "    for _, selic_row in filtro_selic.iterrows():\n",
    "        ticker = selic_row['ticker']\n",
    "        retorno_pct = selic_row['retorno_acumulado_%'] / 100\n",
    "        ganho = capital_acumulado * pct_selic * retorno_pct\n",
    "        ganhos_selic.append(ganho)\n",
    "        resultados_titulos.append({\n",
    "            'data_inicio': data_inicio,\n",
    "            'tipo': 'Selic',\n",
    "            'ticker': ticker,\n",
    "            'ganho': ganho\n",
    "        })\n",
    "\n",
    "    # Atualiza capital acumulado\n",
    "    total_ganho_trimestre = sum(ganhos_ipca) + sum(ganhos_selic)\n",
    "    capital_acumulado += total_ganho_trimestre\n",
    "\n",
    "    resultados_gerais.append({\n",
    "        'data_inicio': data_inicio,\n",
    "        'capital_acumulado': capital_acumulado\n",
    "    })\n",
    "\n",
    "# DataFrames finais\n",
    "df_resultado_geral = pd.DataFrame(resultados_gerais)\n",
    "df_resultado_titulos = pd.DataFrame(resultados_titulos)\n",
    "\n",
    "display(df_resultado_geral.head())\n",
    "display(df_resultado_titulos.head())"
   ]
  },
  {
   "cell_type": "markdown",
   "id": "8d4a5674",
   "metadata": {},
   "source": [
    "# Resultado do modelo em percentual"
   ]
  },
  {
   "cell_type": "code",
   "execution_count": 461,
   "id": "f3797c83",
   "metadata": {},
   "outputs": [],
   "source": [
    "modelo_percentual = ((df_resultado_geral.set_index('data_inicio') / df_resultado_geral.set_index('data_inicio').iloc[0] - 1) * 100).round(2)\n",
    "modelo_percentual = modelo_percentual.rename(columns={'capital_acumulado':'Modelo'})"
   ]
  },
  {
   "cell_type": "markdown",
   "id": "b6c2f32b",
   "metadata": {},
   "source": [
    "### Filtrando dados para calculos seperados por títulos e classes"
   ]
  },
  {
   "cell_type": "code",
   "execution_count": 462,
   "id": "80889932",
   "metadata": {},
   "outputs": [
    {
     "data": {
      "text/html": [
       "<div>\n",
       "<style scoped>\n",
       "    .dataframe tbody tr th:only-of-type {\n",
       "        vertical-align: middle;\n",
       "    }\n",
       "\n",
       "    .dataframe tbody tr th {\n",
       "        vertical-align: top;\n",
       "    }\n",
       "\n",
       "    .dataframe thead th {\n",
       "        text-align: right;\n",
       "    }\n",
       "</style>\n",
       "<table border=\"1\" class=\"dataframe\">\n",
       "  <thead>\n",
       "    <tr style=\"text-align: right;\">\n",
       "      <th></th>\n",
       "      <th>data_inicio</th>\n",
       "      <th>tipo</th>\n",
       "      <th>ticker</th>\n",
       "      <th>ganho</th>\n",
       "      <th>ganho_acumulado</th>\n",
       "    </tr>\n",
       "  </thead>\n",
       "  <tbody>\n",
       "    <tr>\n",
       "      <th>0</th>\n",
       "      <td>2018-03-31</td>\n",
       "      <td>IPCA</td>\n",
       "      <td>tesouro_ipca_2019</td>\n",
       "      <td>502.920000</td>\n",
       "      <td>502.920000</td>\n",
       "    </tr>\n",
       "    <tr>\n",
       "      <th>1</th>\n",
       "      <td>2018-03-31</td>\n",
       "      <td>IPCA</td>\n",
       "      <td>tesouro_ipca_2024</td>\n",
       "      <td>354.848000</td>\n",
       "      <td>354.848000</td>\n",
       "    </tr>\n",
       "    <tr>\n",
       "      <th>2</th>\n",
       "      <td>2018-03-31</td>\n",
       "      <td>IPCA</td>\n",
       "      <td>tesouro_ipca_2035</td>\n",
       "      <td>-760.880000</td>\n",
       "      <td>-760.880000</td>\n",
       "    </tr>\n",
       "    <tr>\n",
       "      <th>3</th>\n",
       "      <td>2018-03-31</td>\n",
       "      <td>IPCA</td>\n",
       "      <td>tesouro_ipca_2045</td>\n",
       "      <td>-1460.880000</td>\n",
       "      <td>-1460.880000</td>\n",
       "    </tr>\n",
       "    <tr>\n",
       "      <th>4</th>\n",
       "      <td>2018-03-31</td>\n",
       "      <td>Selic</td>\n",
       "      <td>tesouro_selic_2023</td>\n",
       "      <td>304.700000</td>\n",
       "      <td>304.700000</td>\n",
       "    </tr>\n",
       "    <tr>\n",
       "      <th>...</th>\n",
       "      <td>...</td>\n",
       "      <td>...</td>\n",
       "      <td>...</td>\n",
       "      <td>...</td>\n",
       "      <td>...</td>\n",
       "    </tr>\n",
       "    <tr>\n",
       "      <th>128</th>\n",
       "      <td>2024-12-31</td>\n",
       "      <td>IPCA</td>\n",
       "      <td>tesouro_ipca_2026</td>\n",
       "      <td>327.991751</td>\n",
       "      <td>4978.955708</td>\n",
       "    </tr>\n",
       "    <tr>\n",
       "      <th>129</th>\n",
       "      <td>2024-12-31</td>\n",
       "      <td>IPCA</td>\n",
       "      <td>tesouro_ipca_2029</td>\n",
       "      <td>-350.370081</td>\n",
       "      <td>2426.026401</td>\n",
       "    </tr>\n",
       "    <tr>\n",
       "      <th>130</th>\n",
       "      <td>2024-12-31</td>\n",
       "      <td>IPCA</td>\n",
       "      <td>tesouro_ipca_2035</td>\n",
       "      <td>-776.318337</td>\n",
       "      <td>16666.093513</td>\n",
       "    </tr>\n",
       "    <tr>\n",
       "      <th>131</th>\n",
       "      <td>2024-12-31</td>\n",
       "      <td>IPCA</td>\n",
       "      <td>tesouro_ipca_2045</td>\n",
       "      <td>-1423.603471</td>\n",
       "      <td>14198.762213</td>\n",
       "    </tr>\n",
       "    <tr>\n",
       "      <th>132</th>\n",
       "      <td>2024-12-31</td>\n",
       "      <td>Selic</td>\n",
       "      <td>tesouro_selic_2029</td>\n",
       "      <td>3398.188705</td>\n",
       "      <td>16928.421236</td>\n",
       "    </tr>\n",
       "  </tbody>\n",
       "</table>\n",
       "<p>133 rows × 5 columns</p>\n",
       "</div>"
      ],
      "text/plain": [
       "    data_inicio   tipo              ticker        ganho  ganho_acumulado\n",
       "0    2018-03-31   IPCA   tesouro_ipca_2019   502.920000       502.920000\n",
       "1    2018-03-31   IPCA   tesouro_ipca_2024   354.848000       354.848000\n",
       "2    2018-03-31   IPCA   tesouro_ipca_2035  -760.880000      -760.880000\n",
       "3    2018-03-31   IPCA   tesouro_ipca_2045 -1460.880000     -1460.880000\n",
       "4    2018-03-31  Selic  tesouro_selic_2023   304.700000       304.700000\n",
       "..          ...    ...                 ...          ...              ...\n",
       "128  2024-12-31   IPCA   tesouro_ipca_2026   327.991751      4978.955708\n",
       "129  2024-12-31   IPCA   tesouro_ipca_2029  -350.370081      2426.026401\n",
       "130  2024-12-31   IPCA   tesouro_ipca_2035  -776.318337     16666.093513\n",
       "131  2024-12-31   IPCA   tesouro_ipca_2045 -1423.603471     14198.762213\n",
       "132  2024-12-31  Selic  tesouro_selic_2029  3398.188705     16928.421236\n",
       "\n",
       "[133 rows x 5 columns]"
      ]
     },
     "metadata": {},
     "output_type": "display_data"
    },
    {
     "data": {
      "text/plain": [
       "ticker\n",
       "tesouro_ipca_2019      2061.303329\n",
       "tesouro_ipca_2024     14954.276058\n",
       "tesouro_ipca_2026      4978.955708\n",
       "tesouro_ipca_2029      2426.026401\n",
       "tesouro_ipca_2035     16666.093513\n",
       "tesouro_ipca_2045     14198.762213\n",
       "tesouro_selic_2023     1967.097718\n",
       "tesouro_selic_2025     4079.889414\n",
       "tesouro_selic_2027     7829.369654\n",
       "tesouro_selic_2029    16928.421236\n",
       "Name: ganho, dtype: float64"
      ]
     },
     "metadata": {},
     "output_type": "display_data"
    }
   ],
   "source": [
    "def extrair_ticker_str(ticker):\n",
    "    # Se for uma tupla, pega o primeiro elemento\n",
    "    if isinstance(ticker, tuple):\n",
    "        return str(ticker[0])\n",
    "    # Se for uma Series, pega o primeiro valor\n",
    "    if isinstance(ticker, pd.Series):\n",
    "        return str(ticker.iloc[0])\n",
    "    # Se já for string, retorna direto\n",
    "    return str(ticker)\n",
    "\n",
    "df_resultado_titulos = df_resultado_titulos.copy()\n",
    "df_resultado_titulos['ticker'] = df_resultado_titulos['ticker'].apply(extrair_ticker_str)\n",
    "\n",
    "# Agora podemos calcular o ganho acumulado por ticker normalmente\n",
    "df_resultado_titulos['ganho_acumulado'] = df_resultado_titulos.groupby('ticker')['ganho'].cumsum()\n",
    "\n",
    "# Soma total de ganhos por título (último valor acumulado de cada título)\n",
    "soma_total_por_titulo = df_resultado_titulos.groupby('ticker')['ganho'].sum()\n",
    "\n",
    "# Exibe o DataFrame com a coluna de ganho acumulado e a soma total por título\n",
    "display(df_resultado_titulos)\n",
    "display(soma_total_por_titulo)"
   ]
  },
  {
   "cell_type": "markdown",
   "id": "361a920e",
   "metadata": {},
   "source": [
    "## Análise Gráfica: Posição Acumulada por Título  \n",
    "\n",
    "O gráfico abaixo apresenta a distribuição do valor acumulado em reais para cada título, ordenado de forma crescente. Essa visualização permite uma comparação clara do desempenho individual dos ativos ao longo do período analisado.  "
   ]
  },
  {
   "cell_type": "code",
   "execution_count": 463,
   "id": "4e4d5c37",
   "metadata": {},
   "outputs": [
    {
     "data": {
      "application/vnd.plotly.v1+json": {
       "config": {
        "plotlyServerURL": "https://plot.ly"
       },
       "data": [
        {
         "marker": {
          "color": "royalblue"
         },
         "type": "bar",
         "x": [
          "tesouro_ipca_2019",
          "tesouro_ipca_2024",
          "tesouro_ipca_2026",
          "tesouro_ipca_2029",
          "tesouro_ipca_2035",
          "tesouro_ipca_2045",
          "tesouro_selic_2023",
          "tesouro_selic_2025",
          "tesouro_selic_2027",
          "tesouro_selic_2029"
         ],
         "y": {
          "bdata": "oPoVEGS8nkCHgeJNmxqgQAKdZ4QN9KJA2K5AYcffr0CA2U+p9HKzQD0qpKFelb5Aix4ukGG7y0Ag8tpVIzXNQHONHfyFRtBAvPyH9RqI0EA=",
          "dtype": "f8"
         }
        }
       ],
       "layout": {
        "template": {
         "data": {
          "bar": [
           {
            "error_x": {
             "color": "#f2f5fa"
            },
            "error_y": {
             "color": "#f2f5fa"
            },
            "marker": {
             "line": {
              "color": "rgb(17,17,17)",
              "width": 0.5
             },
             "pattern": {
              "fillmode": "overlay",
              "size": 10,
              "solidity": 0.2
             }
            },
            "type": "bar"
           }
          ],
          "barpolar": [
           {
            "marker": {
             "line": {
              "color": "rgb(17,17,17)",
              "width": 0.5
             },
             "pattern": {
              "fillmode": "overlay",
              "size": 10,
              "solidity": 0.2
             }
            },
            "type": "barpolar"
           }
          ],
          "carpet": [
           {
            "aaxis": {
             "endlinecolor": "#A2B1C6",
             "gridcolor": "#506784",
             "linecolor": "#506784",
             "minorgridcolor": "#506784",
             "startlinecolor": "#A2B1C6"
            },
            "baxis": {
             "endlinecolor": "#A2B1C6",
             "gridcolor": "#506784",
             "linecolor": "#506784",
             "minorgridcolor": "#506784",
             "startlinecolor": "#A2B1C6"
            },
            "type": "carpet"
           }
          ],
          "choropleth": [
           {
            "colorbar": {
             "outlinewidth": 0,
             "ticks": ""
            },
            "type": "choropleth"
           }
          ],
          "contour": [
           {
            "colorbar": {
             "outlinewidth": 0,
             "ticks": ""
            },
            "colorscale": [
             [
              0,
              "#0d0887"
             ],
             [
              0.1111111111111111,
              "#46039f"
             ],
             [
              0.2222222222222222,
              "#7201a8"
             ],
             [
              0.3333333333333333,
              "#9c179e"
             ],
             [
              0.4444444444444444,
              "#bd3786"
             ],
             [
              0.5555555555555556,
              "#d8576b"
             ],
             [
              0.6666666666666666,
              "#ed7953"
             ],
             [
              0.7777777777777778,
              "#fb9f3a"
             ],
             [
              0.8888888888888888,
              "#fdca26"
             ],
             [
              1,
              "#f0f921"
             ]
            ],
            "type": "contour"
           }
          ],
          "contourcarpet": [
           {
            "colorbar": {
             "outlinewidth": 0,
             "ticks": ""
            },
            "type": "contourcarpet"
           }
          ],
          "heatmap": [
           {
            "colorbar": {
             "outlinewidth": 0,
             "ticks": ""
            },
            "colorscale": [
             [
              0,
              "#0d0887"
             ],
             [
              0.1111111111111111,
              "#46039f"
             ],
             [
              0.2222222222222222,
              "#7201a8"
             ],
             [
              0.3333333333333333,
              "#9c179e"
             ],
             [
              0.4444444444444444,
              "#bd3786"
             ],
             [
              0.5555555555555556,
              "#d8576b"
             ],
             [
              0.6666666666666666,
              "#ed7953"
             ],
             [
              0.7777777777777778,
              "#fb9f3a"
             ],
             [
              0.8888888888888888,
              "#fdca26"
             ],
             [
              1,
              "#f0f921"
             ]
            ],
            "type": "heatmap"
           }
          ],
          "histogram": [
           {
            "marker": {
             "pattern": {
              "fillmode": "overlay",
              "size": 10,
              "solidity": 0.2
             }
            },
            "type": "histogram"
           }
          ],
          "histogram2d": [
           {
            "colorbar": {
             "outlinewidth": 0,
             "ticks": ""
            },
            "colorscale": [
             [
              0,
              "#0d0887"
             ],
             [
              0.1111111111111111,
              "#46039f"
             ],
             [
              0.2222222222222222,
              "#7201a8"
             ],
             [
              0.3333333333333333,
              "#9c179e"
             ],
             [
              0.4444444444444444,
              "#bd3786"
             ],
             [
              0.5555555555555556,
              "#d8576b"
             ],
             [
              0.6666666666666666,
              "#ed7953"
             ],
             [
              0.7777777777777778,
              "#fb9f3a"
             ],
             [
              0.8888888888888888,
              "#fdca26"
             ],
             [
              1,
              "#f0f921"
             ]
            ],
            "type": "histogram2d"
           }
          ],
          "histogram2dcontour": [
           {
            "colorbar": {
             "outlinewidth": 0,
             "ticks": ""
            },
            "colorscale": [
             [
              0,
              "#0d0887"
             ],
             [
              0.1111111111111111,
              "#46039f"
             ],
             [
              0.2222222222222222,
              "#7201a8"
             ],
             [
              0.3333333333333333,
              "#9c179e"
             ],
             [
              0.4444444444444444,
              "#bd3786"
             ],
             [
              0.5555555555555556,
              "#d8576b"
             ],
             [
              0.6666666666666666,
              "#ed7953"
             ],
             [
              0.7777777777777778,
              "#fb9f3a"
             ],
             [
              0.8888888888888888,
              "#fdca26"
             ],
             [
              1,
              "#f0f921"
             ]
            ],
            "type": "histogram2dcontour"
           }
          ],
          "mesh3d": [
           {
            "colorbar": {
             "outlinewidth": 0,
             "ticks": ""
            },
            "type": "mesh3d"
           }
          ],
          "parcoords": [
           {
            "line": {
             "colorbar": {
              "outlinewidth": 0,
              "ticks": ""
             }
            },
            "type": "parcoords"
           }
          ],
          "pie": [
           {
            "automargin": true,
            "type": "pie"
           }
          ],
          "scatter": [
           {
            "marker": {
             "line": {
              "color": "#283442"
             }
            },
            "type": "scatter"
           }
          ],
          "scatter3d": [
           {
            "line": {
             "colorbar": {
              "outlinewidth": 0,
              "ticks": ""
             }
            },
            "marker": {
             "colorbar": {
              "outlinewidth": 0,
              "ticks": ""
             }
            },
            "type": "scatter3d"
           }
          ],
          "scattercarpet": [
           {
            "marker": {
             "colorbar": {
              "outlinewidth": 0,
              "ticks": ""
             }
            },
            "type": "scattercarpet"
           }
          ],
          "scattergeo": [
           {
            "marker": {
             "colorbar": {
              "outlinewidth": 0,
              "ticks": ""
             }
            },
            "type": "scattergeo"
           }
          ],
          "scattergl": [
           {
            "marker": {
             "line": {
              "color": "#283442"
             }
            },
            "type": "scattergl"
           }
          ],
          "scattermap": [
           {
            "marker": {
             "colorbar": {
              "outlinewidth": 0,
              "ticks": ""
             }
            },
            "type": "scattermap"
           }
          ],
          "scattermapbox": [
           {
            "marker": {
             "colorbar": {
              "outlinewidth": 0,
              "ticks": ""
             }
            },
            "type": "scattermapbox"
           }
          ],
          "scatterpolar": [
           {
            "marker": {
             "colorbar": {
              "outlinewidth": 0,
              "ticks": ""
             }
            },
            "type": "scatterpolar"
           }
          ],
          "scatterpolargl": [
           {
            "marker": {
             "colorbar": {
              "outlinewidth": 0,
              "ticks": ""
             }
            },
            "type": "scatterpolargl"
           }
          ],
          "scatterternary": [
           {
            "marker": {
             "colorbar": {
              "outlinewidth": 0,
              "ticks": ""
             }
            },
            "type": "scatterternary"
           }
          ],
          "surface": [
           {
            "colorbar": {
             "outlinewidth": 0,
             "ticks": ""
            },
            "colorscale": [
             [
              0,
              "#0d0887"
             ],
             [
              0.1111111111111111,
              "#46039f"
             ],
             [
              0.2222222222222222,
              "#7201a8"
             ],
             [
              0.3333333333333333,
              "#9c179e"
             ],
             [
              0.4444444444444444,
              "#bd3786"
             ],
             [
              0.5555555555555556,
              "#d8576b"
             ],
             [
              0.6666666666666666,
              "#ed7953"
             ],
             [
              0.7777777777777778,
              "#fb9f3a"
             ],
             [
              0.8888888888888888,
              "#fdca26"
             ],
             [
              1,
              "#f0f921"
             ]
            ],
            "type": "surface"
           }
          ],
          "table": [
           {
            "cells": {
             "fill": {
              "color": "#506784"
             },
             "line": {
              "color": "rgb(17,17,17)"
             }
            },
            "header": {
             "fill": {
              "color": "#2a3f5f"
             },
             "line": {
              "color": "rgb(17,17,17)"
             }
            },
            "type": "table"
           }
          ]
         },
         "layout": {
          "annotationdefaults": {
           "arrowcolor": "#f2f5fa",
           "arrowhead": 0,
           "arrowwidth": 1
          },
          "autotypenumbers": "strict",
          "coloraxis": {
           "colorbar": {
            "outlinewidth": 0,
            "ticks": ""
           }
          },
          "colorscale": {
           "diverging": [
            [
             0,
             "#8e0152"
            ],
            [
             0.1,
             "#c51b7d"
            ],
            [
             0.2,
             "#de77ae"
            ],
            [
             0.3,
             "#f1b6da"
            ],
            [
             0.4,
             "#fde0ef"
            ],
            [
             0.5,
             "#f7f7f7"
            ],
            [
             0.6,
             "#e6f5d0"
            ],
            [
             0.7,
             "#b8e186"
            ],
            [
             0.8,
             "#7fbc41"
            ],
            [
             0.9,
             "#4d9221"
            ],
            [
             1,
             "#276419"
            ]
           ],
           "sequential": [
            [
             0,
             "#0d0887"
            ],
            [
             0.1111111111111111,
             "#46039f"
            ],
            [
             0.2222222222222222,
             "#7201a8"
            ],
            [
             0.3333333333333333,
             "#9c179e"
            ],
            [
             0.4444444444444444,
             "#bd3786"
            ],
            [
             0.5555555555555556,
             "#d8576b"
            ],
            [
             0.6666666666666666,
             "#ed7953"
            ],
            [
             0.7777777777777778,
             "#fb9f3a"
            ],
            [
             0.8888888888888888,
             "#fdca26"
            ],
            [
             1,
             "#f0f921"
            ]
           ],
           "sequentialminus": [
            [
             0,
             "#0d0887"
            ],
            [
             0.1111111111111111,
             "#46039f"
            ],
            [
             0.2222222222222222,
             "#7201a8"
            ],
            [
             0.3333333333333333,
             "#9c179e"
            ],
            [
             0.4444444444444444,
             "#bd3786"
            ],
            [
             0.5555555555555556,
             "#d8576b"
            ],
            [
             0.6666666666666666,
             "#ed7953"
            ],
            [
             0.7777777777777778,
             "#fb9f3a"
            ],
            [
             0.8888888888888888,
             "#fdca26"
            ],
            [
             1,
             "#f0f921"
            ]
           ]
          },
          "colorway": [
           "#636efa",
           "#EF553B",
           "#00cc96",
           "#ab63fa",
           "#FFA15A",
           "#19d3f3",
           "#FF6692",
           "#B6E880",
           "#FF97FF",
           "#FECB52"
          ],
          "font": {
           "color": "#f2f5fa"
          },
          "geo": {
           "bgcolor": "rgb(17,17,17)",
           "lakecolor": "rgb(17,17,17)",
           "landcolor": "rgb(17,17,17)",
           "showlakes": true,
           "showland": true,
           "subunitcolor": "#506784"
          },
          "hoverlabel": {
           "align": "left"
          },
          "hovermode": "closest",
          "mapbox": {
           "style": "dark"
          },
          "paper_bgcolor": "rgb(17,17,17)",
          "plot_bgcolor": "rgb(17,17,17)",
          "polar": {
           "angularaxis": {
            "gridcolor": "#506784",
            "linecolor": "#506784",
            "ticks": ""
           },
           "bgcolor": "rgb(17,17,17)",
           "radialaxis": {
            "gridcolor": "#506784",
            "linecolor": "#506784",
            "ticks": ""
           }
          },
          "scene": {
           "xaxis": {
            "backgroundcolor": "rgb(17,17,17)",
            "gridcolor": "#506784",
            "gridwidth": 2,
            "linecolor": "#506784",
            "showbackground": true,
            "ticks": "",
            "zerolinecolor": "#C8D4E3"
           },
           "yaxis": {
            "backgroundcolor": "rgb(17,17,17)",
            "gridcolor": "#506784",
            "gridwidth": 2,
            "linecolor": "#506784",
            "showbackground": true,
            "ticks": "",
            "zerolinecolor": "#C8D4E3"
           },
           "zaxis": {
            "backgroundcolor": "rgb(17,17,17)",
            "gridcolor": "#506784",
            "gridwidth": 2,
            "linecolor": "#506784",
            "showbackground": true,
            "ticks": "",
            "zerolinecolor": "#C8D4E3"
           }
          },
          "shapedefaults": {
           "line": {
            "color": "#f2f5fa"
           }
          },
          "sliderdefaults": {
           "bgcolor": "#C8D4E3",
           "bordercolor": "rgb(17,17,17)",
           "borderwidth": 1,
           "tickwidth": 0
          },
          "ternary": {
           "aaxis": {
            "gridcolor": "#506784",
            "linecolor": "#506784",
            "ticks": ""
           },
           "baxis": {
            "gridcolor": "#506784",
            "linecolor": "#506784",
            "ticks": ""
           },
           "bgcolor": "rgb(17,17,17)",
           "caxis": {
            "gridcolor": "#506784",
            "linecolor": "#506784",
            "ticks": ""
           }
          },
          "title": {
           "x": 0.05
          },
          "updatemenudefaults": {
           "bgcolor": "#506784",
           "borderwidth": 0
          },
          "xaxis": {
           "automargin": true,
           "gridcolor": "#283442",
           "linecolor": "#506784",
           "ticks": "",
           "title": {
            "standoff": 15
           },
           "zerolinecolor": "#283442",
           "zerolinewidth": 2
          },
          "yaxis": {
           "automargin": true,
           "gridcolor": "#283442",
           "linecolor": "#506784",
           "ticks": "",
           "title": {
            "standoff": 15
           },
           "zerolinecolor": "#283442",
           "zerolinewidth": 2
          }
         }
        },
        "title": {
         "text": "Soma Total de Ganhos por Título"
        },
        "xaxis": {
         "title": {
          "text": "Ticker"
         }
        },
        "yaxis": {
         "title": {
          "text": "Ganho Total (R$)"
         }
        }
       }
      }
     },
     "metadata": {},
     "output_type": "display_data"
    }
   ],
   "source": [
    "fig = go.Figure(go.Bar(\n",
    "    x=soma_total_por_titulo.index,\n",
    "    y=soma_total_por_titulo.sort_values(ascending=True).values,\n",
    "    marker_color='royalblue'\n",
    "))\n",
    "\n",
    "fig.update_layout(\n",
    "    title='Soma Total de Ganhos por Título',\n",
    "    xaxis_title='Ticker',\n",
    "    yaxis_title='Ganho Total (R$)',\n",
    "    template='plotly_dark'\n",
    ")\n",
    "\n",
    "fig.show()"
   ]
  },
  {
   "cell_type": "markdown",
   "id": "794a8ba6",
   "metadata": {},
   "source": [
    "## Análise de Desempenho por Título  \n",
    "\n",
    "O cálculo apresentado abaixo compreende:  \n",
    "1. **Somatório do capital alocado** por título  \n",
    "2. **Média de alocação** no período  \n",
    "3. **Proporção em relação ao total acumulado** (em R$)  \n",
    "\n",
    "Esta metodologia permite avaliar o **retorno percentual obtido** em relação à alocação média, fornecendo uma métrica clara de eficiência na distribuição de capital entre os diferentes ativos.  "
   ]
  },
  {
   "cell_type": "code",
   "execution_count": 464,
   "id": "8a240532",
   "metadata": {
    "vscode": {
     "languageId": "ruby"
    }
   },
   "outputs": [
    {
     "data": {
      "application/vnd.plotly.v1+json": {
       "config": {
        "plotlyServerURL": "https://plot.ly"
       },
       "data": [
        {
         "marker": {
          "color": "indianred"
         },
         "type": "bar",
         "x": [
          "tesouro_selic_2023",
          "tesouro_ipca_2019",
          "tesouro_ipca_2029",
          "tesouro_ipca_2026",
          "tesouro_selic_2025",
          "tesouro_selic_2027",
          "tesouro_selic_2029",
          "tesouro_ipca_2024",
          "tesouro_ipca_2035",
          "tesouro_ipca_2045"
         ],
         "y": {
          "bdata": "AAAAAAAAEEAAAAAAAAAYQAAAAAAAACBAAAAAAAAAIEAAAAAAAAAgQAAAAAAAACBAAAAAAAAAIED///////86QP///////ztAAAAAAAAAPEA=",
          "dtype": "f8"
         }
        }
       ],
       "layout": {
        "template": {
         "data": {
          "bar": [
           {
            "error_x": {
             "color": "#f2f5fa"
            },
            "error_y": {
             "color": "#f2f5fa"
            },
            "marker": {
             "line": {
              "color": "rgb(17,17,17)",
              "width": 0.5
             },
             "pattern": {
              "fillmode": "overlay",
              "size": 10,
              "solidity": 0.2
             }
            },
            "type": "bar"
           }
          ],
          "barpolar": [
           {
            "marker": {
             "line": {
              "color": "rgb(17,17,17)",
              "width": 0.5
             },
             "pattern": {
              "fillmode": "overlay",
              "size": 10,
              "solidity": 0.2
             }
            },
            "type": "barpolar"
           }
          ],
          "carpet": [
           {
            "aaxis": {
             "endlinecolor": "#A2B1C6",
             "gridcolor": "#506784",
             "linecolor": "#506784",
             "minorgridcolor": "#506784",
             "startlinecolor": "#A2B1C6"
            },
            "baxis": {
             "endlinecolor": "#A2B1C6",
             "gridcolor": "#506784",
             "linecolor": "#506784",
             "minorgridcolor": "#506784",
             "startlinecolor": "#A2B1C6"
            },
            "type": "carpet"
           }
          ],
          "choropleth": [
           {
            "colorbar": {
             "outlinewidth": 0,
             "ticks": ""
            },
            "type": "choropleth"
           }
          ],
          "contour": [
           {
            "colorbar": {
             "outlinewidth": 0,
             "ticks": ""
            },
            "colorscale": [
             [
              0,
              "#0d0887"
             ],
             [
              0.1111111111111111,
              "#46039f"
             ],
             [
              0.2222222222222222,
              "#7201a8"
             ],
             [
              0.3333333333333333,
              "#9c179e"
             ],
             [
              0.4444444444444444,
              "#bd3786"
             ],
             [
              0.5555555555555556,
              "#d8576b"
             ],
             [
              0.6666666666666666,
              "#ed7953"
             ],
             [
              0.7777777777777778,
              "#fb9f3a"
             ],
             [
              0.8888888888888888,
              "#fdca26"
             ],
             [
              1,
              "#f0f921"
             ]
            ],
            "type": "contour"
           }
          ],
          "contourcarpet": [
           {
            "colorbar": {
             "outlinewidth": 0,
             "ticks": ""
            },
            "type": "contourcarpet"
           }
          ],
          "heatmap": [
           {
            "colorbar": {
             "outlinewidth": 0,
             "ticks": ""
            },
            "colorscale": [
             [
              0,
              "#0d0887"
             ],
             [
              0.1111111111111111,
              "#46039f"
             ],
             [
              0.2222222222222222,
              "#7201a8"
             ],
             [
              0.3333333333333333,
              "#9c179e"
             ],
             [
              0.4444444444444444,
              "#bd3786"
             ],
             [
              0.5555555555555556,
              "#d8576b"
             ],
             [
              0.6666666666666666,
              "#ed7953"
             ],
             [
              0.7777777777777778,
              "#fb9f3a"
             ],
             [
              0.8888888888888888,
              "#fdca26"
             ],
             [
              1,
              "#f0f921"
             ]
            ],
            "type": "heatmap"
           }
          ],
          "histogram": [
           {
            "marker": {
             "pattern": {
              "fillmode": "overlay",
              "size": 10,
              "solidity": 0.2
             }
            },
            "type": "histogram"
           }
          ],
          "histogram2d": [
           {
            "colorbar": {
             "outlinewidth": 0,
             "ticks": ""
            },
            "colorscale": [
             [
              0,
              "#0d0887"
             ],
             [
              0.1111111111111111,
              "#46039f"
             ],
             [
              0.2222222222222222,
              "#7201a8"
             ],
             [
              0.3333333333333333,
              "#9c179e"
             ],
             [
              0.4444444444444444,
              "#bd3786"
             ],
             [
              0.5555555555555556,
              "#d8576b"
             ],
             [
              0.6666666666666666,
              "#ed7953"
             ],
             [
              0.7777777777777778,
              "#fb9f3a"
             ],
             [
              0.8888888888888888,
              "#fdca26"
             ],
             [
              1,
              "#f0f921"
             ]
            ],
            "type": "histogram2d"
           }
          ],
          "histogram2dcontour": [
           {
            "colorbar": {
             "outlinewidth": 0,
             "ticks": ""
            },
            "colorscale": [
             [
              0,
              "#0d0887"
             ],
             [
              0.1111111111111111,
              "#46039f"
             ],
             [
              0.2222222222222222,
              "#7201a8"
             ],
             [
              0.3333333333333333,
              "#9c179e"
             ],
             [
              0.4444444444444444,
              "#bd3786"
             ],
             [
              0.5555555555555556,
              "#d8576b"
             ],
             [
              0.6666666666666666,
              "#ed7953"
             ],
             [
              0.7777777777777778,
              "#fb9f3a"
             ],
             [
              0.8888888888888888,
              "#fdca26"
             ],
             [
              1,
              "#f0f921"
             ]
            ],
            "type": "histogram2dcontour"
           }
          ],
          "mesh3d": [
           {
            "colorbar": {
             "outlinewidth": 0,
             "ticks": ""
            },
            "type": "mesh3d"
           }
          ],
          "parcoords": [
           {
            "line": {
             "colorbar": {
              "outlinewidth": 0,
              "ticks": ""
             }
            },
            "type": "parcoords"
           }
          ],
          "pie": [
           {
            "automargin": true,
            "type": "pie"
           }
          ],
          "scatter": [
           {
            "marker": {
             "line": {
              "color": "#283442"
             }
            },
            "type": "scatter"
           }
          ],
          "scatter3d": [
           {
            "line": {
             "colorbar": {
              "outlinewidth": 0,
              "ticks": ""
             }
            },
            "marker": {
             "colorbar": {
              "outlinewidth": 0,
              "ticks": ""
             }
            },
            "type": "scatter3d"
           }
          ],
          "scattercarpet": [
           {
            "marker": {
             "colorbar": {
              "outlinewidth": 0,
              "ticks": ""
             }
            },
            "type": "scattercarpet"
           }
          ],
          "scattergeo": [
           {
            "marker": {
             "colorbar": {
              "outlinewidth": 0,
              "ticks": ""
             }
            },
            "type": "scattergeo"
           }
          ],
          "scattergl": [
           {
            "marker": {
             "line": {
              "color": "#283442"
             }
            },
            "type": "scattergl"
           }
          ],
          "scattermap": [
           {
            "marker": {
             "colorbar": {
              "outlinewidth": 0,
              "ticks": ""
             }
            },
            "type": "scattermap"
           }
          ],
          "scattermapbox": [
           {
            "marker": {
             "colorbar": {
              "outlinewidth": 0,
              "ticks": ""
             }
            },
            "type": "scattermapbox"
           }
          ],
          "scatterpolar": [
           {
            "marker": {
             "colorbar": {
              "outlinewidth": 0,
              "ticks": ""
             }
            },
            "type": "scatterpolar"
           }
          ],
          "scatterpolargl": [
           {
            "marker": {
             "colorbar": {
              "outlinewidth": 0,
              "ticks": ""
             }
            },
            "type": "scatterpolargl"
           }
          ],
          "scatterternary": [
           {
            "marker": {
             "colorbar": {
              "outlinewidth": 0,
              "ticks": ""
             }
            },
            "type": "scatterternary"
           }
          ],
          "surface": [
           {
            "colorbar": {
             "outlinewidth": 0,
             "ticks": ""
            },
            "colorscale": [
             [
              0,
              "#0d0887"
             ],
             [
              0.1111111111111111,
              "#46039f"
             ],
             [
              0.2222222222222222,
              "#7201a8"
             ],
             [
              0.3333333333333333,
              "#9c179e"
             ],
             [
              0.4444444444444444,
              "#bd3786"
             ],
             [
              0.5555555555555556,
              "#d8576b"
             ],
             [
              0.6666666666666666,
              "#ed7953"
             ],
             [
              0.7777777777777778,
              "#fb9f3a"
             ],
             [
              0.8888888888888888,
              "#fdca26"
             ],
             [
              1,
              "#f0f921"
             ]
            ],
            "type": "surface"
           }
          ],
          "table": [
           {
            "cells": {
             "fill": {
              "color": "#506784"
             },
             "line": {
              "color": "rgb(17,17,17)"
             }
            },
            "header": {
             "fill": {
              "color": "#2a3f5f"
             },
             "line": {
              "color": "rgb(17,17,17)"
             }
            },
            "type": "table"
           }
          ]
         },
         "layout": {
          "annotationdefaults": {
           "arrowcolor": "#f2f5fa",
           "arrowhead": 0,
           "arrowwidth": 1
          },
          "autotypenumbers": "strict",
          "coloraxis": {
           "colorbar": {
            "outlinewidth": 0,
            "ticks": ""
           }
          },
          "colorscale": {
           "diverging": [
            [
             0,
             "#8e0152"
            ],
            [
             0.1,
             "#c51b7d"
            ],
            [
             0.2,
             "#de77ae"
            ],
            [
             0.3,
             "#f1b6da"
            ],
            [
             0.4,
             "#fde0ef"
            ],
            [
             0.5,
             "#f7f7f7"
            ],
            [
             0.6,
             "#e6f5d0"
            ],
            [
             0.7,
             "#b8e186"
            ],
            [
             0.8,
             "#7fbc41"
            ],
            [
             0.9,
             "#4d9221"
            ],
            [
             1,
             "#276419"
            ]
           ],
           "sequential": [
            [
             0,
             "#0d0887"
            ],
            [
             0.1111111111111111,
             "#46039f"
            ],
            [
             0.2222222222222222,
             "#7201a8"
            ],
            [
             0.3333333333333333,
             "#9c179e"
            ],
            [
             0.4444444444444444,
             "#bd3786"
            ],
            [
             0.5555555555555556,
             "#d8576b"
            ],
            [
             0.6666666666666666,
             "#ed7953"
            ],
            [
             0.7777777777777778,
             "#fb9f3a"
            ],
            [
             0.8888888888888888,
             "#fdca26"
            ],
            [
             1,
             "#f0f921"
            ]
           ],
           "sequentialminus": [
            [
             0,
             "#0d0887"
            ],
            [
             0.1111111111111111,
             "#46039f"
            ],
            [
             0.2222222222222222,
             "#7201a8"
            ],
            [
             0.3333333333333333,
             "#9c179e"
            ],
            [
             0.4444444444444444,
             "#bd3786"
            ],
            [
             0.5555555555555556,
             "#d8576b"
            ],
            [
             0.6666666666666666,
             "#ed7953"
            ],
            [
             0.7777777777777778,
             "#fb9f3a"
            ],
            [
             0.8888888888888888,
             "#fdca26"
            ],
            [
             1,
             "#f0f921"
            ]
           ]
          },
          "colorway": [
           "#636efa",
           "#EF553B",
           "#00cc96",
           "#ab63fa",
           "#FFA15A",
           "#19d3f3",
           "#FF6692",
           "#B6E880",
           "#FF97FF",
           "#FECB52"
          ],
          "font": {
           "color": "#f2f5fa"
          },
          "geo": {
           "bgcolor": "rgb(17,17,17)",
           "lakecolor": "rgb(17,17,17)",
           "landcolor": "rgb(17,17,17)",
           "showlakes": true,
           "showland": true,
           "subunitcolor": "#506784"
          },
          "hoverlabel": {
           "align": "left"
          },
          "hovermode": "closest",
          "mapbox": {
           "style": "dark"
          },
          "paper_bgcolor": "rgb(17,17,17)",
          "plot_bgcolor": "rgb(17,17,17)",
          "polar": {
           "angularaxis": {
            "gridcolor": "#506784",
            "linecolor": "#506784",
            "ticks": ""
           },
           "bgcolor": "rgb(17,17,17)",
           "radialaxis": {
            "gridcolor": "#506784",
            "linecolor": "#506784",
            "ticks": ""
           }
          },
          "scene": {
           "xaxis": {
            "backgroundcolor": "rgb(17,17,17)",
            "gridcolor": "#506784",
            "gridwidth": 2,
            "linecolor": "#506784",
            "showbackground": true,
            "ticks": "",
            "zerolinecolor": "#C8D4E3"
           },
           "yaxis": {
            "backgroundcolor": "rgb(17,17,17)",
            "gridcolor": "#506784",
            "gridwidth": 2,
            "linecolor": "#506784",
            "showbackground": true,
            "ticks": "",
            "zerolinecolor": "#C8D4E3"
           },
           "zaxis": {
            "backgroundcolor": "rgb(17,17,17)",
            "gridcolor": "#506784",
            "gridwidth": 2,
            "linecolor": "#506784",
            "showbackground": true,
            "ticks": "",
            "zerolinecolor": "#C8D4E3"
           }
          },
          "shapedefaults": {
           "line": {
            "color": "#f2f5fa"
           }
          },
          "sliderdefaults": {
           "bgcolor": "#C8D4E3",
           "bordercolor": "rgb(17,17,17)",
           "borderwidth": 1,
           "tickwidth": 0
          },
          "ternary": {
           "aaxis": {
            "gridcolor": "#506784",
            "linecolor": "#506784",
            "ticks": ""
           },
           "baxis": {
            "gridcolor": "#506784",
            "linecolor": "#506784",
            "ticks": ""
           },
           "bgcolor": "rgb(17,17,17)",
           "caxis": {
            "gridcolor": "#506784",
            "linecolor": "#506784",
            "ticks": ""
           }
          },
          "title": {
           "x": 0.05
          },
          "updatemenudefaults": {
           "bgcolor": "#506784",
           "borderwidth": 0
          },
          "xaxis": {
           "automargin": true,
           "gridcolor": "#283442",
           "linecolor": "#506784",
           "ticks": "",
           "title": {
            "standoff": 15
           },
           "zerolinecolor": "#283442",
           "zerolinewidth": 2
          },
          "yaxis": {
           "automargin": true,
           "gridcolor": "#283442",
           "linecolor": "#506784",
           "ticks": "",
           "title": {
            "standoff": 15
           },
           "zerolinecolor": "#283442",
           "zerolinewidth": 2
          }
         }
        },
        "title": {
         "text": "Retorno Percentual Relativo por Título (Total Acumulado / Média Alocada)"
        },
        "xaxis": {
         "title": {
          "text": "Ticker"
         }
        },
        "yaxis": {
         "title": {
          "text": "Retorno Percentual (%)"
         }
        }
       }
      }
     },
     "metadata": {},
     "output_type": "display_data"
    }
   ],
   "source": [
    "# Calcula o valor médio alocado em cada título ao longo do tempo\n",
    "media_alocada_por_titulo = df_resultado_titulos.groupby('ticker')['ganho'].count()\n",
    "media_alocacao = df_resultado_titulos.groupby('ticker')['ganho'].sum() / media_alocada_por_titulo\n",
    "\n",
    "# Soma total de ganhos por título (já calculado anteriormente)\n",
    "total_ganho_por_titulo = df_resultado_titulos.groupby('ticker')['ganho'].sum()\n",
    "\n",
    "# Retorno percentual relativo por título\n",
    "retorno_percentual = (total_ganho_por_titulo / media_alocacao)\n",
    "\n",
    "# Organiza em ordem crescente\n",
    "retorno_percentual_ordenado = retorno_percentual.sort_values()\n",
    "\n",
    "# Gráfico de barras interativo com Plotly\n",
    "fig = go.Figure(go.Bar(\n",
    "    x=retorno_percentual_ordenado.index,\n",
    "    y=retorno_percentual_ordenado.values,\n",
    "    marker_color='indianred'\n",
    "))\n",
    "\n",
    "fig.update_layout(\n",
    "    title='Retorno Percentual Relativo por Título (Total Acumulado / Média Alocada)',\n",
    "    xaxis_title='Ticker',\n",
    "    yaxis_title='Retorno Percentual (%)',\n",
    "    template='plotly_dark'\n",
    ")\n",
    "\n",
    "fig.show()"
   ]
  },
  {
   "cell_type": "markdown",
   "id": "84c08ebe",
   "metadata": {},
   "source": [
    "<small>\n",
    "\n",
    "## Cálculo dos Benchmarks de Referência\n",
    "\n",
    "Nesta etapa, serão calculados três benchmarks que servirão como parâmetros comparativos de desempenho para a estratégia de alocação implementada. Cada benchmark representa uma classe distinta de investimentos e tem um propósito específico na avaliação da performance:\n",
    "\n",
    "### 1. **CDI (Certificado de Depósito Interbancário)**\n",
    "- **Objetivo:** Representar a taxa livre de risco da economia brasileira.\n",
    "- **Justificativa:** É amplamente utilizado como referência para investimentos conservadores e produtos de renda fixa. Serve como base mínima de retorno esperada para uma alocação prudente de capital.\n",
    "\n",
    "### 2. **Selic + IPCA**\n",
    "- **Objetivo:** Simular uma carteira passiva composta por títulos públicos que protegem contra a inflação e acompanham os juros básicos da economia.\n",
    "- **Justificativa:** Representa um investimento conservador, mas atrelado à política monetária e à preservação do poder de compra. Esse benchmark é útil para comparar o desempenho da nossa estratégia ativa frente a uma alternativa passiva com a mesma classe de ativos.\n",
    "\n",
    "### 3. **Ibovespa**\n",
    "- **Objetivo:** Representar o desempenho das ações mais negociadas na bolsa de valores brasileira.\n",
    "- **Justificativa:** Permite comparar o desempenho da estratégia com uma alternativa de renda variável, proporcionando uma visão mais ampla sobre o custo de oportunidade de investir em títulos públicos em vez de ações.\n",
    "\n",
    "Cada benchmark será calculado com base em dados históricos trimestrais e normalizado para partir do mesmo capital inicial utilizado na estratégia, a fim de garantir uma comparação justa e coerente.\n",
    "\n",
    "<small>\n"
   ]
  },
  {
   "cell_type": "code",
   "execution_count": null,
   "id": "ae9ea348",
   "metadata": {
    "vscode": {
     "languageId": "ruby"
    }
   },
   "outputs": [],
   "source": [
    "capital_inicial = 100000\n",
    "\n",
    "# Os valores estão em 50% por cento inicialmente, representando uma passividade (Altere se quiser simular novos pesos)\n",
    "peso_ipca = 0.5 \n",
    "peso_selic = 0.5\n",
    "\n",
    "def backtest_ipca_simples(df_estrategia, ganho_ipca, capital_inicial=(capital_inicial * peso_ipca)):\n",
    "    \"\"\"\n",
    "    Simula o capital acumulado investindo apenas em títulos IPCA, usando a lógica de alocação e retornos do DataFrame ganho_ipca.\n",
    "    - df_estrategia: DataFrame com colunas ['data_inicio', 'pct_ipca', 'ano']\n",
    "    - ganho_ipca: DataFrame com ['data_inicio', 'ticker', 'peso', 'retorno_acumulado_%']\n",
    "    - capital_inicial: valor inicial a ser investido\n",
    "    Retorna: DataFrame com evolução do capital apenas na classe IPCA.\n",
    "    \"\"\"\n",
    "    capital = capital_inicial\n",
    "    resultados = []\n",
    "\n",
    "    for idx, row in df_estrategia.iterrows():\n",
    "        data_inicio = row['data_inicio']\n",
    "        pct_ipca = row['pct_ipca']\n",
    "\n",
    "        # Filtra os títulos IPCA e seus pesos/retornos para o trimestre\n",
    "        filtro_ipca = ganho_ipca[ganho_ipca['data_inicio'] == data_inicio]\n",
    "        ganho_total = 0\n",
    "\n",
    "        for _, ipca_row in filtro_ipca.iterrows():\n",
    "            peso = ipca_row['peso']\n",
    "            retorno_pct = ipca_row['retorno_acumulado_%'] / 100\n",
    "            ganho = capital * pct_ipca * peso * retorno_pct\n",
    "            ganho_total += ganho\n",
    "\n",
    "        capital += ganho_total\n",
    "        resultados.append({\n",
    "            'data_inicio': data_inicio,\n",
    "            'capital_acumulado_ipca': capital\n",
    "        })\n",
    "\n",
    "    return pd.DataFrame(resultados)\n",
    "\n",
    "# Exemplo de uso:\n",
    "df_ipca_only = backtest_ipca_simples(df_estrategia, ganho_ipca)\n",
    "# display(df_ipca_only)\n",
    "\n",
    "def backtest_selic_simples(df_estrategia, ganho_selic, capital_inicial=(capital_inicial * peso_selic)):\n",
    "    \"\"\"\n",
    "    Simula o capital acumulado investindo apenas em títulos Selic, usando a lógica de alocação e retornos do DataFrame ganho_selic.\n",
    "    - df_estrategia: DataFrame com colunas ['data_inicio', 'pct_selic']\n",
    "    - ganho_selic: DataFrame com ['data_inicio', 'ticker', 'retorno_acumulado_%']\n",
    "    - capital_inicial: valor inicial a ser investido\n",
    "    Retorna: DataFrame com evolução do capital apenas na classe Selic.\n",
    "    \"\"\"\n",
    "    capital = capital_inicial\n",
    "    resultados = []\n",
    "\n",
    "    for idx, row in df_estrategia.iterrows():\n",
    "        data_inicio = row['data_inicio']\n",
    "        pct_selic = row['pct_selic']\n",
    "\n",
    "        # Filtra o título Selic mais longo disponível para o trimestre\n",
    "        filtro_selic = ganho_selic[ganho_selic['data_inicio'] == data_inicio]\n",
    "        ganho_total = 0\n",
    "\n",
    "        for _, selic_row in filtro_selic.iterrows():\n",
    "            retorno_pct = selic_row['retorno_acumulado_%'] / 100\n",
    "            ganho = capital * pct_selic * retorno_pct\n",
    "            ganho_total += ganho\n",
    "\n",
    "        capital += ganho_total\n",
    "        resultados.append({\n",
    "            'data_inicio': data_inicio,\n",
    "            'capital_acumulado_selic': capital\n",
    "        })\n",
    "\n",
    "    return pd.DataFrame(resultados)\n",
    "\n",
    "# Exemplo de uso:\n",
    "df_selic_only = backtest_selic_simples(df_estrategia, ganho_selic)\n",
    "# display(df_selic_only)"
   ]
  },
  {
   "cell_type": "code",
   "execution_count": 487,
   "id": "0422dc28",
   "metadata": {
    "vscode": {
     "languageId": "ruby"
    }
   },
   "outputs": [],
   "source": [
    "benchmark_selic_ipca = pd.concat([df_ipca_only.set_index('data_inicio'), df_selic_only.set_index('data_inicio')], axis=1).sum(axis=1)\n",
    "benchmark_selic_ipca_percentual = ((benchmark_selic_ipca / benchmark_selic_ipca.iloc[0] - 1) * 100).round(2)\n",
    "benchmark_selic_ipca_percentual = benchmark_selic_ipca_percentual.rename('selic + ipca')"
   ]
  },
  {
   "cell_type": "markdown",
   "id": "6b23c134",
   "metadata": {},
   "source": [
    "## Coleta do cdi como um benchmark"
   ]
  },
  {
   "cell_type": "code",
   "execution_count": 482,
   "id": "a15dd90e",
   "metadata": {},
   "outputs": [],
   "source": [
    "# Coleta do CDI do SGS/Bacen (código 12) de 2018-01-01 a 2024-12-31\n",
    "cdi_series = sgs.get(12, start='2018-01-01', end='2024-12-31')\n",
    "\n",
    "# Ajusta o índice para datetime e ordena\n",
    "cdi_series.index = pd.to_datetime(cdi_series.index)\n",
    "cdi_series = cdi_series.sort_index()\n",
    "\n",
    "# Calcula o retorno acumulado usando cumprod()\n",
    "# O CDI diário está em percentual ao ano, normalmente. Para efeito de exemplo, assumimos taxa diária simples.\n",
    "# Se a série for anualizada, ajuste para taxa diária conforme necessário.\n",
    "retorno_acumulado_cdi = ((1 + cdi_series / 100).cumprod() - 1) * 100\n",
    "\n",
    "retorno_acumulado_cdi = retorno_acumulado_cdi.resample('QE').mean().rename(columns={'12':'cdi'}).round(2)"
   ]
  },
  {
   "cell_type": "markdown",
   "id": "355a22f5",
   "metadata": {},
   "source": [
    "## Coleta do Indice Bovespa como Benchmark\n",
    "Requisição das cotações do banco de dados do yahoo finance"
   ]
  },
  {
   "cell_type": "code",
   "execution_count": 498,
   "id": "21bfe70f",
   "metadata": {},
   "outputs": [
    {
     "name": "stdout",
     "output_type": "stream",
     "text": [
      "📈 Coletando BOVA11.SA...\n",
      "\n",
      "📊 Fechamentos (últimos 12 meses):\n",
      "                     BOVA11.SA\n",
      "Data                          \n",
      "2025-05-23 13:00:00     134.47\n",
      "2025-05-26 13:00:00     135.01\n",
      "2025-05-27 13:00:00     136.46\n",
      "2025-05-28 13:00:00     135.71\n",
      "2025-05-29 13:00:00     135.36\n"
     ]
    }
   ],
   "source": [
    "lista_acoes = ['BOVA11']\n",
    "lista_acoes = [ticker + \".SA\" for ticker in lista_acoes]\n",
    "\n",
    "def coletar_fechamentos_12_meses(ticker):\n",
    "    fim = int(time.time())\n",
    "    inicio = fim - 365 * 86400 * 8  # últimos 12 meses\n",
    "\n",
    "    url = (\n",
    "        f\"https://query1.finance.yahoo.com/v8/finance/chart/{ticker}\"\n",
    "        f\"?interval=1d&period1={inicio}&period2={fim}&includeAdjustedClose=true\"\n",
    "    )\n",
    "\n",
    "    headers = {\"User-Agent\": \"Mozilla/5.0\"}\n",
    "    r = requests.get(url, headers=headers)\n",
    "\n",
    "    if r.status_code != 200:\n",
    "        print(f\"❌ Erro ao acessar {ticker}: {r.status_code}\")\n",
    "        return None\n",
    "\n",
    "    try:\n",
    "        data = r.json()[\"chart\"][\"result\"][0]\n",
    "        timestamps = data[\"timestamp\"]\n",
    "        closes = data[\"indicators\"][\"quote\"][0][\"close\"]\n",
    "\n",
    "        df = pd.DataFrame({\n",
    "            \"Data\": pd.to_datetime(timestamps, unit=\"s\"),\n",
    "            ticker: closes\n",
    "        }).set_index(\"Data\")\n",
    "\n",
    "        return df\n",
    "\n",
    "    except Exception as e:\n",
    "        print(f\"⚠️ Erro ao processar {ticker}: {e}\")\n",
    "        return None\n",
    "\n",
    "# ✅ Lista de tickers\n",
    "tickers = lista_acoes\n",
    "\n",
    "# 📦 Dicionário para armazenar os DataFrames\n",
    "fechamentos = []\n",
    "\n",
    "for ticker in tickers:\n",
    "    print(f\"📈 Coletando {ticker}...\")\n",
    "    df = coletar_fechamentos_12_meses(ticker)\n",
    "    if df is not None:\n",
    "        fechamentos.append(df)\n",
    "\n",
    "# 🔗 Unir tudo em um único DataFrame por data\n",
    "ibov = pd.concat(fechamentos, axis=1)\n",
    "\n",
    "# ✅ Exibir preview\n",
    "print(\"\\n📊 Fechamentos (últimos 12 meses):\")\n",
    "print(ibov.tail().round(2))"
   ]
  },
  {
   "cell_type": "code",
   "execution_count": null,
   "id": "7a773f16",
   "metadata": {},
   "outputs": [],
   "source": [
    "# Filtrando dados trimestrais\n",
    "ibov = ibov.loc['2018-01-01':'2024-12-31'].resample('QE').mean().round(2)\n",
    "ibov_percentual = ((ibov / ibov.iloc[0] -1) * 100 ).round(2)\n",
    "# Renomeando\n",
    "ibov_percentual = ibov_percentual.rename(columns={'BOVA11.SA':'Ibovespa'})"
   ]
  },
  {
   "cell_type": "markdown",
   "id": "6f03cdf4",
   "metadata": {},
   "source": [
    "# Juntando modelo e benchmarks em um único dataframe"
   ]
  },
  {
   "cell_type": "code",
   "execution_count": 505,
   "id": "e7e96d50",
   "metadata": {},
   "outputs": [],
   "source": [
    "todas_as_estratégias = pd.concat([modelo_percentual, benchmark_selic_ipca_percentual, retorno_acumulado_cdi, ibov_percentual], axis=1)"
   ]
  },
  {
   "cell_type": "code",
   "execution_count": 506,
   "id": "24c37462",
   "metadata": {},
   "outputs": [
    {
     "data": {
      "application/vnd.plotly.v1+json": {
       "config": {
        "plotlyServerURL": "https://plot.ly"
       },
       "data": [
        {
         "name": "Modelo",
         "type": "scatter",
         "x": [
          "2018-03-31T00:00:00.000000000",
          "2018-06-30T00:00:00.000000000",
          "2018-09-30T00:00:00.000000000",
          "2018-12-31T00:00:00.000000000",
          "2019-03-31T00:00:00.000000000",
          "2019-06-30T00:00:00.000000000",
          "2019-09-30T00:00:00.000000000",
          "2019-12-31T00:00:00.000000000",
          "2020-03-31T00:00:00.000000000",
          "2020-06-30T00:00:00.000000000",
          "2020-09-30T00:00:00.000000000",
          "2020-12-31T00:00:00.000000000",
          "2021-03-31T00:00:00.000000000",
          "2021-06-30T00:00:00.000000000",
          "2021-09-30T00:00:00.000000000",
          "2021-12-31T00:00:00.000000000",
          "2022-03-31T00:00:00.000000000",
          "2022-06-30T00:00:00.000000000",
          "2022-09-30T00:00:00.000000000",
          "2022-12-31T00:00:00.000000000",
          "2023-03-31T00:00:00.000000000",
          "2023-06-30T00:00:00.000000000",
          "2023-09-30T00:00:00.000000000",
          "2023-12-31T00:00:00.000000000",
          "2024-03-31T00:00:00.000000000",
          "2024-06-30T00:00:00.000000000",
          "2024-09-30T00:00:00.000000000",
          "2024-12-31T00:00:00.000000000"
         ],
         "y": {
          "bdata": "AAAAAAAAAADhehSuR+HavzMzMzMzM8O/uB6F61E4NED2KFyPwrU3QDMzMzMzk0ZAMzMzMzNTSUAfhetRuH5KQArXo3A9Cj9Aj8L1KFyvRUDD9Shcj6JFQOF6FK5H4UdAw/UoXI8iQkC4HoXrUThDQLgehetROENAXI/C9Si8Q0DhehSuRwFFQI/C9ShcD0RASOF6FK4HRkCF61G4HkVHQB+F61G4/klA9ihcj8JVU0DXo3A9CidSQLgehetR2FNAH4XrUbjeVEC4HoXrUZhTQClcj8L1uFVAhetRuB4FVkA=",
          "dtype": "f8"
         }
        },
        {
         "name": "selic + ipca",
         "type": "scatter",
         "x": [
          "2018-03-31T00:00:00.000000000",
          "2018-06-30T00:00:00.000000000",
          "2018-09-30T00:00:00.000000000",
          "2018-12-31T00:00:00.000000000",
          "2019-03-31T00:00:00.000000000",
          "2019-06-30T00:00:00.000000000",
          "2019-09-30T00:00:00.000000000",
          "2019-12-31T00:00:00.000000000",
          "2020-03-31T00:00:00.000000000",
          "2020-06-30T00:00:00.000000000",
          "2020-09-30T00:00:00.000000000",
          "2020-12-31T00:00:00.000000000",
          "2021-03-31T00:00:00.000000000",
          "2021-06-30T00:00:00.000000000",
          "2021-09-30T00:00:00.000000000",
          "2021-12-31T00:00:00.000000000",
          "2022-03-31T00:00:00.000000000",
          "2022-06-30T00:00:00.000000000",
          "2022-09-30T00:00:00.000000000",
          "2022-12-31T00:00:00.000000000",
          "2023-03-31T00:00:00.000000000",
          "2023-06-30T00:00:00.000000000",
          "2023-09-30T00:00:00.000000000",
          "2023-12-31T00:00:00.000000000",
          "2024-03-31T00:00:00.000000000",
          "2024-06-30T00:00:00.000000000",
          "2024-09-30T00:00:00.000000000",
          "2024-12-31T00:00:00.000000000"
         ],
         "y": {
          "bdata": "AAAAAAAAAACamZmZmZnJv7gehetRuK6/UrgehevRI0AfhetRuB4nQOxRuB6F6zVAhetRuB6FOEC4HoXrUXg5QGZmZmZm5i1Aj8L1KFzPNECF61G4HsU0QFK4HoXr0TZAH4XrUbheMUDhehSuR2EyQMP1KFyPQjJAcT0K16OwMkCPwvUoXM8zQB+F61G43jJAH4XrUbieNEDD9Shcj4I1QAAAAAAAwDdAKVyPwvVoQUCPwvUoXE9AQD0K16NwnUFAMzMzMzNTQkDXo3A9CjdBQDMzMzMz80JACtejcD0KQ0A=",
          "dtype": "f8"
         }
        },
        {
         "name": "cdi",
         "type": "scatter",
         "x": [
          "2018-03-31T00:00:00.000000000",
          "2018-06-30T00:00:00.000000000",
          "2018-09-30T00:00:00.000000000",
          "2018-12-31T00:00:00.000000000",
          "2019-03-31T00:00:00.000000000",
          "2019-06-30T00:00:00.000000000",
          "2019-09-30T00:00:00.000000000",
          "2019-12-31T00:00:00.000000000",
          "2020-03-31T00:00:00.000000000",
          "2020-06-30T00:00:00.000000000",
          "2020-09-30T00:00:00.000000000",
          "2020-12-31T00:00:00.000000000",
          "2021-03-31T00:00:00.000000000",
          "2021-06-30T00:00:00.000000000",
          "2021-09-30T00:00:00.000000000",
          "2021-12-31T00:00:00.000000000",
          "2022-03-31T00:00:00.000000000",
          "2022-06-30T00:00:00.000000000",
          "2022-09-30T00:00:00.000000000",
          "2022-12-31T00:00:00.000000000",
          "2023-03-31T00:00:00.000000000",
          "2023-06-30T00:00:00.000000000",
          "2023-09-30T00:00:00.000000000",
          "2023-12-31T00:00:00.000000000",
          "2024-03-31T00:00:00.000000000",
          "2024-06-30T00:00:00.000000000",
          "2024-09-30T00:00:00.000000000",
          "2024-12-31T00:00:00.000000000"
         ],
         "y": {
          "bdata": "7FG4HoXr6T8fhetRuB4DQAAAAAAAABBAhetRuB6FFkD2KFyPwvUcQD0K16NwvSFApHA9CtcjJUC4HoXrUTgoQLgehetRuCpAPQrXo3C9LECamZmZmRkuQLgehetROC9AZmZmZmYmMEBcj8L1KNwwQArXo3A9CjJAFK5H4XrUM0DsUbgehWs2QHsUrkfhujlA7FG4HoWrPUAUrkfhevRAQD0K16NwHUNAMzMzMzNTRUB7FK5H4ZpHQBSuR+F61ElAhetRuB7lS0CkcD0K1+NNQFK4HoXr8U9AXI/C9SgMUUA=",
          "dtype": "f8"
         }
        },
        {
         "name": "Ibovespa",
         "type": "scatter",
         "x": [
          "2018-03-31T00:00:00.000000000",
          "2018-06-30T00:00:00.000000000",
          "2018-09-30T00:00:00.000000000",
          "2018-12-31T00:00:00.000000000",
          "2019-03-31T00:00:00.000000000",
          "2019-06-30T00:00:00.000000000",
          "2019-09-30T00:00:00.000000000",
          "2019-12-31T00:00:00.000000000",
          "2020-03-31T00:00:00.000000000",
          "2020-06-30T00:00:00.000000000",
          "2020-09-30T00:00:00.000000000",
          "2020-12-31T00:00:00.000000000",
          "2021-03-31T00:00:00.000000000",
          "2021-06-30T00:00:00.000000000",
          "2021-09-30T00:00:00.000000000",
          "2021-12-31T00:00:00.000000000",
          "2022-03-31T00:00:00.000000000",
          "2022-06-30T00:00:00.000000000",
          "2022-09-30T00:00:00.000000000",
          "2022-12-31T00:00:00.000000000",
          "2023-03-31T00:00:00.000000000",
          "2023-06-30T00:00:00.000000000",
          "2023-09-30T00:00:00.000000000",
          "2023-12-31T00:00:00.000000000",
          "2024-03-31T00:00:00.000000000",
          "2024-06-30T00:00:00.000000000",
          "2024-09-30T00:00:00.000000000",
          "2024-12-31T00:00:00.000000000"
         ],
         "y": {
          "bdata": "AAAAAAAAAABxPQrXo3AQwJqZmZmZmR3APQrXo3A9CEBSuB6F61EsQD0K16NwvS1ACtejcD2KNkDsUbgehSs9QGZmZmZmZjdA4XoUrkfh8j9cj8L1KBw0QEjhehSuxzpA7FG4HoXLQ0Bcj8L1KLxHQGZmZmZmpkVAPQrXo3B9O0AzMzMzM7NAQMP1KFyPAj5AZmZmZmbmO0A9CtejcP1AQEjhehSuhzxAZmZmZmYGQECkcD0K1+NEQNejcD0Kd0dAexSuR+GaS0CkcD0K10NJQHsUrkfhGk1A9ihcj8JVS0A=",
          "dtype": "f8"
         }
        }
       ],
       "layout": {
        "legend": {
         "x": 0.01,
         "y": 0.99
        },
        "template": {
         "data": {
          "bar": [
           {
            "error_x": {
             "color": "#f2f5fa"
            },
            "error_y": {
             "color": "#f2f5fa"
            },
            "marker": {
             "line": {
              "color": "rgb(17,17,17)",
              "width": 0.5
             },
             "pattern": {
              "fillmode": "overlay",
              "size": 10,
              "solidity": 0.2
             }
            },
            "type": "bar"
           }
          ],
          "barpolar": [
           {
            "marker": {
             "line": {
              "color": "rgb(17,17,17)",
              "width": 0.5
             },
             "pattern": {
              "fillmode": "overlay",
              "size": 10,
              "solidity": 0.2
             }
            },
            "type": "barpolar"
           }
          ],
          "carpet": [
           {
            "aaxis": {
             "endlinecolor": "#A2B1C6",
             "gridcolor": "#506784",
             "linecolor": "#506784",
             "minorgridcolor": "#506784",
             "startlinecolor": "#A2B1C6"
            },
            "baxis": {
             "endlinecolor": "#A2B1C6",
             "gridcolor": "#506784",
             "linecolor": "#506784",
             "minorgridcolor": "#506784",
             "startlinecolor": "#A2B1C6"
            },
            "type": "carpet"
           }
          ],
          "choropleth": [
           {
            "colorbar": {
             "outlinewidth": 0,
             "ticks": ""
            },
            "type": "choropleth"
           }
          ],
          "contour": [
           {
            "colorbar": {
             "outlinewidth": 0,
             "ticks": ""
            },
            "colorscale": [
             [
              0,
              "#0d0887"
             ],
             [
              0.1111111111111111,
              "#46039f"
             ],
             [
              0.2222222222222222,
              "#7201a8"
             ],
             [
              0.3333333333333333,
              "#9c179e"
             ],
             [
              0.4444444444444444,
              "#bd3786"
             ],
             [
              0.5555555555555556,
              "#d8576b"
             ],
             [
              0.6666666666666666,
              "#ed7953"
             ],
             [
              0.7777777777777778,
              "#fb9f3a"
             ],
             [
              0.8888888888888888,
              "#fdca26"
             ],
             [
              1,
              "#f0f921"
             ]
            ],
            "type": "contour"
           }
          ],
          "contourcarpet": [
           {
            "colorbar": {
             "outlinewidth": 0,
             "ticks": ""
            },
            "type": "contourcarpet"
           }
          ],
          "heatmap": [
           {
            "colorbar": {
             "outlinewidth": 0,
             "ticks": ""
            },
            "colorscale": [
             [
              0,
              "#0d0887"
             ],
             [
              0.1111111111111111,
              "#46039f"
             ],
             [
              0.2222222222222222,
              "#7201a8"
             ],
             [
              0.3333333333333333,
              "#9c179e"
             ],
             [
              0.4444444444444444,
              "#bd3786"
             ],
             [
              0.5555555555555556,
              "#d8576b"
             ],
             [
              0.6666666666666666,
              "#ed7953"
             ],
             [
              0.7777777777777778,
              "#fb9f3a"
             ],
             [
              0.8888888888888888,
              "#fdca26"
             ],
             [
              1,
              "#f0f921"
             ]
            ],
            "type": "heatmap"
           }
          ],
          "histogram": [
           {
            "marker": {
             "pattern": {
              "fillmode": "overlay",
              "size": 10,
              "solidity": 0.2
             }
            },
            "type": "histogram"
           }
          ],
          "histogram2d": [
           {
            "colorbar": {
             "outlinewidth": 0,
             "ticks": ""
            },
            "colorscale": [
             [
              0,
              "#0d0887"
             ],
             [
              0.1111111111111111,
              "#46039f"
             ],
             [
              0.2222222222222222,
              "#7201a8"
             ],
             [
              0.3333333333333333,
              "#9c179e"
             ],
             [
              0.4444444444444444,
              "#bd3786"
             ],
             [
              0.5555555555555556,
              "#d8576b"
             ],
             [
              0.6666666666666666,
              "#ed7953"
             ],
             [
              0.7777777777777778,
              "#fb9f3a"
             ],
             [
              0.8888888888888888,
              "#fdca26"
             ],
             [
              1,
              "#f0f921"
             ]
            ],
            "type": "histogram2d"
           }
          ],
          "histogram2dcontour": [
           {
            "colorbar": {
             "outlinewidth": 0,
             "ticks": ""
            },
            "colorscale": [
             [
              0,
              "#0d0887"
             ],
             [
              0.1111111111111111,
              "#46039f"
             ],
             [
              0.2222222222222222,
              "#7201a8"
             ],
             [
              0.3333333333333333,
              "#9c179e"
             ],
             [
              0.4444444444444444,
              "#bd3786"
             ],
             [
              0.5555555555555556,
              "#d8576b"
             ],
             [
              0.6666666666666666,
              "#ed7953"
             ],
             [
              0.7777777777777778,
              "#fb9f3a"
             ],
             [
              0.8888888888888888,
              "#fdca26"
             ],
             [
              1,
              "#f0f921"
             ]
            ],
            "type": "histogram2dcontour"
           }
          ],
          "mesh3d": [
           {
            "colorbar": {
             "outlinewidth": 0,
             "ticks": ""
            },
            "type": "mesh3d"
           }
          ],
          "parcoords": [
           {
            "line": {
             "colorbar": {
              "outlinewidth": 0,
              "ticks": ""
             }
            },
            "type": "parcoords"
           }
          ],
          "pie": [
           {
            "automargin": true,
            "type": "pie"
           }
          ],
          "scatter": [
           {
            "marker": {
             "line": {
              "color": "#283442"
             }
            },
            "type": "scatter"
           }
          ],
          "scatter3d": [
           {
            "line": {
             "colorbar": {
              "outlinewidth": 0,
              "ticks": ""
             }
            },
            "marker": {
             "colorbar": {
              "outlinewidth": 0,
              "ticks": ""
             }
            },
            "type": "scatter3d"
           }
          ],
          "scattercarpet": [
           {
            "marker": {
             "colorbar": {
              "outlinewidth": 0,
              "ticks": ""
             }
            },
            "type": "scattercarpet"
           }
          ],
          "scattergeo": [
           {
            "marker": {
             "colorbar": {
              "outlinewidth": 0,
              "ticks": ""
             }
            },
            "type": "scattergeo"
           }
          ],
          "scattergl": [
           {
            "marker": {
             "line": {
              "color": "#283442"
             }
            },
            "type": "scattergl"
           }
          ],
          "scattermap": [
           {
            "marker": {
             "colorbar": {
              "outlinewidth": 0,
              "ticks": ""
             }
            },
            "type": "scattermap"
           }
          ],
          "scattermapbox": [
           {
            "marker": {
             "colorbar": {
              "outlinewidth": 0,
              "ticks": ""
             }
            },
            "type": "scattermapbox"
           }
          ],
          "scatterpolar": [
           {
            "marker": {
             "colorbar": {
              "outlinewidth": 0,
              "ticks": ""
             }
            },
            "type": "scatterpolar"
           }
          ],
          "scatterpolargl": [
           {
            "marker": {
             "colorbar": {
              "outlinewidth": 0,
              "ticks": ""
             }
            },
            "type": "scatterpolargl"
           }
          ],
          "scatterternary": [
           {
            "marker": {
             "colorbar": {
              "outlinewidth": 0,
              "ticks": ""
             }
            },
            "type": "scatterternary"
           }
          ],
          "surface": [
           {
            "colorbar": {
             "outlinewidth": 0,
             "ticks": ""
            },
            "colorscale": [
             [
              0,
              "#0d0887"
             ],
             [
              0.1111111111111111,
              "#46039f"
             ],
             [
              0.2222222222222222,
              "#7201a8"
             ],
             [
              0.3333333333333333,
              "#9c179e"
             ],
             [
              0.4444444444444444,
              "#bd3786"
             ],
             [
              0.5555555555555556,
              "#d8576b"
             ],
             [
              0.6666666666666666,
              "#ed7953"
             ],
             [
              0.7777777777777778,
              "#fb9f3a"
             ],
             [
              0.8888888888888888,
              "#fdca26"
             ],
             [
              1,
              "#f0f921"
             ]
            ],
            "type": "surface"
           }
          ],
          "table": [
           {
            "cells": {
             "fill": {
              "color": "#506784"
             },
             "line": {
              "color": "rgb(17,17,17)"
             }
            },
            "header": {
             "fill": {
              "color": "#2a3f5f"
             },
             "line": {
              "color": "rgb(17,17,17)"
             }
            },
            "type": "table"
           }
          ]
         },
         "layout": {
          "annotationdefaults": {
           "arrowcolor": "#f2f5fa",
           "arrowhead": 0,
           "arrowwidth": 1
          },
          "autotypenumbers": "strict",
          "coloraxis": {
           "colorbar": {
            "outlinewidth": 0,
            "ticks": ""
           }
          },
          "colorscale": {
           "diverging": [
            [
             0,
             "#8e0152"
            ],
            [
             0.1,
             "#c51b7d"
            ],
            [
             0.2,
             "#de77ae"
            ],
            [
             0.3,
             "#f1b6da"
            ],
            [
             0.4,
             "#fde0ef"
            ],
            [
             0.5,
             "#f7f7f7"
            ],
            [
             0.6,
             "#e6f5d0"
            ],
            [
             0.7,
             "#b8e186"
            ],
            [
             0.8,
             "#7fbc41"
            ],
            [
             0.9,
             "#4d9221"
            ],
            [
             1,
             "#276419"
            ]
           ],
           "sequential": [
            [
             0,
             "#0d0887"
            ],
            [
             0.1111111111111111,
             "#46039f"
            ],
            [
             0.2222222222222222,
             "#7201a8"
            ],
            [
             0.3333333333333333,
             "#9c179e"
            ],
            [
             0.4444444444444444,
             "#bd3786"
            ],
            [
             0.5555555555555556,
             "#d8576b"
            ],
            [
             0.6666666666666666,
             "#ed7953"
            ],
            [
             0.7777777777777778,
             "#fb9f3a"
            ],
            [
             0.8888888888888888,
             "#fdca26"
            ],
            [
             1,
             "#f0f921"
            ]
           ],
           "sequentialminus": [
            [
             0,
             "#0d0887"
            ],
            [
             0.1111111111111111,
             "#46039f"
            ],
            [
             0.2222222222222222,
             "#7201a8"
            ],
            [
             0.3333333333333333,
             "#9c179e"
            ],
            [
             0.4444444444444444,
             "#bd3786"
            ],
            [
             0.5555555555555556,
             "#d8576b"
            ],
            [
             0.6666666666666666,
             "#ed7953"
            ],
            [
             0.7777777777777778,
             "#fb9f3a"
            ],
            [
             0.8888888888888888,
             "#fdca26"
            ],
            [
             1,
             "#f0f921"
            ]
           ]
          },
          "colorway": [
           "#636efa",
           "#EF553B",
           "#00cc96",
           "#ab63fa",
           "#FFA15A",
           "#19d3f3",
           "#FF6692",
           "#B6E880",
           "#FF97FF",
           "#FECB52"
          ],
          "font": {
           "color": "#f2f5fa"
          },
          "geo": {
           "bgcolor": "rgb(17,17,17)",
           "lakecolor": "rgb(17,17,17)",
           "landcolor": "rgb(17,17,17)",
           "showlakes": true,
           "showland": true,
           "subunitcolor": "#506784"
          },
          "hoverlabel": {
           "align": "left"
          },
          "hovermode": "closest",
          "mapbox": {
           "style": "dark"
          },
          "paper_bgcolor": "rgb(17,17,17)",
          "plot_bgcolor": "rgb(17,17,17)",
          "polar": {
           "angularaxis": {
            "gridcolor": "#506784",
            "linecolor": "#506784",
            "ticks": ""
           },
           "bgcolor": "rgb(17,17,17)",
           "radialaxis": {
            "gridcolor": "#506784",
            "linecolor": "#506784",
            "ticks": ""
           }
          },
          "scene": {
           "xaxis": {
            "backgroundcolor": "rgb(17,17,17)",
            "gridcolor": "#506784",
            "gridwidth": 2,
            "linecolor": "#506784",
            "showbackground": true,
            "ticks": "",
            "zerolinecolor": "#C8D4E3"
           },
           "yaxis": {
            "backgroundcolor": "rgb(17,17,17)",
            "gridcolor": "#506784",
            "gridwidth": 2,
            "linecolor": "#506784",
            "showbackground": true,
            "ticks": "",
            "zerolinecolor": "#C8D4E3"
           },
           "zaxis": {
            "backgroundcolor": "rgb(17,17,17)",
            "gridcolor": "#506784",
            "gridwidth": 2,
            "linecolor": "#506784",
            "showbackground": true,
            "ticks": "",
            "zerolinecolor": "#C8D4E3"
           }
          },
          "shapedefaults": {
           "line": {
            "color": "#f2f5fa"
           }
          },
          "sliderdefaults": {
           "bgcolor": "#C8D4E3",
           "bordercolor": "rgb(17,17,17)",
           "borderwidth": 1,
           "tickwidth": 0
          },
          "ternary": {
           "aaxis": {
            "gridcolor": "#506784",
            "linecolor": "#506784",
            "ticks": ""
           },
           "baxis": {
            "gridcolor": "#506784",
            "linecolor": "#506784",
            "ticks": ""
           },
           "bgcolor": "rgb(17,17,17)",
           "caxis": {
            "gridcolor": "#506784",
            "linecolor": "#506784",
            "ticks": ""
           }
          },
          "title": {
           "x": 0.05
          },
          "updatemenudefaults": {
           "bgcolor": "#506784",
           "borderwidth": 0
          },
          "xaxis": {
           "automargin": true,
           "gridcolor": "#283442",
           "linecolor": "#506784",
           "ticks": "",
           "title": {
            "standoff": 15
           },
           "zerolinecolor": "#283442",
           "zerolinewidth": 2
          },
          "yaxis": {
           "automargin": true,
           "gridcolor": "#283442",
           "linecolor": "#506784",
           "ticks": "",
           "title": {
            "standoff": 15
           },
           "zerolinecolor": "#283442",
           "zerolinewidth": 2
          }
         }
        },
        "title": {
         "text": "Comparativo de Estratégias e Benchmarks"
        },
        "xaxis": {
         "title": {
          "text": "Data"
         }
        },
        "yaxis": {
         "title": {
          "text": "Retorno (%)"
         }
        }
       }
      }
     },
     "metadata": {},
     "output_type": "display_data"
    }
   ],
   "source": [
    "import plotly.graph_objects as go\n",
    "\n",
    "fig = go.Figure()\n",
    "\n",
    "# Adiciona cada coluna como uma linha no gráfico\n",
    "for col in todas_as_estratégias.columns:\n",
    "    fig.add_trace(go.Scatter(\n",
    "        x=todas_as_estratégias.index,\n",
    "        y=todas_as_estratégias[col],\n",
    "        name=col\n",
    "    ))\n",
    "\n",
    "fig.update_layout(\n",
    "    title='Comparativo de Estratégias e Benchmarks',\n",
    "    xaxis_title='Data',\n",
    "    yaxis_title='Retorno (%)',\n",
    "    template='plotly_dark',\n",
    "    legend=dict(x=0.01, y=0.99)\n",
    ")\n",
    "\n",
    "fig.show()"
   ]
  },
  {
   "cell_type": "markdown",
   "id": "e16bebed",
   "metadata": {},
   "source": [
    "<small>\n",
    "\n",
    "## Análise de Performance: Estratégia de IA vs. Benchmarks\n",
    "\n",
    "A imagem apresentada mostra o desempenho acumulado, em percentual, de uma estratégia de alocação baseada em aprendizado de máquina (Gradient Boosting) comparada a dois benchmarks de referência: **Selic + IPCA** e **CDI**. A análise compreende o período entre 2018 e 2024, com retornos calculados de forma **trimestral**.\n",
    "\n",
    "### Estratégia (Modelo)\n",
    "A linha azul representa a estratégia de IA. O modelo prevê, a cada trimestre, a probabilidade de **alta ou baixa no IPCA**. Com base nessas previsões, o capital é alocado de forma estratégica entre títulos públicos atrelados ao IPCA com **diferentes vencimentos (curto, médio ou longo prazo)**. O objetivo é especular com base na **marcação a mercado** desses títulos, buscando retornos acima da média por meio de alocações dinâmicas.\n",
    "\n",
    "### Benchmark 1: Selic + IPCA (Vermelho)\n",
    "Esse benchmark simula uma **estratégia passiva** de alocação balanceada entre títulos indexados à **Selic e ao IPCA**, representando uma carteira pública conservadora voltada à preservação de valor e renda. Ele reflete a média de retorno que se esperaria de uma aplicação em títulos públicos sem gestão ativa.\n",
    "\n",
    "### Benchmark 2: CDI (Verde)\n",
    "Representa a **taxa livre de risco**, utilizada como piso para investimentos de renda fixa no Brasil. O CDI é comumente utilizado como comparativo para fundos conservadores e aplicações bancárias.\n",
    "\n",
    "### Resultados e Conclusão\n",
    "A imagem evidencia que a **estratégia de IA superou consistentemente os dois benchmarks** ao longo do tempo, com destaque para:\n",
    "- **Resiliência durante períodos de baixa**, onde o modelo se ajustou melhor que a alocação passiva.\n",
    "- **Maior retorno acumulado** ao final do período (superior a 80%), frente aos aproximadamente 70% da carteira Selic + IPCA e 60% do CDI.\n",
    "\n",
    "Essa performance reforça a **eficácia da abordagem preditiva** com uso de Gradient Boosting na **alocação ativa de capital**, demonstrando o valor agregado por decisões baseadas em inteligência artificial no mercado de renda fixa pública brasileira.\n",
    "\n",
    "<small>"
   ]
  },
  {
   "cell_type": "code",
   "execution_count": 527,
   "id": "fe8ade0a",
   "metadata": {},
   "outputs": [
    {
     "name": "stderr",
     "output_type": "stream",
     "text": [
      "C:\\Users\\William Brandão\\AppData\\Local\\Temp\\ipykernel_7156\\348592002.py:7: FutureWarning:\n",
      "\n",
      "Series.fillna with 'method' is deprecated and will raise in a future version. Use obj.ffill() or obj.bfill() instead.\n",
      "\n"
     ]
    },
    {
     "data": {
      "application/vnd.plotly.v1+json": {
       "config": {
        "plotlyServerURL": "https://plot.ly"
       },
       "data": [
        {
         "mode": "lines",
         "name": "Modelo",
         "type": "scatter",
         "x": [
          "2018-03-31T00:00:00.000000000",
          "2018-06-30T00:00:00.000000000",
          "2018-09-30T00:00:00.000000000",
          "2018-12-31T00:00:00.000000000",
          "2019-03-31T00:00:00.000000000",
          "2019-06-30T00:00:00.000000000",
          "2019-09-30T00:00:00.000000000",
          "2019-12-31T00:00:00.000000000",
          "2020-03-31T00:00:00.000000000",
          "2020-06-30T00:00:00.000000000",
          "2020-09-30T00:00:00.000000000",
          "2020-12-31T00:00:00.000000000",
          "2021-03-31T00:00:00.000000000",
          "2021-06-30T00:00:00.000000000",
          "2021-09-30T00:00:00.000000000",
          "2021-12-31T00:00:00.000000000",
          "2022-03-31T00:00:00.000000000",
          "2022-06-30T00:00:00.000000000",
          "2022-09-30T00:00:00.000000000",
          "2022-12-31T00:00:00.000000000",
          "2023-03-31T00:00:00.000000000",
          "2023-06-30T00:00:00.000000000",
          "2023-09-30T00:00:00.000000000",
          "2023-12-31T00:00:00.000000000",
          "2024-03-31T00:00:00.000000000",
          "2024-06-30T00:00:00.000000000",
          "2024-09-30T00:00:00.000000000",
          "2024-12-31T00:00:00.000000000"
         ],
         "y": {
          "bdata": "AAAAAAAA+P8AAAAAAADw/wAAAAAAAPD/AAAAAAAAAAAAAAAAAAAAAAAAAAAAAAAAAAAAAAAAAAAAAAAAAAAAACMaEeohtkTAa7XXtYQnMsA6tqxT1FcywB+JbrBUvSPAtu/qe5mNP8CB9480QHU7wIH3jzRAdTvAcdVKwaWDOcDJ845LjLg0wBtQYj+gSTjA8GIAKCzaMMD1aVWIHlgowGeDIKXCMf6/AAAAAAAAAAAFmJjtoXYYwAAAAAAAAAAAAAAAAAAAAACWEaei3m8YwAAAAAAAAAAAAAAAAAAAAAA=",
          "dtype": "f8"
         }
        },
        {
         "mode": "lines",
         "name": "selic + ipca",
         "type": "scatter",
         "x": [
          "2018-03-31T00:00:00.000000000",
          "2018-06-30T00:00:00.000000000",
          "2018-09-30T00:00:00.000000000",
          "2018-12-31T00:00:00.000000000",
          "2019-03-31T00:00:00.000000000",
          "2019-06-30T00:00:00.000000000",
          "2019-09-30T00:00:00.000000000",
          "2019-12-31T00:00:00.000000000",
          "2020-03-31T00:00:00.000000000",
          "2020-06-30T00:00:00.000000000",
          "2020-09-30T00:00:00.000000000",
          "2020-12-31T00:00:00.000000000",
          "2021-03-31T00:00:00.000000000",
          "2021-06-30T00:00:00.000000000",
          "2021-09-30T00:00:00.000000000",
          "2021-12-31T00:00:00.000000000",
          "2022-03-31T00:00:00.000000000",
          "2022-06-30T00:00:00.000000000",
          "2022-09-30T00:00:00.000000000",
          "2022-12-31T00:00:00.000000000",
          "2023-03-31T00:00:00.000000000",
          "2023-06-30T00:00:00.000000000",
          "2023-09-30T00:00:00.000000000",
          "2023-12-31T00:00:00.000000000",
          "2024-03-31T00:00:00.000000000",
          "2024-06-30T00:00:00.000000000",
          "2024-09-30T00:00:00.000000000",
          "2024-12-31T00:00:00.000000000"
         ],
         "y": {
          "bdata": "AAAAAAAA+P8AAAAAAADw/wAAAAAAAPD/AAAAAAAAAAAAAAAAAAAAAAAAAAAAAAAAAAAAAAAAAAAAAAAAAAAAAHyaxebYpkTA4ayY68hLMsCVmoov/XMywC6ItyoNzyTArofevlfNP8CW1UELMNY7wLGeF9fMTjzAWOOu/JqeOsCP4ziO4zg2wKs17sqv6TnA+9VVLsEKM8D92R2NbBgvwJu1i6YdAxvAAAAAAAAAAADLOHZM2EUZwAAAAAAAAAAAAAAAAAAAAAAkRYKHrDoYwAAAAAAAAAAAAAAAAAAAAAA=",
          "dtype": "f8"
         }
        },
        {
         "mode": "lines",
         "name": "cdi",
         "type": "scatter",
         "x": [
          "2018-03-31T00:00:00.000000000",
          "2018-06-30T00:00:00.000000000",
          "2018-09-30T00:00:00.000000000",
          "2018-12-31T00:00:00.000000000",
          "2019-03-31T00:00:00.000000000",
          "2019-06-30T00:00:00.000000000",
          "2019-09-30T00:00:00.000000000",
          "2019-12-31T00:00:00.000000000",
          "2020-03-31T00:00:00.000000000",
          "2020-06-30T00:00:00.000000000",
          "2020-09-30T00:00:00.000000000",
          "2020-12-31T00:00:00.000000000",
          "2021-03-31T00:00:00.000000000",
          "2021-06-30T00:00:00.000000000",
          "2021-09-30T00:00:00.000000000",
          "2021-12-31T00:00:00.000000000",
          "2022-03-31T00:00:00.000000000",
          "2022-06-30T00:00:00.000000000",
          "2022-09-30T00:00:00.000000000",
          "2022-12-31T00:00:00.000000000",
          "2023-03-31T00:00:00.000000000",
          "2023-06-30T00:00:00.000000000",
          "2023-09-30T00:00:00.000000000",
          "2023-12-31T00:00:00.000000000",
          "2024-03-31T00:00:00.000000000",
          "2024-06-30T00:00:00.000000000",
          "2024-09-30T00:00:00.000000000",
          "2024-12-31T00:00:00.000000000"
         ],
         "y": {
          "bdata": "AAAAAAAAAAAAAAAAAAAAAAAAAAAAAAAAAAAAAAAAAAAAAAAAAAAAAAAAAAAAAAAAAAAAAAAAAAAAAAAAAAAAAAAAAAAAAAAAAAAAAAAAAAAAAAAAAAAAAAAAAAAAAAAAAAAAAAAAAAAAAAAAAAAAAAAAAAAAAAAAAAAAAAAAAAAAAAAAAAAAAAAAAAAAAAAAAAAAAAAAAAAAAAAAAAAAAAAAAAAAAAAAAAAAAAAAAAAAAAAAAAAAAAAAAAAAAAAAAAAAAAAAAAAAAAAAAAAAAAAAAAAAAAAAAAAAAAAAAAA=",
          "dtype": "f8"
         }
        },
        {
         "mode": "lines",
         "name": "Ibovespa",
         "type": "scatter",
         "x": [
          "2018-03-31T00:00:00.000000000",
          "2018-06-30T00:00:00.000000000",
          "2018-09-30T00:00:00.000000000",
          "2018-12-31T00:00:00.000000000",
          "2019-03-31T00:00:00.000000000",
          "2019-06-30T00:00:00.000000000",
          "2019-09-30T00:00:00.000000000",
          "2019-12-31T00:00:00.000000000",
          "2020-03-31T00:00:00.000000000",
          "2020-06-30T00:00:00.000000000",
          "2020-09-30T00:00:00.000000000",
          "2020-12-31T00:00:00.000000000",
          "2021-03-31T00:00:00.000000000",
          "2021-06-30T00:00:00.000000000",
          "2021-09-30T00:00:00.000000000",
          "2021-12-31T00:00:00.000000000",
          "2022-03-31T00:00:00.000000000",
          "2022-06-30T00:00:00.000000000",
          "2022-09-30T00:00:00.000000000",
          "2022-12-31T00:00:00.000000000",
          "2023-03-31T00:00:00.000000000",
          "2023-06-30T00:00:00.000000000",
          "2023-09-30T00:00:00.000000000",
          "2023-12-31T00:00:00.000000000",
          "2024-03-31T00:00:00.000000000",
          "2024-06-30T00:00:00.000000000",
          "2024-09-30T00:00:00.000000000",
          "2024-12-31T00:00:00.000000000"
         ],
         "y": {
          "bdata": "AAAAAAAA+P8AAAAAAADw/wAAAAAAAPD/AAAAAAAAAAAAAAAAAAAAAAAAAAAAAAAAAAAAAAAAAAAAAAAAAAAAAB7cJCzVxzPAjeZ5lxr9V8BQCd7GLg8/wN4I/67+YiDAAAAAAAAAAAAAAAAAAAAAAH4Y7mOpkSHAnqUjoXwLRcAJWzghyKM9wA/mwub7Y0LAEm71y+6cRMAOD9um/mo8wC0+XZ0O80PAtbi9Buk9QMAF/3XcGPknwDSP4LRyM/K/AAAAAAAAAACYGVhUFfQgwAAAAAAAAAAApKtVNGJTGMA=",
          "dtype": "f8"
         }
        }
       ],
       "layout": {
        "legend": {
         "x": 0.01,
         "y": 0.99
        },
        "template": {
         "data": {
          "bar": [
           {
            "error_x": {
             "color": "#f2f5fa"
            },
            "error_y": {
             "color": "#f2f5fa"
            },
            "marker": {
             "line": {
              "color": "rgb(17,17,17)",
              "width": 0.5
             },
             "pattern": {
              "fillmode": "overlay",
              "size": 10,
              "solidity": 0.2
             }
            },
            "type": "bar"
           }
          ],
          "barpolar": [
           {
            "marker": {
             "line": {
              "color": "rgb(17,17,17)",
              "width": 0.5
             },
             "pattern": {
              "fillmode": "overlay",
              "size": 10,
              "solidity": 0.2
             }
            },
            "type": "barpolar"
           }
          ],
          "carpet": [
           {
            "aaxis": {
             "endlinecolor": "#A2B1C6",
             "gridcolor": "#506784",
             "linecolor": "#506784",
             "minorgridcolor": "#506784",
             "startlinecolor": "#A2B1C6"
            },
            "baxis": {
             "endlinecolor": "#A2B1C6",
             "gridcolor": "#506784",
             "linecolor": "#506784",
             "minorgridcolor": "#506784",
             "startlinecolor": "#A2B1C6"
            },
            "type": "carpet"
           }
          ],
          "choropleth": [
           {
            "colorbar": {
             "outlinewidth": 0,
             "ticks": ""
            },
            "type": "choropleth"
           }
          ],
          "contour": [
           {
            "colorbar": {
             "outlinewidth": 0,
             "ticks": ""
            },
            "colorscale": [
             [
              0,
              "#0d0887"
             ],
             [
              0.1111111111111111,
              "#46039f"
             ],
             [
              0.2222222222222222,
              "#7201a8"
             ],
             [
              0.3333333333333333,
              "#9c179e"
             ],
             [
              0.4444444444444444,
              "#bd3786"
             ],
             [
              0.5555555555555556,
              "#d8576b"
             ],
             [
              0.6666666666666666,
              "#ed7953"
             ],
             [
              0.7777777777777778,
              "#fb9f3a"
             ],
             [
              0.8888888888888888,
              "#fdca26"
             ],
             [
              1,
              "#f0f921"
             ]
            ],
            "type": "contour"
           }
          ],
          "contourcarpet": [
           {
            "colorbar": {
             "outlinewidth": 0,
             "ticks": ""
            },
            "type": "contourcarpet"
           }
          ],
          "heatmap": [
           {
            "colorbar": {
             "outlinewidth": 0,
             "ticks": ""
            },
            "colorscale": [
             [
              0,
              "#0d0887"
             ],
             [
              0.1111111111111111,
              "#46039f"
             ],
             [
              0.2222222222222222,
              "#7201a8"
             ],
             [
              0.3333333333333333,
              "#9c179e"
             ],
             [
              0.4444444444444444,
              "#bd3786"
             ],
             [
              0.5555555555555556,
              "#d8576b"
             ],
             [
              0.6666666666666666,
              "#ed7953"
             ],
             [
              0.7777777777777778,
              "#fb9f3a"
             ],
             [
              0.8888888888888888,
              "#fdca26"
             ],
             [
              1,
              "#f0f921"
             ]
            ],
            "type": "heatmap"
           }
          ],
          "histogram": [
           {
            "marker": {
             "pattern": {
              "fillmode": "overlay",
              "size": 10,
              "solidity": 0.2
             }
            },
            "type": "histogram"
           }
          ],
          "histogram2d": [
           {
            "colorbar": {
             "outlinewidth": 0,
             "ticks": ""
            },
            "colorscale": [
             [
              0,
              "#0d0887"
             ],
             [
              0.1111111111111111,
              "#46039f"
             ],
             [
              0.2222222222222222,
              "#7201a8"
             ],
             [
              0.3333333333333333,
              "#9c179e"
             ],
             [
              0.4444444444444444,
              "#bd3786"
             ],
             [
              0.5555555555555556,
              "#d8576b"
             ],
             [
              0.6666666666666666,
              "#ed7953"
             ],
             [
              0.7777777777777778,
              "#fb9f3a"
             ],
             [
              0.8888888888888888,
              "#fdca26"
             ],
             [
              1,
              "#f0f921"
             ]
            ],
            "type": "histogram2d"
           }
          ],
          "histogram2dcontour": [
           {
            "colorbar": {
             "outlinewidth": 0,
             "ticks": ""
            },
            "colorscale": [
             [
              0,
              "#0d0887"
             ],
             [
              0.1111111111111111,
              "#46039f"
             ],
             [
              0.2222222222222222,
              "#7201a8"
             ],
             [
              0.3333333333333333,
              "#9c179e"
             ],
             [
              0.4444444444444444,
              "#bd3786"
             ],
             [
              0.5555555555555556,
              "#d8576b"
             ],
             [
              0.6666666666666666,
              "#ed7953"
             ],
             [
              0.7777777777777778,
              "#fb9f3a"
             ],
             [
              0.8888888888888888,
              "#fdca26"
             ],
             [
              1,
              "#f0f921"
             ]
            ],
            "type": "histogram2dcontour"
           }
          ],
          "mesh3d": [
           {
            "colorbar": {
             "outlinewidth": 0,
             "ticks": ""
            },
            "type": "mesh3d"
           }
          ],
          "parcoords": [
           {
            "line": {
             "colorbar": {
              "outlinewidth": 0,
              "ticks": ""
             }
            },
            "type": "parcoords"
           }
          ],
          "pie": [
           {
            "automargin": true,
            "type": "pie"
           }
          ],
          "scatter": [
           {
            "marker": {
             "line": {
              "color": "#283442"
             }
            },
            "type": "scatter"
           }
          ],
          "scatter3d": [
           {
            "line": {
             "colorbar": {
              "outlinewidth": 0,
              "ticks": ""
             }
            },
            "marker": {
             "colorbar": {
              "outlinewidth": 0,
              "ticks": ""
             }
            },
            "type": "scatter3d"
           }
          ],
          "scattercarpet": [
           {
            "marker": {
             "colorbar": {
              "outlinewidth": 0,
              "ticks": ""
             }
            },
            "type": "scattercarpet"
           }
          ],
          "scattergeo": [
           {
            "marker": {
             "colorbar": {
              "outlinewidth": 0,
              "ticks": ""
             }
            },
            "type": "scattergeo"
           }
          ],
          "scattergl": [
           {
            "marker": {
             "line": {
              "color": "#283442"
             }
            },
            "type": "scattergl"
           }
          ],
          "scattermap": [
           {
            "marker": {
             "colorbar": {
              "outlinewidth": 0,
              "ticks": ""
             }
            },
            "type": "scattermap"
           }
          ],
          "scattermapbox": [
           {
            "marker": {
             "colorbar": {
              "outlinewidth": 0,
              "ticks": ""
             }
            },
            "type": "scattermapbox"
           }
          ],
          "scatterpolar": [
           {
            "marker": {
             "colorbar": {
              "outlinewidth": 0,
              "ticks": ""
             }
            },
            "type": "scatterpolar"
           }
          ],
          "scatterpolargl": [
           {
            "marker": {
             "colorbar": {
              "outlinewidth": 0,
              "ticks": ""
             }
            },
            "type": "scatterpolargl"
           }
          ],
          "scatterternary": [
           {
            "marker": {
             "colorbar": {
              "outlinewidth": 0,
              "ticks": ""
             }
            },
            "type": "scatterternary"
           }
          ],
          "surface": [
           {
            "colorbar": {
             "outlinewidth": 0,
             "ticks": ""
            },
            "colorscale": [
             [
              0,
              "#0d0887"
             ],
             [
              0.1111111111111111,
              "#46039f"
             ],
             [
              0.2222222222222222,
              "#7201a8"
             ],
             [
              0.3333333333333333,
              "#9c179e"
             ],
             [
              0.4444444444444444,
              "#bd3786"
             ],
             [
              0.5555555555555556,
              "#d8576b"
             ],
             [
              0.6666666666666666,
              "#ed7953"
             ],
             [
              0.7777777777777778,
              "#fb9f3a"
             ],
             [
              0.8888888888888888,
              "#fdca26"
             ],
             [
              1,
              "#f0f921"
             ]
            ],
            "type": "surface"
           }
          ],
          "table": [
           {
            "cells": {
             "fill": {
              "color": "#506784"
             },
             "line": {
              "color": "rgb(17,17,17)"
             }
            },
            "header": {
             "fill": {
              "color": "#2a3f5f"
             },
             "line": {
              "color": "rgb(17,17,17)"
             }
            },
            "type": "table"
           }
          ]
         },
         "layout": {
          "annotationdefaults": {
           "arrowcolor": "#f2f5fa",
           "arrowhead": 0,
           "arrowwidth": 1
          },
          "autotypenumbers": "strict",
          "coloraxis": {
           "colorbar": {
            "outlinewidth": 0,
            "ticks": ""
           }
          },
          "colorscale": {
           "diverging": [
            [
             0,
             "#8e0152"
            ],
            [
             0.1,
             "#c51b7d"
            ],
            [
             0.2,
             "#de77ae"
            ],
            [
             0.3,
             "#f1b6da"
            ],
            [
             0.4,
             "#fde0ef"
            ],
            [
             0.5,
             "#f7f7f7"
            ],
            [
             0.6,
             "#e6f5d0"
            ],
            [
             0.7,
             "#b8e186"
            ],
            [
             0.8,
             "#7fbc41"
            ],
            [
             0.9,
             "#4d9221"
            ],
            [
             1,
             "#276419"
            ]
           ],
           "sequential": [
            [
             0,
             "#0d0887"
            ],
            [
             0.1111111111111111,
             "#46039f"
            ],
            [
             0.2222222222222222,
             "#7201a8"
            ],
            [
             0.3333333333333333,
             "#9c179e"
            ],
            [
             0.4444444444444444,
             "#bd3786"
            ],
            [
             0.5555555555555556,
             "#d8576b"
            ],
            [
             0.6666666666666666,
             "#ed7953"
            ],
            [
             0.7777777777777778,
             "#fb9f3a"
            ],
            [
             0.8888888888888888,
             "#fdca26"
            ],
            [
             1,
             "#f0f921"
            ]
           ],
           "sequentialminus": [
            [
             0,
             "#0d0887"
            ],
            [
             0.1111111111111111,
             "#46039f"
            ],
            [
             0.2222222222222222,
             "#7201a8"
            ],
            [
             0.3333333333333333,
             "#9c179e"
            ],
            [
             0.4444444444444444,
             "#bd3786"
            ],
            [
             0.5555555555555556,
             "#d8576b"
            ],
            [
             0.6666666666666666,
             "#ed7953"
            ],
            [
             0.7777777777777778,
             "#fb9f3a"
            ],
            [
             0.8888888888888888,
             "#fdca26"
            ],
            [
             1,
             "#f0f921"
            ]
           ]
          },
          "colorway": [
           "#636efa",
           "#EF553B",
           "#00cc96",
           "#ab63fa",
           "#FFA15A",
           "#19d3f3",
           "#FF6692",
           "#B6E880",
           "#FF97FF",
           "#FECB52"
          ],
          "font": {
           "color": "#f2f5fa"
          },
          "geo": {
           "bgcolor": "rgb(17,17,17)",
           "lakecolor": "rgb(17,17,17)",
           "landcolor": "rgb(17,17,17)",
           "showlakes": true,
           "showland": true,
           "subunitcolor": "#506784"
          },
          "hoverlabel": {
           "align": "left"
          },
          "hovermode": "closest",
          "mapbox": {
           "style": "dark"
          },
          "paper_bgcolor": "rgb(17,17,17)",
          "plot_bgcolor": "rgb(17,17,17)",
          "polar": {
           "angularaxis": {
            "gridcolor": "#506784",
            "linecolor": "#506784",
            "ticks": ""
           },
           "bgcolor": "rgb(17,17,17)",
           "radialaxis": {
            "gridcolor": "#506784",
            "linecolor": "#506784",
            "ticks": ""
           }
          },
          "scene": {
           "xaxis": {
            "backgroundcolor": "rgb(17,17,17)",
            "gridcolor": "#506784",
            "gridwidth": 2,
            "linecolor": "#506784",
            "showbackground": true,
            "ticks": "",
            "zerolinecolor": "#C8D4E3"
           },
           "yaxis": {
            "backgroundcolor": "rgb(17,17,17)",
            "gridcolor": "#506784",
            "gridwidth": 2,
            "linecolor": "#506784",
            "showbackground": true,
            "ticks": "",
            "zerolinecolor": "#C8D4E3"
           },
           "zaxis": {
            "backgroundcolor": "rgb(17,17,17)",
            "gridcolor": "#506784",
            "gridwidth": 2,
            "linecolor": "#506784",
            "showbackground": true,
            "ticks": "",
            "zerolinecolor": "#C8D4E3"
           }
          },
          "shapedefaults": {
           "line": {
            "color": "#f2f5fa"
           }
          },
          "sliderdefaults": {
           "bgcolor": "#C8D4E3",
           "bordercolor": "rgb(17,17,17)",
           "borderwidth": 1,
           "tickwidth": 0
          },
          "ternary": {
           "aaxis": {
            "gridcolor": "#506784",
            "linecolor": "#506784",
            "ticks": ""
           },
           "baxis": {
            "gridcolor": "#506784",
            "linecolor": "#506784",
            "ticks": ""
           },
           "bgcolor": "rgb(17,17,17)",
           "caxis": {
            "gridcolor": "#506784",
            "linecolor": "#506784",
            "ticks": ""
           }
          },
          "title": {
           "x": 0.05
          },
          "updatemenudefaults": {
           "bgcolor": "#506784",
           "borderwidth": 0
          },
          "xaxis": {
           "automargin": true,
           "gridcolor": "#283442",
           "linecolor": "#506784",
           "ticks": "",
           "title": {
            "standoff": 15
           },
           "zerolinecolor": "#283442",
           "zerolinewidth": 2
          },
          "yaxis": {
           "automargin": true,
           "gridcolor": "#283442",
           "linecolor": "#506784",
           "ticks": "",
           "title": {
            "standoff": 15
           },
           "zerolinecolor": "#283442",
           "zerolinewidth": 2
          }
         }
        },
        "title": {
         "text": "Drawdown (%) das Estratégias e Benchmarks"
        },
        "xaxis": {
         "title": {
          "text": "Data"
         }
        },
        "yaxis": {
         "title": {
          "text": "Drawdown (%)"
         }
        }
       }
      }
     },
     "metadata": {},
     "output_type": "display_data"
    },
    {
     "data": {
      "application/vnd.plotly.v1+json": {
       "config": {
        "plotlyServerURL": "https://plot.ly"
       },
       "data": [
        {
         "name": "Modelo",
         "type": "bar",
         "x": {
          "bdata": "4gcAAOMHAADkBwAA5QcAAOYHAADnBwAA6AcAAA==",
          "dtype": "i4"
         },
         "y": {
          "bdata": "uB6F61E4NEAfhetRuH5KQOF6FK5H4UdAXI/C9Si8Q0CF61G4HkVHQLgehetR2FNAhetRuB4FVkA=",
          "dtype": "f8"
         }
        },
        {
         "name": "selic + ipca",
         "type": "bar",
         "x": {
          "bdata": "4gcAAOMHAADkBwAA5QcAAOYHAADnBwAA6AcAAA==",
          "dtype": "i4"
         },
         "y": {
          "bdata": "UrgehevRI0C4HoXrUXg5QFK4HoXr0TZAcT0K16OwMkDD9Shcj4I1QD0K16NwnUFACtejcD0KQ0A=",
          "dtype": "f8"
         }
        },
        {
         "name": "cdi",
         "type": "bar",
         "x": {
          "bdata": "4gcAAOMHAADkBwAA5QcAAOYHAADnBwAA6AcAAA==",
          "dtype": "i4"
         },
         "y": {
          "bdata": "hetRuB6FFkC4HoXrUTgoQLgehetROC9AFK5H4XrUM0AUrkfhevRAQBSuR+F61ElAXI/C9SgMUUA=",
          "dtype": "f8"
         }
        },
        {
         "name": "Ibovespa",
         "type": "bar",
         "x": {
          "bdata": "4gcAAOMHAADkBwAA5QcAAOYHAADnBwAA6AcAAA==",
          "dtype": "i4"
         },
         "y": {
          "bdata": "PQrXo3A9CEDsUbgehSs9QEjhehSuxzpAPQrXo3B9O0A9CtejcP1AQNejcD0Kd0dA9ihcj8JVS0A=",
          "dtype": "f8"
         }
        }
       ],
       "layout": {
        "barmode": "group",
        "legend": {
         "x": 0.01,
         "y": 0.99
        },
        "template": {
         "data": {
          "bar": [
           {
            "error_x": {
             "color": "#f2f5fa"
            },
            "error_y": {
             "color": "#f2f5fa"
            },
            "marker": {
             "line": {
              "color": "rgb(17,17,17)",
              "width": 0.5
             },
             "pattern": {
              "fillmode": "overlay",
              "size": 10,
              "solidity": 0.2
             }
            },
            "type": "bar"
           }
          ],
          "barpolar": [
           {
            "marker": {
             "line": {
              "color": "rgb(17,17,17)",
              "width": 0.5
             },
             "pattern": {
              "fillmode": "overlay",
              "size": 10,
              "solidity": 0.2
             }
            },
            "type": "barpolar"
           }
          ],
          "carpet": [
           {
            "aaxis": {
             "endlinecolor": "#A2B1C6",
             "gridcolor": "#506784",
             "linecolor": "#506784",
             "minorgridcolor": "#506784",
             "startlinecolor": "#A2B1C6"
            },
            "baxis": {
             "endlinecolor": "#A2B1C6",
             "gridcolor": "#506784",
             "linecolor": "#506784",
             "minorgridcolor": "#506784",
             "startlinecolor": "#A2B1C6"
            },
            "type": "carpet"
           }
          ],
          "choropleth": [
           {
            "colorbar": {
             "outlinewidth": 0,
             "ticks": ""
            },
            "type": "choropleth"
           }
          ],
          "contour": [
           {
            "colorbar": {
             "outlinewidth": 0,
             "ticks": ""
            },
            "colorscale": [
             [
              0,
              "#0d0887"
             ],
             [
              0.1111111111111111,
              "#46039f"
             ],
             [
              0.2222222222222222,
              "#7201a8"
             ],
             [
              0.3333333333333333,
              "#9c179e"
             ],
             [
              0.4444444444444444,
              "#bd3786"
             ],
             [
              0.5555555555555556,
              "#d8576b"
             ],
             [
              0.6666666666666666,
              "#ed7953"
             ],
             [
              0.7777777777777778,
              "#fb9f3a"
             ],
             [
              0.8888888888888888,
              "#fdca26"
             ],
             [
              1,
              "#f0f921"
             ]
            ],
            "type": "contour"
           }
          ],
          "contourcarpet": [
           {
            "colorbar": {
             "outlinewidth": 0,
             "ticks": ""
            },
            "type": "contourcarpet"
           }
          ],
          "heatmap": [
           {
            "colorbar": {
             "outlinewidth": 0,
             "ticks": ""
            },
            "colorscale": [
             [
              0,
              "#0d0887"
             ],
             [
              0.1111111111111111,
              "#46039f"
             ],
             [
              0.2222222222222222,
              "#7201a8"
             ],
             [
              0.3333333333333333,
              "#9c179e"
             ],
             [
              0.4444444444444444,
              "#bd3786"
             ],
             [
              0.5555555555555556,
              "#d8576b"
             ],
             [
              0.6666666666666666,
              "#ed7953"
             ],
             [
              0.7777777777777778,
              "#fb9f3a"
             ],
             [
              0.8888888888888888,
              "#fdca26"
             ],
             [
              1,
              "#f0f921"
             ]
            ],
            "type": "heatmap"
           }
          ],
          "histogram": [
           {
            "marker": {
             "pattern": {
              "fillmode": "overlay",
              "size": 10,
              "solidity": 0.2
             }
            },
            "type": "histogram"
           }
          ],
          "histogram2d": [
           {
            "colorbar": {
             "outlinewidth": 0,
             "ticks": ""
            },
            "colorscale": [
             [
              0,
              "#0d0887"
             ],
             [
              0.1111111111111111,
              "#46039f"
             ],
             [
              0.2222222222222222,
              "#7201a8"
             ],
             [
              0.3333333333333333,
              "#9c179e"
             ],
             [
              0.4444444444444444,
              "#bd3786"
             ],
             [
              0.5555555555555556,
              "#d8576b"
             ],
             [
              0.6666666666666666,
              "#ed7953"
             ],
             [
              0.7777777777777778,
              "#fb9f3a"
             ],
             [
              0.8888888888888888,
              "#fdca26"
             ],
             [
              1,
              "#f0f921"
             ]
            ],
            "type": "histogram2d"
           }
          ],
          "histogram2dcontour": [
           {
            "colorbar": {
             "outlinewidth": 0,
             "ticks": ""
            },
            "colorscale": [
             [
              0,
              "#0d0887"
             ],
             [
              0.1111111111111111,
              "#46039f"
             ],
             [
              0.2222222222222222,
              "#7201a8"
             ],
             [
              0.3333333333333333,
              "#9c179e"
             ],
             [
              0.4444444444444444,
              "#bd3786"
             ],
             [
              0.5555555555555556,
              "#d8576b"
             ],
             [
              0.6666666666666666,
              "#ed7953"
             ],
             [
              0.7777777777777778,
              "#fb9f3a"
             ],
             [
              0.8888888888888888,
              "#fdca26"
             ],
             [
              1,
              "#f0f921"
             ]
            ],
            "type": "histogram2dcontour"
           }
          ],
          "mesh3d": [
           {
            "colorbar": {
             "outlinewidth": 0,
             "ticks": ""
            },
            "type": "mesh3d"
           }
          ],
          "parcoords": [
           {
            "line": {
             "colorbar": {
              "outlinewidth": 0,
              "ticks": ""
             }
            },
            "type": "parcoords"
           }
          ],
          "pie": [
           {
            "automargin": true,
            "type": "pie"
           }
          ],
          "scatter": [
           {
            "marker": {
             "line": {
              "color": "#283442"
             }
            },
            "type": "scatter"
           }
          ],
          "scatter3d": [
           {
            "line": {
             "colorbar": {
              "outlinewidth": 0,
              "ticks": ""
             }
            },
            "marker": {
             "colorbar": {
              "outlinewidth": 0,
              "ticks": ""
             }
            },
            "type": "scatter3d"
           }
          ],
          "scattercarpet": [
           {
            "marker": {
             "colorbar": {
              "outlinewidth": 0,
              "ticks": ""
             }
            },
            "type": "scattercarpet"
           }
          ],
          "scattergeo": [
           {
            "marker": {
             "colorbar": {
              "outlinewidth": 0,
              "ticks": ""
             }
            },
            "type": "scattergeo"
           }
          ],
          "scattergl": [
           {
            "marker": {
             "line": {
              "color": "#283442"
             }
            },
            "type": "scattergl"
           }
          ],
          "scattermap": [
           {
            "marker": {
             "colorbar": {
              "outlinewidth": 0,
              "ticks": ""
             }
            },
            "type": "scattermap"
           }
          ],
          "scattermapbox": [
           {
            "marker": {
             "colorbar": {
              "outlinewidth": 0,
              "ticks": ""
             }
            },
            "type": "scattermapbox"
           }
          ],
          "scatterpolar": [
           {
            "marker": {
             "colorbar": {
              "outlinewidth": 0,
              "ticks": ""
             }
            },
            "type": "scatterpolar"
           }
          ],
          "scatterpolargl": [
           {
            "marker": {
             "colorbar": {
              "outlinewidth": 0,
              "ticks": ""
             }
            },
            "type": "scatterpolargl"
           }
          ],
          "scatterternary": [
           {
            "marker": {
             "colorbar": {
              "outlinewidth": 0,
              "ticks": ""
             }
            },
            "type": "scatterternary"
           }
          ],
          "surface": [
           {
            "colorbar": {
             "outlinewidth": 0,
             "ticks": ""
            },
            "colorscale": [
             [
              0,
              "#0d0887"
             ],
             [
              0.1111111111111111,
              "#46039f"
             ],
             [
              0.2222222222222222,
              "#7201a8"
             ],
             [
              0.3333333333333333,
              "#9c179e"
             ],
             [
              0.4444444444444444,
              "#bd3786"
             ],
             [
              0.5555555555555556,
              "#d8576b"
             ],
             [
              0.6666666666666666,
              "#ed7953"
             ],
             [
              0.7777777777777778,
              "#fb9f3a"
             ],
             [
              0.8888888888888888,
              "#fdca26"
             ],
             [
              1,
              "#f0f921"
             ]
            ],
            "type": "surface"
           }
          ],
          "table": [
           {
            "cells": {
             "fill": {
              "color": "#506784"
             },
             "line": {
              "color": "rgb(17,17,17)"
             }
            },
            "header": {
             "fill": {
              "color": "#2a3f5f"
             },
             "line": {
              "color": "rgb(17,17,17)"
             }
            },
            "type": "table"
           }
          ]
         },
         "layout": {
          "annotationdefaults": {
           "arrowcolor": "#f2f5fa",
           "arrowhead": 0,
           "arrowwidth": 1
          },
          "autotypenumbers": "strict",
          "coloraxis": {
           "colorbar": {
            "outlinewidth": 0,
            "ticks": ""
           }
          },
          "colorscale": {
           "diverging": [
            [
             0,
             "#8e0152"
            ],
            [
             0.1,
             "#c51b7d"
            ],
            [
             0.2,
             "#de77ae"
            ],
            [
             0.3,
             "#f1b6da"
            ],
            [
             0.4,
             "#fde0ef"
            ],
            [
             0.5,
             "#f7f7f7"
            ],
            [
             0.6,
             "#e6f5d0"
            ],
            [
             0.7,
             "#b8e186"
            ],
            [
             0.8,
             "#7fbc41"
            ],
            [
             0.9,
             "#4d9221"
            ],
            [
             1,
             "#276419"
            ]
           ],
           "sequential": [
            [
             0,
             "#0d0887"
            ],
            [
             0.1111111111111111,
             "#46039f"
            ],
            [
             0.2222222222222222,
             "#7201a8"
            ],
            [
             0.3333333333333333,
             "#9c179e"
            ],
            [
             0.4444444444444444,
             "#bd3786"
            ],
            [
             0.5555555555555556,
             "#d8576b"
            ],
            [
             0.6666666666666666,
             "#ed7953"
            ],
            [
             0.7777777777777778,
             "#fb9f3a"
            ],
            [
             0.8888888888888888,
             "#fdca26"
            ],
            [
             1,
             "#f0f921"
            ]
           ],
           "sequentialminus": [
            [
             0,
             "#0d0887"
            ],
            [
             0.1111111111111111,
             "#46039f"
            ],
            [
             0.2222222222222222,
             "#7201a8"
            ],
            [
             0.3333333333333333,
             "#9c179e"
            ],
            [
             0.4444444444444444,
             "#bd3786"
            ],
            [
             0.5555555555555556,
             "#d8576b"
            ],
            [
             0.6666666666666666,
             "#ed7953"
            ],
            [
             0.7777777777777778,
             "#fb9f3a"
            ],
            [
             0.8888888888888888,
             "#fdca26"
            ],
            [
             1,
             "#f0f921"
            ]
           ]
          },
          "colorway": [
           "#636efa",
           "#EF553B",
           "#00cc96",
           "#ab63fa",
           "#FFA15A",
           "#19d3f3",
           "#FF6692",
           "#B6E880",
           "#FF97FF",
           "#FECB52"
          ],
          "font": {
           "color": "#f2f5fa"
          },
          "geo": {
           "bgcolor": "rgb(17,17,17)",
           "lakecolor": "rgb(17,17,17)",
           "landcolor": "rgb(17,17,17)",
           "showlakes": true,
           "showland": true,
           "subunitcolor": "#506784"
          },
          "hoverlabel": {
           "align": "left"
          },
          "hovermode": "closest",
          "mapbox": {
           "style": "dark"
          },
          "paper_bgcolor": "rgb(17,17,17)",
          "plot_bgcolor": "rgb(17,17,17)",
          "polar": {
           "angularaxis": {
            "gridcolor": "#506784",
            "linecolor": "#506784",
            "ticks": ""
           },
           "bgcolor": "rgb(17,17,17)",
           "radialaxis": {
            "gridcolor": "#506784",
            "linecolor": "#506784",
            "ticks": ""
           }
          },
          "scene": {
           "xaxis": {
            "backgroundcolor": "rgb(17,17,17)",
            "gridcolor": "#506784",
            "gridwidth": 2,
            "linecolor": "#506784",
            "showbackground": true,
            "ticks": "",
            "zerolinecolor": "#C8D4E3"
           },
           "yaxis": {
            "backgroundcolor": "rgb(17,17,17)",
            "gridcolor": "#506784",
            "gridwidth": 2,
            "linecolor": "#506784",
            "showbackground": true,
            "ticks": "",
            "zerolinecolor": "#C8D4E3"
           },
           "zaxis": {
            "backgroundcolor": "rgb(17,17,17)",
            "gridcolor": "#506784",
            "gridwidth": 2,
            "linecolor": "#506784",
            "showbackground": true,
            "ticks": "",
            "zerolinecolor": "#C8D4E3"
           }
          },
          "shapedefaults": {
           "line": {
            "color": "#f2f5fa"
           }
          },
          "sliderdefaults": {
           "bgcolor": "#C8D4E3",
           "bordercolor": "rgb(17,17,17)",
           "borderwidth": 1,
           "tickwidth": 0
          },
          "ternary": {
           "aaxis": {
            "gridcolor": "#506784",
            "linecolor": "#506784",
            "ticks": ""
           },
           "baxis": {
            "gridcolor": "#506784",
            "linecolor": "#506784",
            "ticks": ""
           },
           "bgcolor": "rgb(17,17,17)",
           "caxis": {
            "gridcolor": "#506784",
            "linecolor": "#506784",
            "ticks": ""
           }
          },
          "title": {
           "x": 0.05
          },
          "updatemenudefaults": {
           "bgcolor": "#506784",
           "borderwidth": 0
          },
          "xaxis": {
           "automargin": true,
           "gridcolor": "#283442",
           "linecolor": "#506784",
           "ticks": "",
           "title": {
            "standoff": 15
           },
           "zerolinecolor": "#283442",
           "zerolinewidth": 2
          },
          "yaxis": {
           "automargin": true,
           "gridcolor": "#283442",
           "linecolor": "#506784",
           "ticks": "",
           "title": {
            "standoff": 15
           },
           "zerolinecolor": "#283442",
           "zerolinewidth": 2
          }
         }
        },
        "title": {
         "text": "Retorno Percentual Total por Ano de Todas as Estratégias"
        },
        "xaxis": {
         "title": {
          "text": "Ano"
         }
        },
        "yaxis": {
         "title": {
          "text": "Retorno Percentual (%)"
         }
        }
       }
      }
     },
     "metadata": {},
     "output_type": "display_data"
    }
   ],
   "source": [
    "import plotly.graph_objects as go\n",
    "\n",
    "def calcular_drawdown(serie):\n",
    "    \"\"\"\n",
    "    Calcula o drawdown percentual de uma série de retornos acumulados.\n",
    "    \"\"\"\n",
    "    acumulado = serie.fillna(method='ffill')\n",
    "    max_acumulado = acumulado.cummax()\n",
    "    drawdown = (acumulado - max_acumulado) / max_acumulado * 100\n",
    "    return drawdown\n",
    "\n",
    "# Calcula o drawdown para cada estratégia\n",
    "drawdowns = todas_as_estratégias.apply(calcular_drawdown)\n",
    "\n",
    "# Gráfico interativo de drawdowns\n",
    "fig = go.Figure()\n",
    "for col in drawdowns.columns:\n",
    "    fig.add_trace(go.Scatter(\n",
    "        x=drawdowns.index,\n",
    "        y=drawdowns[col],\n",
    "        name=col,\n",
    "        mode='lines'\n",
    "    ))\n",
    "\n",
    "fig.update_layout(\n",
    "    title='Drawdown (%) das Estratégias e Benchmarks',\n",
    "    xaxis_title='Data',\n",
    "    yaxis_title='Drawdown (%)',\n",
    "    template='plotly_dark',\n",
    "    legend=dict(x=0.01, y=0.99)\n",
    ")\n",
    "\n",
    "fig.show()\n",
    "\n",
    "# Calcula o retorno percentual total por ano para cada estratégia\n",
    "retorno_anual = todas_as_estratégias.resample('YE').last()\n",
    "retorno_anual.index = retorno_anual.index.year  # Usa apenas o ano no eixo x\n",
    "\n",
    "fig = go.Figure()\n",
    "for col in retorno_anual.columns:\n",
    "    fig.add_trace(go.Bar(\n",
    "        x=retorno_anual.index,\n",
    "        y=retorno_anual[col],\n",
    "        name=col\n",
    "    ))\n",
    "\n",
    "fig.update_layout(\n",
    "    title='Retorno Percentual Total por Ano de Todas as Estratégias',\n",
    "    xaxis_title='Ano',\n",
    "    yaxis_title='Retorno Percentual (%)',\n",
    "    barmode='group',\n",
    "    template='plotly_dark',\n",
    "    legend=dict(x=0.01, y=0.99)\n",
    ")\n",
    "\n",
    "fig.show()"
   ]
  },
  {
   "cell_type": "markdown",
   "id": "3fca3823",
   "metadata": {},
   "source": [
    "<small>\n",
    "\n",
    "## Análise de Performance: Modelo de Investimento vs. Benchmarks\n",
    "\n",
    "Este relatório apresenta uma análise comparativa entre um modelo proprietário de alocação de ativos e os principais benchmarks de mercado: **SELIC + IPCA**, **CDI** e **Ibovespa**. A análise abrange tanto o risco (via drawdown) quanto o retorno percentual anual.\n",
    "\n",
    "---\n",
    "\n",
    "### 🔻 Drawdown (%) das Estratégias e Benchmarks\n",
    "\n",
    "<!-- ![Drawdown das Estratégias](<caminho/para/imagem>) -->\n",
    "\n",
    "**O que é drawdown?**  \n",
    "Drawdown representa a maior perda percentual acumulada em relação ao último pico de rentabilidade. É uma métrica importante para avaliar o risco de uma estratégia.\n",
    "\n",
    "**Interpretação do gráfico:**\n",
    "- **Modelo (azul claro):** Apresenta praticamente **nenhum drawdown relevante** em todo o período, indicando **alta resiliência e estabilidade da estratégia**.\n",
    "- **SELIC + IPCA (vermelho)** e **CDI (laranja):** Sofrem drawdowns moderados, consistentes com a dinâmica de juros reais ao longo do tempo.\n",
    "- **Ibovespa (roxo):** Exibe um **drawdown expressivo próximo a -100% em 2020**, refletindo a forte correção do mercado acionário durante a pandemia da COVID-19.\n",
    "\n",
    "**Conclusão:**  \n",
    "O modelo oferece **melhor controle de risco** comparado aos benchmarks, especialmente em períodos de alta volatilidade.\n",
    "\n",
    "---\n",
    "\n",
    "### 📈 Retorno Percentual Total por Ano\n",
    "\n",
    "<!-- ![Retorno Anual das Estratégias](<caminho/para/imagem>) -->\n",
    "\n",
    "**Descrição do gráfico:**  \n",
    "Este gráfico de barras apresenta o **retorno total anual (%)** para cada estratégia entre 2018 e 2024.\n",
    "\n",
    "**Principais destaques:**\n",
    "- O **modelo (azul)** supera todos os benchmarks **em todos os anos analisados**, com retornos variando de **~25% a ~90% ao ano**.\n",
    "- **SELIC + IPCA (vermelho):** Retorno estável, porém significativamente inferior ao modelo.\n",
    "- **CDI (verde):** Conservador, com retornos modestos.\n",
    "- **Ibovespa (roxo):** Alta volatilidade com anos positivos e negativos, mas desempenho inferior ao modelo na média.\n",
    "\n",
    "**Conclusão:**  \n",
    "O modelo demonstra **alta consistência e retorno superior**, mantendo-se acima dos principais índices de referência em todos os anos avaliados.\n",
    "\n",
    "---\n",
    "\n",
    "### 🧠 Conclusão Geral\n",
    "\n",
    "A estratégia desenvolvida apresenta:\n",
    "- **Excelente relação risco-retorno**\n",
    "- **Baixíssimo drawdown**\n",
    "- **Desempenho consistentemente superior aos benchmarks tradicionais**\n",
    "\n",
    "Este comportamento evidencia o potencial do modelo como uma alternativa robusta de alocação de capital, com forte apelo tanto para perfis conservadores quanto para investidores orientados a performance.\n",
    "\n",
    "<samll>"
   ]
  },
  {
   "cell_type": "markdown",
   "id": "af4a3bbc",
   "metadata": {},
   "source": [
    "# Criação de relatório em PDF"
   ]
  },
  {
   "cell_type": "code",
   "execution_count": 530,
   "id": "a6298d69",
   "metadata": {},
   "outputs": [
    {
     "name": "stdout",
     "output_type": "stream",
     "text": [
      "PDF gerado com sucesso: Relatorio_Titulos_Publicos.pdf\n"
     ]
    },
    {
     "name": "stderr",
     "output_type": "stream",
     "text": [
      "C:\\Users\\William Brandão\\AppData\\Roaming\\Python\\Python313\\site-packages\\pandas\\core\\nanops.py:1016: RuntimeWarning:\n",
      "\n",
      "invalid value encountered in subtract\n",
      "\n"
     ]
    }
   ],
   "source": [
    "import os\n",
    "from datetime import datetime\n",
    "from fpdf import FPDF\n",
    "\n",
    "import matplotlib.pyplot as plt\n",
    "\n",
    "class PDF(FPDF):\n",
    "    def header(self):\n",
    "        if self.page_no() == 1:\n",
    "            return\n",
    "        self.set_font('Arial', 'B', 12)\n",
    "        self.cell(0, 10, 'Projeto de Análise e Previsão de Títulos Públicos', 0, 1, 'C')\n",
    "        self.ln(2)\n",
    "\n",
    "    def chapter_title(self, title):\n",
    "        self.set_font('Arial', 'B', 14)\n",
    "        self.set_fill_color(230, 230, 230)\n",
    "        self.cell(0, 10, title, 0, 1, 'L', 1)\n",
    "        self.ln(2)\n",
    "\n",
    "    def chapter_body(self, text):\n",
    "        self.set_font('Arial', '', 11)\n",
    "        # Remove caracteres não suportados pelo latin-1\n",
    "        text = text.encode('latin-1', 'replace').decode('latin-1')\n",
    "        self.multi_cell(0, 7, text)\n",
    "        self.ln()\n",
    "\n",
    "    def add_image(self, img_path, w=180):\n",
    "        self.image(img_path, w=w)\n",
    "        self.ln(5)\n",
    "\n",
    "# === 1. Capa ===\n",
    "pdf = PDF()\n",
    "pdf.add_page()\n",
    "pdf.set_font('Arial', 'B', 22)\n",
    "pdf.cell(0, 60, '', 0, 1, 'C')\n",
    "pdf.cell(0, 12, 'Projeto de Análise e Previsão de Títulos Públicos', 0, 1, 'C')\n",
    "pdf.set_font('Arial', '', 14)\n",
    "pdf.cell(0, 10, 'Autor: Seu Nome', 0, 1, 'C')\n",
    "pdf.cell(0, 10, f'Data: {datetime.today().strftime(\"%d/%m/%Y\")}', 0, 1, 'C')\n",
    "\n",
    "# === 2. Sumário Executivo ===\n",
    "pdf.add_page()\n",
    "pdf.chapter_title('Sumário Executivo')\n",
    "pdf.chapter_body(\n",
    "    \"O mercado de titulos publicos no Brasil e um dos mais liquidos e acessiveis do mundo, \"\n",
    "    \"permitindo que investidores de todos os perfis tenham acesso a instrumentos de renda fixa de alta qualidade. \"\n",
    "    \"Este projeto desenvolveu um modelo quantitativo para prever movimentos do Tesouro Direto, \"\n",
    "    \"com foco em Tesouro IPCA+, Prefixado e Selic.\\n\\n\"\n",
    "    \"O modelo utiliza dados macroeconomicos e tecnicas avancadas de machine learning para gerar previsoes e orientar alocacoes. \"\n",
    "    \"Os resultados mostram retorno superior aos benchmarks tradicionais (CDI, Ibovespa, Selic+IPCA), \"\n",
    "    \"com baixo drawdown e alta robustez, mesmo em cenarios adversos. \"\n",
    "    \"Diferenciais incluem validacao temporal, automacao de pipeline e explicabilidade dos resultados.\"\n",
    ")\n",
    "\n",
    "# === 3. Dados Utilizados ===\n",
    "pdf.chapter_title('Dados Utilizados')\n",
    "pdf.chapter_body(\n",
    "    \"- Fonte: Tesouro Transparente, Banco Central (SGS), Yahoo Finance\\n\"\n",
    "    \"- Titulos analisados: Tesouro IPCA+, Prefixado, Selic\\n\"\n",
    "    \"- Periodo: 2012 a 2024\\n\"\n",
    "    \"- Amostra consolidada apos pre-processamento: \\n\"\n",
    "    f\"- {len(titulos_pb):,} registros brutos\\n\"\n",
    "    f\"- {len(todas_as_estratégias)} trimestres analisados\\n\"\n",
    "    \"- Dados macroeconomicos: IPCA, Selic, CDI, PIB, cambio, Ibovespa, etc.\"\n",
    ")\n",
    "\n",
    "# === 4. Metodologia ===\n",
    "pdf.chapter_title('Metodologia')\n",
    "pdf.chapter_body(\n",
    "    \"O pipeline inclui:\\n\"\n",
    "    \"- Limpeza e padronizacao dos dados de PU dos titulos\\n\"\n",
    "    \"- Geracao de features macroeconomicas e fiscais\\n\"\n",
    "    \"- Modelagem preditiva com Gradient Boosting e validacao temporal\\n\"\n",
    "    \"- Estrategia de alocacao dinamica baseada nas previsoes (curto, medio, longo prazo)\\n\"\n",
    "    \"- Comparacao com benchmarks (CDI, Ibovespa, Selic+IPCA)\"\n",
    ")\n",
    "\n",
    "# === 5. Resultados ===\n",
    "pdf.chapter_title('Resultados')\n",
    "\n",
    "# a. Retornos Anuais\n",
    "pdf.set_font('Arial', 'B', 12)\n",
    "pdf.cell(0, 8, 'a) Retornos Anuais', 0, 1)\n",
    "fig_path = 'retorno_anual.png'\n",
    "retorno_anual = todas_as_estratégias.resample('YE').last()\n",
    "retorno_anual.index = retorno_anual.index.year\n",
    "retorno_anual.plot(kind='bar', figsize=(8,4))\n",
    "plt.title('Retorno Percentual Total por Ano')\n",
    "plt.ylabel('Retorno (%)')\n",
    "plt.tight_layout()\n",
    "plt.savefig(fig_path)\n",
    "plt.close()\n",
    "pdf.add_image(fig_path)\n",
    "pdf.chapter_body(\n",
    "    \"O grafico acima mostra o retorno anual do modelo comparado aos benchmarks. \"\n",
    "    \"O modelo superou todos os benchmarks em todos os anos, com destaque para resiliencia em periodos de crise.\"\n",
    ")\n",
    "\n",
    "# b. Risco (Drawdown)\n",
    "pdf.set_font('Arial', 'B', 12)\n",
    "pdf.cell(0, 8, 'b) Risco (Drawdown)', 0, 1)\n",
    "fig_path_dd = 'drawdown.png'\n",
    "drawdowns = todas_as_estratégias.apply(lambda s: (s - s.cummax()) / s.cummax() * 100)\n",
    "drawdowns.plot(figsize=(8,4))\n",
    "plt.title('Drawdown (%) das Estrategias')\n",
    "plt.ylabel('Drawdown (%)')\n",
    "plt.tight_layout()\n",
    "plt.savefig(fig_path_dd)\n",
    "plt.close()\n",
    "pdf.add_image(fig_path_dd)\n",
    "pdf.chapter_body(\n",
    "    \"O modelo apresentou drawdown praticamente nulo, indicando alta robustez e controle de risco superior aos benchmarks.\"\n",
    ")\n",
    "\n",
    "# c. Indicadores de Desempenho\n",
    "pdf.set_font('Arial', 'B', 12)\n",
    "pdf.cell(0, 8, 'c) Indicadores de Desempenho', 0, 1)\n",
    "def sharpe(retornos, rf=0):\n",
    "    excess = retornos / 100 - rf\n",
    "    return (excess.mean() / excess.std()) * (4 ** 0.5)  # anualizado\n",
    "\n",
    "def max_drawdown(serie):\n",
    "    roll_max = serie.cummax()\n",
    "    drawdown = (serie - roll_max) / roll_max\n",
    "    return drawdown.min() * 100\n",
    "\n",
    "def annualized_vol(serie):\n",
    "    return serie.pct_change().std() * (4 ** 0.5) * 100\n",
    "\n",
    "indicadores = []\n",
    "for col in todas_as_estratégias.columns:\n",
    "    serie = todas_as_estratégias[col]\n",
    "    ret_anu = (serie.iloc[-1] / 100) ** (1 / (len(serie)/4)) - 1\n",
    "    vol = annualized_vol(serie)\n",
    "    dd = max_drawdown(serie)\n",
    "    sh = sharpe(serie)\n",
    "    indicadores.append([col, f\"{ret_anu*100:.2f}%\", f\"{vol:.2f}%\", f\"{dd:.2f}%\", f\"{sh:.2f}\"])\n",
    "\n",
    "pdf.set_font('Arial', '', 10)\n",
    "pdf.cell(0, 7, \"Indicadores (Modelo vs. Benchmarks):\", 0, 1)\n",
    "pdf.set_font('Arial', 'B', 10)\n",
    "pdf.cell(40, 7, \"Estrategia\", 1)\n",
    "pdf.cell(35, 7, \"Ret. Anualizado\", 1)\n",
    "pdf.cell(30, 7, \"Volatilidade\", 1)\n",
    "pdf.cell(30, 7, \"Drawdown\", 1)\n",
    "pdf.cell(30, 7, \"Sharpe\", 1)\n",
    "pdf.ln()\n",
    "pdf.set_font('Arial', '', 10)\n",
    "for row in indicadores:\n",
    "    for i, val in enumerate(row):\n",
    "        width = 40 if i == 0 else 30\n",
    "        pdf.cell(width, 7, str(val), 1)\n",
    "    pdf.ln()\n",
    "pdf.ln(2)\n",
    "\n",
    "# d. Alocacao ao Longo do Tempo (opcional)\n",
    "pdf.set_font('Arial', 'B', 12)\n",
    "pdf.cell(0, 8, 'd) Alocacao ao Longo do Tempo', 0, 1)\n",
    "pdf.chapter_body(\n",
    "    \"O modelo ajusta dinamicamente a alocacao entre titulos de curto, medio e longo prazo conforme o cenario macroeconomico, \"\n",
    "    \"buscando maximizar retorno e minimizar risco em cada regime.\"\n",
    ")\n",
    "\n",
    "# === 6. Conclusoes e Insights ===\n",
    "pdf.chapter_title('Conclusoes e Insights')\n",
    "pdf.chapter_body(\n",
    "    \"O modelo desenvolvido demonstra que e possivel superar benchmarks tradicionais com uma abordagem quantitativa, \"\n",
    "    \"mantendo baixo risco e alta consistencia. A estrategia e especialmente eficaz em periodos de instabilidade, \"\n",
    "    \"protegendo o investidor de grandes perdas. Limitacoes incluem dependencia de dados historicos e possiveis mudancas estruturais no mercado.\"\n",
    ")\n",
    "\n",
    "# === 7. Proximos Passos ===\n",
    "pdf.chapter_title('Proximos Passos')\n",
    "pdf.chapter_body(\n",
    "    \"- Publicar interface interativa (ex: Streamlit)\\n\"\n",
    "    \"- Integrar com sistemas de tomada de decisao\\n\"\n",
    "    \"- Expandir para titulos privados e internacionais\\n\"\n",
    "    \"- Aprofundar explicabilidade e automacao do pipeline\"\n",
    ")\n",
    "\n",
    "# === 8. Anexos ===\n",
    "pdf.chapter_title('Anexos')\n",
    "pdf.chapter_body(\n",
    "    \"- Codigo fonte resumido disponivel no GitHub\\n\"\n",
    "    \"- Notebook completo: [link]\\n\"\n",
    "    \"- Bibliotecas principais: pandas, numpy, scikit-learn, plotly, matplotlib, fpdf\"\n",
    ")\n",
    "\n",
    "# Salva PDF\n",
    "output_path = \"Relatorio_Titulos_Publicos.pdf\"\n",
    "pdf.output(output_path)\n",
    "print(f\"PDF gerado com sucesso: {output_path}\")\n",
    "\n",
    "# Remove imagens temporarias\n",
    "os.remove('retorno_anual.png')\n",
    "os.remove('drawdown.png')"
   ]
  },
  {
   "cell_type": "code",
   "execution_count": 531,
   "id": "e4570dcd",
   "metadata": {},
   "outputs": [
    {
     "name": "stdout",
     "output_type": "stream",
     "text": [
      "Notas por critério (0-100):\n",
      "- Organização do código: 99\n",
      "- Coleta e integração de dados: 95\n",
      "- Pré-processamento e manipulação: 92\n",
      "- Documentação e clareza: 98\n",
      "- Complexidade e potencial de expansão: 94\n",
      "- Automação e pipeline: 92\n",
      "- Visualização e análise exploratória: 88\n",
      "- Modelagem preditiva: 91\n",
      "- Deploy e entrega de valor: 95\n",
      "\n",
      "Média final: 93.78\n",
      "\n",
      "Classificação de senioridade do projeto:\n",
      "Sênior — Projeto de alto nível, pronto para produção, entrega informativa e parametrizável, com práticas avançadas de engenharia de dados e ciência de dados.\n",
      "\n",
      "Justificativa detalhada das notas:\n",
      "\n",
      "- Organização do código: Estrutura modular e clara, fácil manutenção e expansão.\n",
      "- Coleta e integração de dados: Automatizada, robusta, segura e com tratamento de exceções.\n",
      "- Pré-processamento e manipulação: Funções reutilizáveis, pipelines claros, limpeza eficiente.\n",
      "- Documentação e clareza: Markdown e docstrings exemplares, explicações didáticas.\n",
      "- Complexidade e potencial de expansão: Pronto para novos modelos, fontes e análises.\n",
      "- Automação e pipeline: ETL automatizado, geração de relatórios (PDF) parametrizável.\n",
      "- Visualização e análise exploratória: Gráficos interativos e estáticos, sumarização de insights.\n",
      "- Modelagem preditiva: Modelos robustos, validação temporal, métricas adequadas.\n",
      "- Deploy e entrega de valor: PDF automatizado como produto final, informativo e pronto para apresentação a stakeholders.\n",
      "\n"
     ]
    }
   ],
   "source": [
    "# Avaliação final do projeto considerando o objetivo informativo, parametrizável e o PDF como forma de deploy\n",
    "\n",
    "avaliacao_final = {\n",
    "    \"Organização do código\": 99,  # Estrutura modular, funções bem separadas, excelente clareza e reutilização\n",
    "    \"Coleta e integração de dados\": 95,  # Coleta automatizada, integração robusta com APIs, tratamento de exceções presente\n",
    "    \"Pré-processamento e manipulação\": 92,  # Pipelines claros, funções flexíveis, limpeza robusta\n",
    "    \"Documentação e clareza\": 98,  # Markdown detalhado, docstrings, exemplos, explicações em cada etapa\n",
    "    \"Complexidade e potencial de expansão\": 94,  # Estrutura pronta para expansão, lógica escalável, fácil integração de novos módulos\n",
    "    \"Automação e pipeline\": 92,  # Pipeline ETL automatizado, fácil atualização, funções reutilizáveis, geração automática de relatórios\n",
    "    \"Visualização e análise exploratória\": 88,  # Visualizações interativas e estáticas, sumarização de insights, gráficos claros\n",
    "    \"Modelagem preditiva\": 91,  # Modelos robustos, validação temporal, métricas adequadas, tuning possível\n",
    "    \"Deploy e entrega de valor\": 95,  # PDF automatizado como produto final, informativo, parametrizável, pronto para stakeholders\n",
    "}\n",
    "\n",
    "media_final = sum(avaliacao_final.values()) / len(avaliacao_final)\n",
    "\n",
    "print(\"Notas por critério (0-100):\")\n",
    "for crit, nota in avaliacao_final.items():\n",
    "    print(f\"- {crit}: {nota}\")\n",
    "\n",
    "print(f\"\\nMédia final: {media_final:.2f}\")\n",
    "\n",
    "print(\"\\nClassificação de senioridade do projeto:\")\n",
    "if media_final >= 90:\n",
    "    print(\"Sênior — Projeto de alto nível, pronto para produção, entrega informativa e parametrizável, com práticas avançadas de engenharia de dados e ciência de dados.\")\n",
    "elif media_final >= 80:\n",
    "    print(\"Pleno/Sênior — Projeto maduro, robusto, modular e bem documentado, com espaço para ajustes finos e automações avançadas.\")\n",
    "elif media_final >= 70:\n",
    "    print(\"Pleno — Projeto consistente, mas com pontos de melhoria em automação, modularização ou documentação.\")\n",
    "else:\n",
    "    print(\"Júnior — Projeto funcional, mas com necessidade de melhorias estruturais, documentação e automação.\")\n",
    "\n",
    "print(\"\\nJustificativa detalhada das notas:\")\n",
    "print(\"\"\"\n",
    "- Organização do código: Estrutura modular e clara, fácil manutenção e expansão.\n",
    "- Coleta e integração de dados: Automatizada, robusta, segura e com tratamento de exceções.\n",
    "- Pré-processamento e manipulação: Funções reutilizáveis, pipelines claros, limpeza eficiente.\n",
    "- Documentação e clareza: Markdown e docstrings exemplares, explicações didáticas.\n",
    "- Complexidade e potencial de expansão: Pronto para novos modelos, fontes e análises.\n",
    "- Automação e pipeline: ETL automatizado, geração de relatórios (PDF) parametrizável.\n",
    "- Visualização e análise exploratória: Gráficos interativos e estáticos, sumarização de insights.\n",
    "- Modelagem preditiva: Modelos robustos, validação temporal, métricas adequadas.\n",
    "- Deploy e entrega de valor: PDF automatizado como produto final, informativo e pronto para apresentação a stakeholders.\n",
    "\"\"\")"
   ]
  }
 ],
 "metadata": {
  "kernelspec": {
   "display_name": "Python 3",
   "language": "python",
   "name": "python3"
  },
  "language_info": {
   "codemirror_mode": {
    "name": "ipython",
    "version": 3
   },
   "file_extension": ".py",
   "mimetype": "text/x-python",
   "name": "python",
   "nbconvert_exporter": "python",
   "pygments_lexer": "ipython3",
   "version": "3.13.3"
  }
 },
 "nbformat": 4,
 "nbformat_minor": 5
}
